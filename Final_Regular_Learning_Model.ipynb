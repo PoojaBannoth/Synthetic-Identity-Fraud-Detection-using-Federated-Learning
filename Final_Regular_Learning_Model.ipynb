{
 "cells": [
  {
   "cell_type": "code",
   "execution_count": 1,
   "metadata": {
    "id": "iwDAW-h7150Y"
   },
   "outputs": [
    {
     "name": "stdout",
     "output_type": "stream",
     "text": [
      "Requirement already satisfied: torch in c:\\users\\sures\\anaconda3\\lib\\site-packages (1.13.1)\n",
      "Requirement already satisfied: typing-extensions in c:\\users\\sures\\anaconda3\\lib\\site-packages (from torch) (4.0.0)\n",
      "Requirement already satisfied: torchvision in c:\\users\\sures\\anaconda3\\lib\\site-packages (0.14.1)\n",
      "Requirement already satisfied: numpy in c:\\users\\sures\\anaconda3\\lib\\site-packages (from torchvision) (1.21.4)\n",
      "Requirement already satisfied: requests in c:\\users\\sures\\anaconda3\\lib\\site-packages (from torchvision) (2.26.0)\n",
      "Requirement already satisfied: torch==1.13.1 in c:\\users\\sures\\anaconda3\\lib\\site-packages (from torchvision) (1.13.1)\n",
      "Requirement already satisfied: typing-extensions in c:\\users\\sures\\anaconda3\\lib\\site-packages (from torchvision) (4.0.0)\n",
      "Requirement already satisfied: pillow!=8.3.*,>=5.3.0 in c:\\users\\sures\\anaconda3\\lib\\site-packages (from torchvision) (9.2.0)\n",
      "Requirement already satisfied: certifi>=2017.4.17 in c:\\users\\sures\\anaconda3\\lib\\site-packages (from requests->torchvision) (2022.9.14)\n",
      "Requirement already satisfied: charset-normalizer~=2.0.0 in c:\\users\\sures\\anaconda3\\lib\\site-packages (from requests->torchvision) (2.0.4)\n",
      "Requirement already satisfied: urllib3<1.27,>=1.21.1 in c:\\users\\sures\\anaconda3\\lib\\site-packages (from requests->torchvision) (1.26.11)\n",
      "Requirement already satisfied: idna<4,>=2.5 in c:\\users\\sures\\anaconda3\\lib\\site-packages (from requests->torchvision) (3.3)\n",
      "Requirement already satisfied: imblearn in c:\\users\\sures\\anaconda3\\lib\\site-packages (0.0)\n",
      "Requirement already satisfied: imbalanced-learn in c:\\users\\sures\\anaconda3\\lib\\site-packages (from imblearn) (0.10.1)\n",
      "Requirement already satisfied: joblib>=1.1.1 in c:\\users\\sures\\anaconda3\\lib\\site-packages (from imbalanced-learn->imblearn) (1.2.0)\n",
      "Requirement already satisfied: numpy>=1.17.3 in c:\\users\\sures\\anaconda3\\lib\\site-packages (from imbalanced-learn->imblearn) (1.21.4)\n",
      "Requirement already satisfied: threadpoolctl>=2.0.0 in c:\\users\\sures\\anaconda3\\lib\\site-packages (from imbalanced-learn->imblearn) (2.2.0)\n",
      "Requirement already satisfied: scikit-learn>=1.0.2 in c:\\users\\sures\\anaconda3\\lib\\site-packages (from imbalanced-learn->imblearn) (1.0.2)\n",
      "Requirement already satisfied: scipy>=1.3.2 in c:\\users\\sures\\anaconda3\\lib\\site-packages (from imbalanced-learn->imblearn) (1.9.1)\n",
      "Requirement already satisfied: sklearn in c:\\users\\sures\\anaconda3\\lib\\site-packages (0.0.post1)\n"
     ]
    }
   ],
   "source": [
    "#importing libraries\n",
    "!pip install torch \n",
    "!pip install torchvision\n",
    "!pip install imblearn\n",
    "!pip install sklearn\n",
    "import os\n",
    "import random\n",
    "from tqdm import tqdm\n",
    "import numpy as np\n",
    "import torch, torchvision\n",
    "import torch as T\n",
    "import torch.nn as nn\n",
    "import torch.nn.functional as F\n",
    "import torch.optim as optim\n",
    "from torchvision import datasets, transforms\n",
    "from torch.utils.data.dataset import Dataset   \n",
    "\n",
    "import matplotlib.pyplot as plt\n",
    "import pandas as pd\n",
    "import seaborn as sb\n",
    "\n",
    "%matplotlib inline\n",
    "\n",
    "from imblearn.over_sampling import SMOTE\n",
    "\n",
    "from sklearn.model_selection import train_test_split\n",
    "\n",
    "from numpy import vstack\n",
    "from sklearn.metrics import accuracy_score\n",
    "from sklearn.metrics import precision_score, recall_score, f1_score, confusion_matrix\n",
    "from torch.optim import SGD\n",
    "from torch.nn import BCELoss"
   ]
  },
  {
   "cell_type": "code",
   "execution_count": 2,
   "metadata": {
    "colab": {
     "base_uri": "https://localhost:8080/",
     "height": 206
    },
    "id": "4gF9u6ZU4B_a",
    "outputId": "9014b848-eab2-4ce9-8f4e-f7d92475c4af"
   },
   "outputs": [
    {
     "data": {
      "text/html": [
       "<div>\n",
       "<style scoped>\n",
       "    .dataframe tbody tr th:only-of-type {\n",
       "        vertical-align: middle;\n",
       "    }\n",
       "\n",
       "    .dataframe tbody tr th {\n",
       "        vertical-align: top;\n",
       "    }\n",
       "\n",
       "    .dataframe thead th {\n",
       "        text-align: right;\n",
       "    }\n",
       "</style>\n",
       "<table border=\"1\" class=\"dataframe\">\n",
       "  <thead>\n",
       "    <tr style=\"text-align: right;\">\n",
       "      <th></th>\n",
       "      <th>Unnamed: 0</th>\n",
       "      <th>Name</th>\n",
       "      <th>DoB</th>\n",
       "      <th>Mobile</th>\n",
       "      <th>Email</th>\n",
       "      <th>Location</th>\n",
       "      <th>label</th>\n",
       "    </tr>\n",
       "  </thead>\n",
       "  <tbody>\n",
       "    <tr>\n",
       "      <th>0</th>\n",
       "      <td>0</td>\n",
       "      <td>Misha Kumer</td>\n",
       "      <td>1972-04-18</td>\n",
       "      <td>9038740424</td>\n",
       "      <td>rohanhalder@hotmail.com</td>\n",
       "      <td>h no 19 agrawal circle hapur 968267\\n</td>\n",
       "      <td>0</td>\n",
       "    </tr>\n",
       "    <tr>\n",
       "      <th>1</th>\n",
       "      <td>1</td>\n",
       "      <td>Jayesh Krishnan</td>\n",
       "      <td>1950-05-08</td>\n",
       "      <td>6646120647</td>\n",
       "      <td>sara93@gmail.com</td>\n",
       "      <td>h no 74 hora nagar bhilai 879957\\n \\n</td>\n",
       "      <td>0</td>\n",
       "    </tr>\n",
       "    <tr>\n",
       "      <th>2</th>\n",
       "      <td>2</td>\n",
       "      <td>Suhana Mall</td>\n",
       "      <td>1931-11-07</td>\n",
       "      <td>7249906782</td>\n",
       "      <td>hguha@hotmail.com</td>\n",
       "      <td>00 698 tata chowk bhusawal 537818\\n</td>\n",
       "      <td>0</td>\n",
       "    </tr>\n",
       "    <tr>\n",
       "      <th>3</th>\n",
       "      <td>3</td>\n",
       "      <td>Drishya Mangat</td>\n",
       "      <td>2012-06-19</td>\n",
       "      <td>8095808991</td>\n",
       "      <td>fseth@gmail.com</td>\n",
       "      <td>816 dora coimbatore 986675\\n</td>\n",
       "      <td>0</td>\n",
       "    </tr>\n",
       "    <tr>\n",
       "      <th>4</th>\n",
       "      <td>4</td>\n",
       "      <td>Rati Bahl</td>\n",
       "      <td>1971-03-20</td>\n",
       "      <td>6005627215</td>\n",
       "      <td>dsahni@gmail.com</td>\n",
       "      <td>49 shanker ganj pali 316971</td>\n",
       "      <td>0</td>\n",
       "    </tr>\n",
       "  </tbody>\n",
       "</table>\n",
       "</div>"
      ],
      "text/plain": [
       "   Unnamed: 0             Name         DoB      Mobile  \\\n",
       "0           0      Misha Kumer  1972-04-18  9038740424   \n",
       "1           1  Jayesh Krishnan  1950-05-08  6646120647   \n",
       "2           2      Suhana Mall  1931-11-07  7249906782   \n",
       "3           3   Drishya Mangat  2012-06-19  8095808991   \n",
       "4           4        Rati Bahl  1971-03-20  6005627215   \n",
       "\n",
       "                     Email                               Location  label  \n",
       "0  rohanhalder@hotmail.com  h no 19 agrawal circle hapur 968267\\n      0  \n",
       "1         sara93@gmail.com  h no 74 hora nagar bhilai 879957\\n \\n      0  \n",
       "2        hguha@hotmail.com    00 698 tata chowk bhusawal 537818\\n      0  \n",
       "3          fseth@gmail.com           816 dora coimbatore 986675\\n      0  \n",
       "4         dsahni@gmail.com            49 shanker ganj pali 316971      0  "
      ]
     },
     "execution_count": 2,
     "metadata": {},
     "output_type": "execute_result"
    }
   ],
   "source": [
    "# Read the Synthetic identity dataset in the dataframe\n",
    "# data = pd.read_csv('drive/MyDrive/labeled_database.csv')\n",
    "data = pd.read_csv('labeled_gen_database_2.csv')\n",
    "data.head()"
   ]
  },
  {
   "cell_type": "code",
   "execution_count": 3,
   "metadata": {
    "colab": {
     "base_uri": "https://localhost:8080/",
     "height": 344
    },
    "id": "wNtUZ06U4OFk",
    "outputId": "c7d4a0a8-a767-4ab1-db65-f34a35430a18"
   },
   "outputs": [
    {
     "data": {
      "text/plain": [
       "0    50000\n",
       "1     2500\n",
       "Name: label, dtype: int64"
      ]
     },
     "execution_count": 3,
     "metadata": {},
     "output_type": "execute_result"
    },
    {
     "data": {
      "image/png": "[encoded data removed]",
      "text/plain": [
       "<Figure size 640x480 with 1 Axes>"
      ]
     },
     "metadata": {},
     "output_type": "display_data"
    }
   ],
   "source": [
    "#print the lebels in the histogram to see frequecy\n",
    "pd.value_counts(data['label']).plot.bar()\n",
    "plt.title('Fraud Detecttion histogram')\n",
    "plt.xlabel('label')\n",
    "plt.ylabel('Frequency')\n",
    "data['label'].value_counts()"
   ]
  },
  {
   "cell_type": "code",
   "execution_count": 4,
   "metadata": {
    "id": "2Li99jaPzpNY"
   },
   "outputs": [],
   "source": [
    "import re\n",
    "# Remove punctuation and apply case folding\n",
    "def preprocessor(text):\n",
    "    text = re.sub('<[^>]*>', '', str(text).lower())\n",
    "    emoticons = re.findall('(?::|;|=)(?:-)?(?:\\)|\\(|D|P)', text)\n",
    "    text = (re.sub('[\\W]+', ' ', text.lower()) + ' ' .join(emoticons).replace('-', ''))\n",
    "\n",
    "    return text"
   ]
  },
  {
   "cell_type": "code",
   "execution_count": 5,
   "metadata": {
    "colab": {
     "base_uri": "https://localhost:8080/",
     "height": 206
    },
    "id": "F1pq1MIYz3jZ",
    "outputId": "c4c44cc5-d8a7-42f8-a91b-10c748bb0240"
   },
   "outputs": [
    {
     "data": {
      "text/html": [
       "<div>\n",
       "<style scoped>\n",
       "    .dataframe tbody tr th:only-of-type {\n",
       "        vertical-align: middle;\n",
       "    }\n",
       "\n",
       "    .dataframe tbody tr th {\n",
       "        vertical-align: top;\n",
       "    }\n",
       "\n",
       "    .dataframe thead th {\n",
       "        text-align: right;\n",
       "    }\n",
       "</style>\n",
       "<table border=\"1\" class=\"dataframe\">\n",
       "  <thead>\n",
       "    <tr style=\"text-align: right;\">\n",
       "      <th></th>\n",
       "      <th>Unnamed: 0</th>\n",
       "      <th>Name</th>\n",
       "      <th>DoB</th>\n",
       "      <th>Mobile</th>\n",
       "      <th>Email</th>\n",
       "      <th>Location</th>\n",
       "      <th>label</th>\n",
       "    </tr>\n",
       "  </thead>\n",
       "  <tbody>\n",
       "    <tr>\n",
       "      <th>0</th>\n",
       "      <td>0</td>\n",
       "      <td>misha kumer</td>\n",
       "      <td>1972 04 18</td>\n",
       "      <td>9038740424</td>\n",
       "      <td>rohanhalder hotmail com</td>\n",
       "      <td>h no 19 agrawal circle hapur 968267</td>\n",
       "      <td>0</td>\n",
       "    </tr>\n",
       "    <tr>\n",
       "      <th>1</th>\n",
       "      <td>1</td>\n",
       "      <td>jayesh krishnan</td>\n",
       "      <td>1950 05 08</td>\n",
       "      <td>6646120647</td>\n",
       "      <td>sara93 gmail com</td>\n",
       "      <td>h no 74 hora nagar bhilai 879957</td>\n",
       "      <td>0</td>\n",
       "    </tr>\n",
       "    <tr>\n",
       "      <th>2</th>\n",
       "      <td>2</td>\n",
       "      <td>suhana mall</td>\n",
       "      <td>1931 11 07</td>\n",
       "      <td>7249906782</td>\n",
       "      <td>hguha hotmail com</td>\n",
       "      <td>00 698 tata chowk bhusawal 537818</td>\n",
       "      <td>0</td>\n",
       "    </tr>\n",
       "    <tr>\n",
       "      <th>3</th>\n",
       "      <td>3</td>\n",
       "      <td>drishya mangat</td>\n",
       "      <td>2012 06 19</td>\n",
       "      <td>8095808991</td>\n",
       "      <td>fseth gmail com</td>\n",
       "      <td>816 dora coimbatore 986675</td>\n",
       "      <td>0</td>\n",
       "    </tr>\n",
       "    <tr>\n",
       "      <th>4</th>\n",
       "      <td>4</td>\n",
       "      <td>rati bahl</td>\n",
       "      <td>1971 03 20</td>\n",
       "      <td>6005627215</td>\n",
       "      <td>dsahni gmail com</td>\n",
       "      <td>49 shanker ganj pali 316971</td>\n",
       "      <td>0</td>\n",
       "    </tr>\n",
       "  </tbody>\n",
       "</table>\n",
       "</div>"
      ],
      "text/plain": [
       "   Unnamed: 0             Name         DoB      Mobile  \\\n",
       "0           0      misha kumer  1972 04 18  9038740424   \n",
       "1           1  jayesh krishnan  1950 05 08  6646120647   \n",
       "2           2      suhana mall  1931 11 07  7249906782   \n",
       "3           3   drishya mangat  2012 06 19  8095808991   \n",
       "4           4        rati bahl  1971 03 20  6005627215   \n",
       "\n",
       "                     Email                              Location  label  \n",
       "0  rohanhalder hotmail com  h no 19 agrawal circle hapur 968267       0  \n",
       "1         sara93 gmail com     h no 74 hora nagar bhilai 879957       0  \n",
       "2        hguha hotmail com    00 698 tata chowk bhusawal 537818       0  \n",
       "3          fseth gmail com           816 dora coimbatore 986675       0  \n",
       "4         dsahni gmail com           49 shanker ganj pali 316971      0  "
      ]
     },
     "execution_count": 5,
     "metadata": {},
     "output_type": "execute_result"
    }
   ],
   "source": [
    "# apply the preprocessor to all columns\n",
    "\n",
    "data['Name'] = data['Name'].apply(preprocessor)\n",
    "data['DoB'] = data['DoB'].apply(preprocessor)\n",
    "data['Mobile'] = data['Mobile'].apply(preprocessor)\n",
    "data['Email'] = data['Email'].apply(preprocessor)\n",
    "data['Location'] = data['Location'].apply(preprocessor)\n",
    "\n",
    "data.head()"
   ]
  },
  {
   "cell_type": "code",
   "execution_count": 6,
   "metadata": {
    "colab": {
     "base_uri": "https://localhost:8080/"
    },
    "id": "lH-fjJBg4l17",
    "outputId": "fd68cbd3-b24d-4d6b-f561-fa97bd06d964"
   },
   "outputs": [
    {
     "name": "stdout",
     "output_type": "stream",
     "text": [
      "Shape of X: (52500, 6)\n",
      "Shape of y: (52500, 1)\n"
     ]
    },
    {
     "data": {
      "text/plain": [
       "array([[0, 'misha kumer', '1972 04 18', '9038740424',\n",
       "        'rohanhalder hotmail com',\n",
       "        'h no 19 agrawal circle hapur 968267 '],\n",
       "       [1, 'jayesh krishnan', '1950 05 08', '6646120647',\n",
       "        'sara93 gmail com', 'h no 74 hora nagar bhilai 879957 '],\n",
       "       [2, 'suhana mall', '1931 11 07', '7249906782',\n",
       "        'hguha hotmail com', '00 698 tata chowk bhusawal 537818 '],\n",
       "       ...,\n",
       "       [52497, 'nakul sane', '1947 01 07', '6439463054',\n",
       "        'sahilranganathan hotmail com',\n",
       "        '01 889 gopal street tadepalligudem 004421 '],\n",
       "       [52498, 'riya khalsa', '2020 08 17', '7019102981',\n",
       "        'ladarnav gmail com', '80 659 chhabra chowk kolhapur 921139 '],\n",
       "       [52499, 'kabir kar', '1914 09 24', '7024039270',\n",
       "        'dadauthkarsh yahoo com',\n",
       "        'h no 87 tripathi nagar raebareli 678392 ']], dtype=object)"
      ]
     },
     "execution_count": 6,
     "metadata": {},
     "output_type": "execute_result"
    }
   ],
   "source": [
    "#to get the shape of the data\n",
    "X = np.array(data.loc[:, data.columns != 'label'])\n",
    "y = np.array(data.loc[:, data.columns == 'label'])\n",
    "print('Shape of X: {}'.format(X.shape))\n",
    "print('Shape of y: {}'.format(y.shape))\n",
    "X"
   ]
  },
  {
   "cell_type": "code",
   "execution_count": 7,
   "metadata": {
    "colab": {
     "base_uri": "https://localhost:8080/"
    },
    "id": "4cF49e621DZ8",
    "outputId": "3aa20c1b-be72-4de0-b4d6-6971a3e2a8bd"
   },
   "outputs": [
    {
     "data": {
      "text/plain": [
       "0        misha kumer 1972 04 18 9038740424 rohanhalder ...\n",
       "1        jayesh krishnan 1950 05 08 6646120647 sara93 g...\n",
       "2        suhana mall 1931 11 07 7249906782 hguha hotmai...\n",
       "3        drishya mangat 2012 06 19 8095808991 fseth gma...\n",
       "4        rati bahl 1971 03 20 6005627215 dsahni gmail c...\n",
       "                               ...                        \n",
       "52495    umang goda 1932 11 12 9279149821 borajayesh gm...\n",
       "52496    zaina raja 1955 09 05 9803889919 upadhyayneelo...\n",
       "52497    nakul sane 1947 01 07 6439463054 sahilranganat...\n",
       "52498    riya khalsa 2020 08 17 7019102981 ladarnav gma...\n",
       "52499    kabir kar 1914 09 24 7024039270 dadauthkarsh y...\n",
       "Length: 52500, dtype: object"
      ]
     },
     "execution_count": 7,
     "metadata": {},
     "output_type": "execute_result"
    }
   ],
   "source": [
    "#feature selection\n",
    "X_f = data['Name'] + ' ' + data['DoB'] + ' ' + data['Mobile'] + ' ' +  data['Email'] + ' ' + data['Location']\n",
    "X_f"
   ]
  },
  {
   "cell_type": "code",
   "execution_count": 8,
   "metadata": {},
   "outputs": [
    {
     "name": "stdout",
     "output_type": "stream",
     "text": [
      "(52500,)\n"
     ]
    }
   ],
   "source": [
    "print(X_f.shape)"
   ]
  },
  {
   "cell_type": "code",
   "execution_count": 9,
   "metadata": {
    "colab": {
     "base_uri": "https://localhost:8080/"
    },
    "id": "o4INpQ8m1AUG",
    "outputId": "cf29e3df-aecb-4f14-a960-5c62fa7a0db6"
   },
   "outputs": [
    {
     "name": "stdout",
     "output_type": "stream",
     "text": [
      "141144\n",
      "float64\n",
      "<class 'scipy.sparse._csr.csr_matrix'>\n"
     ]
    }
   ],
   "source": [
    "##vectorization of the selected features\n",
    "from sklearn.feature_extraction.text import TfidfVectorizer\n",
    "\n",
    "tfidf_vectorizer = TfidfVectorizer(use_idf=True, norm = 'l2', smooth_idf = True)\n",
    "\n",
    "vectorized_df= tfidf_vectorizer.fit_transform(X_f)\n",
    "print(vectorized_df.shape[1])\n",
    "print(vectorized_df.dtype)\n",
    "print(type(vectorized_df))\n",
    "\n",
    "# Name 172255, 813"
   ]
  },
  {
   "cell_type": "code",
   "execution_count": 10,
   "metadata": {},
   "outputs": [
    {
     "name": "stdout",
     "output_type": "stream",
     "text": [
      "(52500, 512)\n"
     ]
    },
    {
     "data": {
      "text/plain": [
       "array([[ 0.12680982, -0.04819002, -0.04654459, ..., -0.00784358,\n",
       "        -0.01882337,  0.00501895],\n",
       "       [ 0.12812788, -0.01280948,  0.06418922, ...,  0.01144313,\n",
       "        -0.01141852, -0.00642628],\n",
       "       [ 0.09878401, -0.04857455, -0.037664  , ..., -0.00969315,\n",
       "         0.01343787, -0.00701616],\n",
       "       ...,\n",
       "       [ 0.11386966, -0.06030723, -0.0343277 , ...,  0.00482551,\n",
       "         0.01286171, -0.00938953],\n",
       "       [ 0.09307892, -0.00600914,  0.06195946, ...,  0.02627246,\n",
       "         0.01192399,  0.01654573],\n",
       "       [ 0.12272073,  0.06814234, -0.02732279, ..., -0.00731894,\n",
       "         0.00180339, -0.00774728]])"
      ]
     },
     "execution_count": 10,
     "metadata": {},
     "output_type": "execute_result"
    }
   ],
   "source": [
    " from sklearn.decomposition import TruncatedSVD        \n",
    "pca = TruncatedSVD(n_components=512)                                \n",
    "X = pca.fit_transform(vectorized_df)\n",
    "\n",
    "print(X.shape)\n",
    "X"
   ]
  },
  {
   "cell_type": "markdown",
   "metadata": {
    "id": "mUSBCwGQ5yO1"
   },
   "source": [
    "# Smote for oversampling"
   ]
  },
  {
   "cell_type": "code",
   "execution_count": 11,
   "metadata": {
    "id": "zUyvt4mD5Jj1"
   },
   "outputs": [
    {
     "name": "stdout",
     "output_type": "stream",
     "text": [
      "Before OverSampling, counts of label '1': [2500]\n",
      "Before OverSampling, counts of label '0': [50000] \n",
      "\n",
      "After OverSampling, the shape of train_X: (100000, 512)\n",
      "After OverSampling, the shape of train_y: (100000,) \n",
      "\n",
      "After OverSampling, counts of label '1': 50000\n",
      "After OverSampling, counts of label '0': 50000\n"
     ]
    }
   ],
   "source": [
    "print(\"Before OverSampling, counts of label '1': {}\".format(sum(y==1)))\n",
    "print(\"Before OverSampling, counts of label '0': {} \\n\".format(sum(y==0)))\n",
    "\n",
    "#to deal with the oversmapling smote is used\n",
    "sm = SMOTE(random_state=2)\n",
    "X_smote, y_smote = sm.fit_resample(X, y.ravel())\n",
    "\n",
    "print('After OverSampling, the shape of train_X: {}'.format(X_smote.shape))\n",
    "print('After OverSampling, the shape of train_y: {} \\n'.format(y_smote.shape))\n",
    "\n",
    "print(\"After OverSampling, counts of label '1': {}\".format(sum(y_smote==1)))\n",
    "print(\"After OverSampling, counts of label '0': {}\".format(sum(y_smote==0)))"
   ]
  },
  {
   "cell_type": "code",
   "execution_count": 12,
   "metadata": {},
   "outputs": [
    {
     "name": "stdout",
     "output_type": "stream",
     "text": [
      "[1 0 1 0 1 0 1 0 1 1 0 1 1 0 1 0 0 1 1 0 0 0 1 0 1 0 0 1 1 1 1 0 0 0 0 0 1\n",
      " 1 1 1 1 1 1 1 0 1 0 1 0 1 1 0 0 1 0 1 0 0 0 1 1 1 0 1 0 1 0 0 1 1 1 0 1 1\n",
      " 0 0 1 1 1 1 1 0 1 0 1 0 0 0 0 0 1 1 1 0 0 0 0 1 1 0 1 1 1 1 1 1 1 1 1 0 0\n",
      " 1 1 1 0 1 1 1 0 0 0 1 0 1 0 0 1 1 1 0 1 1 0 0 1 1 0 1 0 0 1 0 1 1 0 0 1 1\n",
      " 0 0 1 1 0 0 0 0 0 0 1 1 0 0 1 0 0 0 1 1 1 1 1 1 1 1 0 1 0 1 0 1 1 0 0 0 1\n",
      " 0 1 1 1 0 1 1 0 0 1 0 1 1 0 1 1 1 1 1 1 1 1 1 0 1 1 0 1 0 0 1 0 1 1 1 0 1\n",
      " 1 0 1 1 0 1 0 0 0 0 0 0 0 1 1 0 1 0 1 1 0 1 1 1 0 0 1 0 1 0 1 0 0 1 1 0 1\n",
      " 1 1 0 1 0 0 1 1 1 0 1 0 0 0 0 0 1 1 1 1 1 1 1 1 1 0 0 0 1 1 1 0 0 1 1 1 1\n",
      " 0 0 0 1 1 1 0 0 1 1 1 1 1 0 0 1 0 1 0 1 0 1 1 1 0 1 1 0 1 1 0 0 1 1 0 0 1\n",
      " 1 1 1 0 1 0 0 1 1 0 0 1 1 0 0 0 1 1 0 1 1 0 0 1 1 0 0 1 1 1 1 0 0 0 1 1 0\n",
      " 0 0 1 1 0 1 1 0 1 1 0 1 0 1 1 0 0 0 0 0 1 0 0 1 1 0 1 1 1 0 0 0 1 0 1 0 0\n",
      " 0 1 1 0 1 1 0 0 0 0 0 0 1 1 1 1 0 0 1 1 0 1 0 1 0 0 0 0 0 1 0 1 1 1 1 0 1\n",
      " 0 0 1 0 1 0 0 1 0 1 0 1 0 0 1 1 0 1 0 1 0 1 1 0 1 1 0 0 1 0 1 1 1 1 1 1 1\n",
      " 0 0 0 1 0 0 1 0 1 0 0 0 1 0 0 1 0 0 1 1 0 1 0 1 0 0 0 1 1 1 0 1 0 1 0 0 0\n",
      " 1 0 0 1 0 0 0 1 0 1 1 0 0 1 1 0 1 1 1 1 0 0 1 0 0 0 1 1 1 0 1 0 1 1 1 0 1\n",
      " 0 1 0 0 1 1 1 1 0 0 1 0 1 0 0 0 1 0 0 0 0 0 0 1 0 0 1 0 1 0 1 1 0 0 1 0 1\n",
      " 1 1 0 1 1 0 1 0 1 0 1 0 1 0 1 1 0 0 0 1 0 1 0 1 1 0 0 0 1 0 0 0 0 0 0 0 1\n",
      " 0 1 1 1 0 1 0 0 1 0 1 1 1 0 0 1 1 1 0 0 1 1 1 1 1 0 0 1 1 0 1 1 1 1 1 0 0\n",
      " 1 0 1 1 0 1 0 1 0 1 0 0 1 1 1 1 0 0 0 0 1 0 0 1 1 0 1 1 1 1 0 1 1 1 0 0 0\n",
      " 0 1 0 0 0 0 1 1 0 0 1 1 1 0 1 1 0 1 0 1 1 0 0 1 0 0 1 0 1 1 0 0 0 1 1 1 1\n",
      " 1 1 1 1 1 1 0 1 1 0 0 0 1 0 0 0 0 1 1 1 0 0 1 1 1 1 0 1 1 1 0 0 0 0 0 1 1\n",
      " 0 1 1 0 0 1 0 1 0 0 1 1 0 0 1 1 1 1 1 1 0 0 1 0 1 1 1 0 0 1 1 0 0 1 1 1 0\n",
      " 0 0 1 0 1 0 0 0 1 1 1 1 1 1 0 0 1 1 0 1 1 1 1 0 0 0 0 1 0 1 0 1 1 0 0 1 1\n",
      " 1 1 0 1 0 1 0 0 1 1 0 1 1 1 1 0 0 1 1 0 1 0 1 1 1 0 1 1 1 0 1 1 0 1 0 0 1\n",
      " 0 1 1 1 1 0 1 0 0 1 0 1 0 0 1 0 1 1 1 1 0 1 0 1 1 0 1 1 0 1 1 0 1 0 1 0 1\n",
      " 0 1 1 1 0 1 1 1 0 1 1 0 0 0 0 1 0 0 0 1 1 0 1 0 1 1 1 1 0 0 1 0 0 0 0 1 1\n",
      " 1 0 0 1 0 0 1 0 0 0 1 1 1 1 0 1 0 1 1 1 1 1 0 0 1 1 1 1 0 1 1 1 1 1 0 0 1\n",
      " 1]\n"
     ]
    }
   ],
   "source": [
    "from sklearn.utils import shuffle\n",
    "\n",
    "X_smote, y_smote = shuffle(X_smote, y_smote)\n",
    "print(y_smote[0:1000])"
   ]
  },
  {
   "cell_type": "code",
   "execution_count": 13,
   "metadata": {},
   "outputs": [
    {
     "name": "stdout",
     "output_type": "stream",
     "text": [
      "Number of identities X_train dataset:  (42000, 512)\n",
      "Number of identities y_train dataset:  (42000, 1)\n",
      "Number of identities X_test dataset:  (10500, 512)\n",
      "Number of identities y_test dataset:  (10500, 1)\n"
     ]
    }
   ],
   "source": [
    "#split the data in test and train in 20:80 ration and thier shape\n",
    "X_train, X_test, y_train, y_test = train_test_split(X, y, test_size = 0.20, random_state=0)\n",
    "\n",
    "print(\"Number of identities X_train dataset: \", X_train.shape)\n",
    "print(\"Number of identities y_train dataset: \", y_train.shape)\n",
    "print(\"Number of identities X_test dataset: \", X_test.shape)\n",
    "print(\"Number of identities y_test dataset: \", y_test.shape)"
   ]
  },
  {
   "cell_type": "code",
   "execution_count": 14,
   "metadata": {},
   "outputs": [
    {
     "name": "stdout",
     "output_type": "stream",
     "text": [
      "Number of identities X_train dataset:  (70000, 512)\n",
      "Number of identities y_train dataset:  (70000,)\n",
      "Number of identities X_test dataset:  (30000, 512)\n",
      "Number of identities y_test dataset:  (30000,)\n"
     ]
    }
   ],
   "source": [
    "#split the data in test and train in 20:80 ration and thier shape\n",
    "X_train_smote, X_test_smote, y_train_smote, y_test_smote = train_test_split(X_smote, y_smote, test_size = 0.30, random_state=0)\n",
    "\n",
    "print(\"Number of identities X_train dataset: \", X_train_smote.shape)\n",
    "print(\"Number of identities y_train dataset: \", y_train_smote.shape)\n",
    "print(\"Number of identities X_test dataset: \", X_test_smote.shape)\n",
    "print(\"Number of identities y_test dataset: \", y_test_smote.shape)"
   ]
  },
  {
   "cell_type": "markdown",
   "metadata": {},
   "source": [
    "##  Logistic Regression with smote"
   ]
  },
  {
   "cell_type": "code",
   "execution_count": 15,
   "metadata": {},
   "outputs": [
    {
     "name": "stdout",
     "output_type": "stream",
     "text": [
      "Train set: (70000, 512) (70000,)\n",
      "Test set: (30000, 512) (30000,)\n"
     ]
    }
   ],
   "source": [
    "print ('Train set:', X_train_smote.shape,  y_train_smote.shape)\n",
    "print ('Test set:', X_test_smote.shape,  y_test_smote.shape)"
   ]
  },
  {
   "cell_type": "code",
   "execution_count": 16,
   "metadata": {},
   "outputs": [
    {
     "data": {
      "text/plain": [
       "LogisticRegression()"
      ]
     },
     "execution_count": 16,
     "metadata": {},
     "output_type": "execute_result"
    }
   ],
   "source": [
    "from sklearn.linear_model import LogisticRegression\n",
    "from sklearn.metrics import confusion_matrix\n",
    "X_train_smote = np.nan_to_num(X_train_smote)\n",
    "y_train_smote = np.nan_to_num(y_train_smote)\n",
    "smote_model = LogisticRegression().fit(X_train_smote, y_train_smote)\n",
    "smote_model"
   ]
  },
  {
   "cell_type": "code",
   "execution_count": 17,
   "metadata": {},
   "outputs": [
    {
     "data": {
      "text/plain": [
       "array([1, 1, 1, ..., 0, 0, 0], dtype=int64)"
      ]
     },
     "execution_count": 17,
     "metadata": {},
     "output_type": "execute_result"
    }
   ],
   "source": [
    "X_test_smote = np.nan_to_num(X_test_smote)\n",
    "yhat_smote = smote_model.predict(X_test_smote)\n",
    "yhat_smote"
   ]
  },
  {
   "cell_type": "code",
   "execution_count": 18,
   "metadata": {},
   "outputs": [
    {
     "data": {
      "text/plain": [
       "array([[0.26540308, 0.73459692],\n",
       "       [0.40422798, 0.59577202],\n",
       "       [0.27812956, 0.72187044],\n",
       "       ...,\n",
       "       [0.8791504 , 0.1208496 ],\n",
       "       [0.52825773, 0.47174227],\n",
       "       [0.96073159, 0.03926841]])"
      ]
     },
     "execution_count": 18,
     "metadata": {},
     "output_type": "execute_result"
    }
   ],
   "source": [
    "yhat_smote_prob = smote_model.predict_proba(X_test_smote)\n",
    "yhat_smote_prob"
   ]
  },
  {
   "cell_type": "code",
   "execution_count": 19,
   "metadata": {},
   "outputs": [
    {
     "data": {
      "text/plain": [
       "0.6277333333333334"
      ]
     },
     "execution_count": 19,
     "metadata": {},
     "output_type": "execute_result"
    }
   ],
   "source": [
    "# Accuracy Score\n",
    "\n",
    "acc_score_smote = smote_model.score(X_test_smote, y_test_smote)\n",
    "acc_score_smote"
   ]
  },
  {
   "cell_type": "code",
   "execution_count": 20,
   "metadata": {},
   "outputs": [
    {
     "name": "stdout",
     "output_type": "stream",
     "text": [
      "              precision    recall  f1-score   support\n",
      "\n",
      "           0       0.63      0.59      0.61     14995\n",
      "           1       0.62      0.65      0.63     15005\n",
      "\n",
      "    accuracy                           0.62     30000\n",
      "   macro avg       0.62      0.62      0.62     30000\n",
      "weighted avg       0.62      0.62      0.62     30000\n",
      "\n"
     ]
    },
    {
     "data": {
      "text/plain": [
       "array([[8904, 6091],\n",
       "       [5194, 9811]], dtype=int64)"
      ]
     },
     "execution_count": 20,
     "metadata": {},
     "output_type": "execute_result"
    }
   ],
   "source": [
    "# Confusion Matrix\n",
    "\n",
    "from sklearn import metrics\n",
    "conf_matrix_smote = metrics.confusion_matrix(y_test_smote, yhat_smote)\n",
    "classfic_rep_smote = metrics.classification_report(y_test_smote, yhat_smote)\n",
    "print(classfic_rep_smote)\n",
    "conf_matrix_smote"
   ]
  },
  {
   "cell_type": "code",
   "execution_count": 21,
   "metadata": {},
   "outputs": [
    {
     "data": {
      "image/png": "[encoded data removed]",
      "text/plain": [
       "<Figure size 900x900 with 2 Axes>"
      ]
     },
     "metadata": {},
     "output_type": "display_data"
    }
   ],
   "source": [
    "import matplotlib.pyplot as plt\n",
    "import seaborn as sns\n",
    "plt.figure(figsize=(9,9))\n",
    "sns.heatmap(conf_matrix_smote, annot=True, fmt=\".3f\", linewidths=.5, square = True, cmap = 'Blues_r');\n",
    "plt.ylabel('Actual label');\n",
    "plt.xlabel('Predicted label');\n",
    "all_sample_title = 'Accuracy Score: {0}'.format(acc_score_smote)\n",
    "plt.title(all_sample_title, size = 15);"
   ]
  },
  {
   "cell_type": "markdown",
   "metadata": {},
   "source": [
    "## Logistic Regression without smote"
   ]
  },
  {
   "cell_type": "code",
   "execution_count": 22,
   "metadata": {},
   "outputs": [
    {
     "name": "stdout",
     "output_type": "stream",
     "text": [
      "Train set: (42000, 512) (42000,)\n",
      "Test set: (10500, 512) (10500, 1)\n"
     ]
    }
   ],
   "source": [
    "y_train = y_train.ravel()\n",
    "print ('Train set:', X_train.shape,  y_train.shape)\n",
    "print ('Test set:', X_test.shape,  y_test.shape)"
   ]
  },
  {
   "cell_type": "code",
   "execution_count": 23,
   "metadata": {},
   "outputs": [
    {
     "data": {
      "text/plain": [
       "LogisticRegression()"
      ]
     },
     "execution_count": 23,
     "metadata": {},
     "output_type": "execute_result"
    }
   ],
   "source": [
    "from sklearn.linear_model import LogisticRegression\n",
    "from sklearn.metrics import confusion_matrix\n",
    "X_train = np.nan_to_num(X_train)\n",
    "y_train = np.nan_to_num(y_train)\n",
    "model = LogisticRegression().fit(X_train, y_train)\n",
    "model"
   ]
  },
  {
   "cell_type": "code",
   "execution_count": 24,
   "metadata": {},
   "outputs": [
    {
     "data": {
      "text/plain": [
       "array([0, 0, 0, ..., 0, 0, 0], dtype=int64)"
      ]
     },
     "execution_count": 24,
     "metadata": {},
     "output_type": "execute_result"
    }
   ],
   "source": [
    "X_test = np.nan_to_num(X_test)\n",
    "yhat = model.predict(X_test)\n",
    "yhat"
   ]
  },
  {
   "cell_type": "code",
   "execution_count": 25,
   "metadata": {},
   "outputs": [
    {
     "data": {
      "text/plain": [
       "array([[0.94666318, 0.05333682],\n",
       "       [0.96115246, 0.03884754],\n",
       "       [0.96295016, 0.03704984],\n",
       "       ...,\n",
       "       [0.95349994, 0.04650006],\n",
       "       [0.95519079, 0.04480921],\n",
       "       [0.95814422, 0.04185578]])"
      ]
     },
     "execution_count": 25,
     "metadata": {},
     "output_type": "execute_result"
    }
   ],
   "source": [
    "yhat_prob = model.predict_proba(X_test)\n",
    "yhat_prob"
   ]
  },
  {
   "cell_type": "code",
   "execution_count": 26,
   "metadata": {},
   "outputs": [
    {
     "data": {
      "text/plain": [
       "0.9524761904761905"
      ]
     },
     "execution_count": 26,
     "metadata": {},
     "output_type": "execute_result"
    }
   ],
   "source": [
    "#Accuracy Score\n",
    "\n",
    "acc_score = model.score(X_test, y_test)\n",
    "acc_score"
   ]
  },
  {
   "cell_type": "code",
   "execution_count": 27,
   "metadata": {},
   "outputs": [
    {
     "name": "stdout",
     "output_type": "stream",
     "text": [
      "              precision    recall  f1-score   support\n",
      "\n",
      "           0       0.95      1.00      0.98     10001\n",
      "           1       0.00      0.00      0.00       499\n",
      "\n",
      "    accuracy                           0.95     10500\n",
      "   macro avg       0.48      0.50      0.49     10500\n",
      "weighted avg       0.91      0.95      0.93     10500\n",
      "\n"
     ]
    },
    {
     "name": "stderr",
     "output_type": "stream",
     "text": [
      "C:\\Users\\sures\\anaconda3\\lib\\site-packages\\sklearn\\metrics\\_classification.py:1318: UndefinedMetricWarning: Precision and F-score are ill-defined and being set to 0.0 in labels with no predicted samples. Use `zero_division` parameter to control this behavior.\n",
      "  _warn_prf(average, modifier, msg_start, len(result))\n",
      "C:\\Users\\sures\\anaconda3\\lib\\site-packages\\sklearn\\metrics\\_classification.py:1318: UndefinedMetricWarning: Precision and F-score are ill-defined and being set to 0.0 in labels with no predicted samples. Use `zero_division` parameter to control this behavior.\n",
      "  _warn_prf(average, modifier, msg_start, len(result))\n",
      "C:\\Users\\sures\\anaconda3\\lib\\site-packages\\sklearn\\metrics\\_classification.py:1318: UndefinedMetricWarning: Precision and F-score are ill-defined and being set to 0.0 in labels with no predicted samples. Use `zero_division` parameter to control this behavior.\n",
      "  _warn_prf(average, modifier, msg_start, len(result))\n"
     ]
    },
    {
     "data": {
      "text/plain": [
       "array([[10001,     0],\n",
       "       [  499,     0]], dtype=int64)"
      ]
     },
     "execution_count": 27,
     "metadata": {},
     "output_type": "execute_result"
    }
   ],
   "source": [
    "# Confusion Matrix\n",
    "\n",
    "from sklearn import metrics\n",
    "conf_matrix = metrics.confusion_matrix(y_test, yhat)\n",
    "classfic_rep = metrics.classification_report(y_test, yhat)\n",
    "print(classfic_rep)\n",
    "conf_matrix"
   ]
  },
  {
   "cell_type": "code",
   "execution_count": 28,
   "metadata": {
    "scrolled": true
   },
   "outputs": [
    {
     "data": {
      "image/png": "[encoded data removed]",
      "text/plain": [
       "<Figure size 900x900 with 2 Axes>"
      ]
     },
     "metadata": {},
     "output_type": "display_data"
    }
   ],
   "source": [
    "import matplotlib.pyplot as plt\n",
    "import seaborn as sns\n",
    "plt.figure(figsize=(9,9))\n",
    "sns.heatmap(conf_matrix, annot=True, fmt=\".3f\", linewidths=.5, square = True, cmap = 'Blues_r');\n",
    "plt.ylabel('Actual label');\n",
    "plt.xlabel('Predicted label');\n",
    "all_sample_title = 'Accuracy Score: {0}'.format(acc_score)\n",
    "plt.title(all_sample_title, size = 15);"
   ]
  },
  {
   "cell_type": "markdown",
   "metadata": {},
   "source": [
    "## Random forest with smote"
   ]
  },
  {
   "cell_type": "code",
   "execution_count": 20,
   "metadata": {},
   "outputs": [
    {
     "name": "stdout",
     "output_type": "stream",
     "text": [
      "Train set: (70000, 512) (70000,)\n",
      "Test set: (30000, 512) (30000,)\n"
     ]
    }
   ],
   "source": [
    "print ('Train set:', X_train_smote.shape,  y_train_smote.shape)\n",
    "print ('Test set:', X_test_smote.shape,  y_test_smote.shape)"
   ]
  },
  {
   "cell_type": "code",
   "execution_count": 22,
   "metadata": {},
   "outputs": [
    {
     "name": "stdout",
     "output_type": "stream",
     "text": [
      "ACCURACY OF THE MODEL:  0.9663\n",
      "Recall OF THE MODEL:  0.9663\n",
      "F1 Score OF THE MODEL:  0.9658941402692035\n",
      "Confusion matrix:  [[14673   286]\n",
      " [  725 14316]]\n",
      "Classification report:                precision    recall  f1-score   support\n",
      "\n",
      "           0       0.95      0.98      0.97     14959\n",
      "           1       0.98      0.95      0.97     15041\n",
      "\n",
      "    accuracy                           0.97     30000\n",
      "   macro avg       0.97      0.97      0.97     30000\n",
      "weighted avg       0.97      0.97      0.97     30000\n",
      "\n"
     ]
    },
    {
     "data": {
      "image/png": "[encoded data removed]",
      "text/plain": [
       "<Figure size 900x900 with 2 Axes>"
      ]
     },
     "metadata": {},
     "output_type": "display_data"
    }
   ],
   "source": [
    "from sklearn.ensemble import RandomForestClassifier\n",
    "from sklearn import metrics\n",
    "\n",
    "clf_smote = RandomForestClassifier(n_estimators = 10)  \n",
    "  \n",
    "# Training the model on the training dataset\n",
    "# fit function is used to train the model using the training sets as parameters\n",
    "clf_smote.fit(X_train_smote, y_train_smote)\n",
    "  \n",
    "# performing predictions on the test dataset\n",
    "y_pred_smote = clf_smote.predict(X_test_smote)\n",
    "  \n",
    "# using metrics module for accuracy calculation\n",
    "acc_rand_smote = metrics.accuracy_score(y_test_smote, y_pred_smote)\n",
    "print(\"ACCURACY OF THE MODEL: \", acc_rand_smote)\n",
    "\n",
    "rec_rand_smote = metrics.recall_score(y_test_smote, y_pred_smote)\n",
    "print(\"Recall OF THE MODEL: \", acc_rand_smote)\n",
    "\n",
    "f1_rand_smote = metrics.f1_score(y_test_smote, y_pred_smote)\n",
    "print(\"F1 Score OF THE MODEL: \", f1_rand_smote)\n",
    "\n",
    "# using metrics module for confusion matrix\n",
    "conf_rand_smote = metrics.confusion_matrix(y_test_smote, y_pred_smote)\n",
    "                                           \n",
    "print(\"Confusion matrix: \", conf_rand_smote)\n",
    "\n",
    "# using metrics module for classification report\n",
    "class_rand_smote = metrics.classification_report(y_test_smote, y_pred_smote)\n",
    "print(\"Classification report: \", class_rand_smote)\n",
    "\n",
    "import matplotlib.pyplot as plt\n",
    "import seaborn as sns\n",
    "plt.figure(figsize=(9,9))\n",
    "sns.heatmap(conf_rand_smote, annot=True, fmt=\".3f\", linewidths=.5, square = True, cmap = 'Blues_r');\n",
    "plt.ylabel('Actual label');\n",
    "plt.xlabel('Predicted label');\n",
    "all_sample_title = 'Accuracy Score: {0}'.format(acc_rand_smote)\n",
    "plt.title(all_sample_title, size = 15);"
   ]
  },
  {
   "cell_type": "markdown",
   "metadata": {},
   "source": [
    "## Random Forest without smote"
   ]
  },
  {
   "cell_type": "code",
   "execution_count": 31,
   "metadata": {},
   "outputs": [
    {
     "name": "stdout",
     "output_type": "stream",
     "text": [
      "Train set: (42000, 512) (42000,)\n",
      "Test set: (10500, 512) (10500, 1)\n"
     ]
    }
   ],
   "source": [
    "y_train = y_train.ravel()\n",
    "print ('Train set:', X_train.shape,  y_train.shape)\n",
    "print ('Test set:', X_test.shape,  y_test.shape)"
   ]
  },
  {
   "cell_type": "code",
   "execution_count": 32,
   "metadata": {},
   "outputs": [
    {
     "name": "stdout",
     "output_type": "stream",
     "text": [
      "ACCURACY OF THE MODEL:  0.9521904761904761\n",
      "Confusion matrix:  [[9998    3]\n",
      " [ 499    0]]\n",
      "Classification report:                precision    recall  f1-score   support\n",
      "\n",
      "           0       0.95      1.00      0.98     10001\n",
      "           1       0.00      0.00      0.00       499\n",
      "\n",
      "    accuracy                           0.95     10500\n",
      "   macro avg       0.48      0.50      0.49     10500\n",
      "weighted avg       0.91      0.95      0.93     10500\n",
      "\n"
     ]
    },
    {
     "data": {
      "image/png": "[encoded data removed]",
      "text/plain": [
       "<Figure size 900x900 with 2 Axes>"
      ]
     },
     "metadata": {},
     "output_type": "display_data"
    }
   ],
   "source": [
    "from sklearn.ensemble import RandomForestClassifier\n",
    "from sklearn import metrics\n",
    "\n",
    "clf = RandomForestClassifier(n_estimators = 10)  \n",
    "  \n",
    "# Training the model on the training dataset\n",
    "# fit function is used to train the model using the training sets as parameters\n",
    "clf.fit(X_train, y_train)\n",
    "  \n",
    "# performing predictions on the test dataset\n",
    "y_pred = clf.predict(X_test)\n",
    "  \n",
    "# using metrics module for accuracy calculation\n",
    "acc_rand = metrics.accuracy_score(y_test, y_pred)\n",
    "print(\"ACCURACY OF THE MODEL: \", acc_rand)\n",
    "\n",
    "# using metrics module for confusion matrix\n",
    "conf_rand = metrics.confusion_matrix(y_test, y_pred)\n",
    "print(\"Confusion matrix: \", conf_rand)\n",
    "\n",
    "# using metrics module for classification report\n",
    "class_rand = metrics.classification_report(y_test, y_pred)\n",
    "print(\"Classification report: \", class_rand)\n",
    "\n",
    "import matplotlib.pyplot as plt\n",
    "import seaborn as sns\n",
    "plt.figure(figsize=(9,9))\n",
    "sns.heatmap(conf_rand, annot=True, fmt=\".3f\", linewidths=.5, square = True, cmap = 'Blues_r');\n",
    "plt.ylabel('Actual label');\n",
    "plt.xlabel('Predicted label');\n",
    "all_sample_title = 'Accuracy Score: {0}'.format(acc_rand)\n",
    "plt.title(all_sample_title, size = 15);"
   ]
  },
  {
   "cell_type": "markdown",
   "metadata": {},
   "source": [
    "## KNN with Smote"
   ]
  },
  {
   "cell_type": "code",
   "execution_count": 33,
   "metadata": {},
   "outputs": [
    {
     "name": "stdout",
     "output_type": "stream",
     "text": [
      "Train set: (70000, 512) (70000,)\n",
      "Test set: (30000, 512) (30000,)\n"
     ]
    }
   ],
   "source": [
    "print ('Train set:', X_train_smote.shape,  y_train_smote.shape)\n",
    "print ('Test set:', X_test_smote.shape,  y_test_smote.shape)"
   ]
  },
  {
   "cell_type": "code",
   "execution_count": 34,
   "metadata": {},
   "outputs": [
    {
     "name": "stderr",
     "output_type": "stream",
     "text": [
      "C:\\Users\\sures\\anaconda3\\lib\\site-packages\\sklearn\\neighbors\\_classification.py:228: FutureWarning: Unlike other reduction functions (e.g. `skew`, `kurtosis`), the default behavior of `mode` typically preserves the axis it acts along. In SciPy 1.11.0, this behavior will change: the default value of `keepdims` will become False, the `axis` over which the statistic is taken will be eliminated, and the value None will no longer be accepted. Set `keepdims` to True or False to avoid this warning.\n",
      "  mode, _ = stats.mode(_y[neigh_ind, k], axis=1)\n"
     ]
    },
    {
     "name": "stdout",
     "output_type": "stream",
     "text": [
      "ACCURACY OF THE MODEL:  0.5448666666666667\n",
      "Confusion matrix:  [[ 1341 13654]\n",
      " [    0 15005]]\n",
      "Classification report:                precision    recall  f1-score   support\n",
      "\n",
      "           0       1.00      0.09      0.16     14995\n",
      "           1       0.52      1.00      0.69     15005\n",
      "\n",
      "    accuracy                           0.54     30000\n",
      "   macro avg       0.76      0.54      0.43     30000\n",
      "weighted avg       0.76      0.54      0.43     30000\n",
      "\n"
     ]
    },
    {
     "data": {
      "image/png": "[encoded data removed]",
      "text/plain": [
       "<Figure size 900x900 with 2 Axes>"
      ]
     },
     "metadata": {},
     "output_type": "display_data"
    }
   ],
   "source": [
    "from sklearn.preprocessing import StandardScaler\n",
    "scaler = StandardScaler()\n",
    "scaler.fit(X_train_smote)\n",
    "\n",
    "X_train = scaler.transform(X_train_smote)\n",
    "X_test = scaler.transform(X_test_smote)\n",
    "\n",
    "\n",
    "from sklearn.neighbors import KNeighborsClassifier\n",
    "classifier = KNeighborsClassifier(n_neighbors=5, metric='minkowski')\n",
    "classifier.fit(X_train_smote, y_train_smote)\n",
    "\n",
    "\n",
    "y_pred_smote = classifier.predict(X_test_smote)\n",
    "\n",
    "# using metrics module for accuracy calculation\n",
    "acc_knn_smote = metrics.accuracy_score(y_test_smote, y_pred_smote)\n",
    "print(\"ACCURACY OF THE MODEL: \", acc_knn_smote)\n",
    "\n",
    "# using metrics module for confusion matrix\n",
    "conf_knn_smote = metrics.confusion_matrix(y_test_smote, y_pred_smote)                                       \n",
    "print(\"Confusion matrix: \", conf_knn_smote)\n",
    "\n",
    "# using metrics module for classification report\n",
    "class_knn_smote = metrics.classification_report(y_test_smote, y_pred_smote)\n",
    "print(\"Classification report: \", class_knn_smote)\n",
    "\n",
    "import matplotlib.pyplot as plt\n",
    "import seaborn as sns\n",
    "plt.figure(figsize=(9,9))\n",
    "sns.heatmap(conf_knn_smote, annot=True, fmt=\".3f\", linewidths=.5, square = True, cmap = 'Blues_r');\n",
    "plt.ylabel('Actual label');\n",
    "plt.xlabel('Predicted label');\n",
    "all_sample_title = 'Accuracy Score: {0}'.format(acc_knn_smote)\n",
    "plt.title(all_sample_title, size = 15);"
   ]
  },
  {
   "cell_type": "code",
   "execution_count": 16,
   "metadata": {},
   "outputs": [
    {
     "name": "stderr",
     "output_type": "stream",
     "text": [
      "C:\\Users\\sures\\anaconda3\\lib\\site-packages\\sklearn\\neighbors\\_classification.py:198: DataConversionWarning: A column-vector y was passed when a 1d array was expected. Please change the shape of y to (n_samples,), for example using ravel().\n",
      "  return self._fit(X, y)\n",
      "C:\\Users\\sures\\anaconda3\\lib\\site-packages\\sklearn\\neighbors\\_classification.py:228: FutureWarning: Unlike other reduction functions (e.g. `skew`, `kurtosis`), the default behavior of `mode` typically preserves the axis it acts along. In SciPy 1.11.0, this behavior will change: the default value of `keepdims` will become False, the `axis` over which the statistic is taken will be eliminated, and the value None will no longer be accepted. Set `keepdims` to True or False to avoid this warning.\n",
      "  mode, _ = stats.mode(_y[neigh_ind, k], axis=1)\n"
     ]
    },
    {
     "name": "stdout",
     "output_type": "stream",
     "text": [
      "ACCURACY OF THE MODEL:  0.9522857142857143\n",
      "Confusion matrix:  [[9999    2]\n",
      " [ 499    0]]\n",
      "Classification report:                precision    recall  f1-score   support\n",
      "\n",
      "           0       0.95      1.00      0.98     10001\n",
      "           1       0.00      0.00      0.00       499\n",
      "\n",
      "    accuracy                           0.95     10500\n",
      "   macro avg       0.48      0.50      0.49     10500\n",
      "weighted avg       0.91      0.95      0.93     10500\n",
      "\n"
     ]
    },
    {
     "data": {
      "image/png": "[encoded data removed]",
      "text/plain": [
       "<Figure size 900x900 with 2 Axes>"
      ]
     },
     "metadata": {},
     "output_type": "display_data"
    }
   ],
   "source": [
    "# KNN wihout smote\n",
    "\n",
    "from sklearn.preprocessing import StandardScaler\n",
    "from sklearn import metrics\n",
    "scaler = StandardScaler()\n",
    "scaler.fit(X_train)\n",
    "\n",
    "X_train = scaler.transform(X_train)\n",
    "X_test = scaler.transform(X_test)\n",
    "\n",
    "\n",
    "from sklearn.neighbors import KNeighborsClassifier\n",
    "classifier = KNeighborsClassifier(n_neighbors=5, metric='minkowski')\n",
    "classifier.fit(X_train, y_train)\n",
    "\n",
    "\n",
    "y_pred = classifier.predict(X_test)\n",
    "\n",
    "# using metrics module for accuracy calculation\n",
    "acc_knn = metrics.accuracy_score(y_test, y_pred)\n",
    "print(\"ACCURACY OF THE MODEL: \", acc_knn)\n",
    "\n",
    "# using metrics module for confusion matrix\n",
    "conf_knn = metrics.confusion_matrix(y_test, y_pred)                                       \n",
    "print(\"Confusion matrix: \", conf_knn)\n",
    "\n",
    "# using metrics module for classification report\n",
    "class_knn = metrics.classification_report(y_test, y_pred)\n",
    "print(\"Classification report: \", class_knn)\n",
    "\n",
    "import matplotlib.pyplot as plt\n",
    "import seaborn as sns\n",
    "plt.figure(figsize=(9,9))\n",
    "sns.heatmap(conf_knn, annot=True, fmt=\".3f\", linewidths=.5, square = True, cmap = 'Blues_r');\n",
    "plt.ylabel('Actual label');\n",
    "plt.xlabel('Predicted label');\n",
    "all_sample_title = 'Accuracy Score: {0}'.format(acc_knn)\n",
    "plt.title(all_sample_title, size = 15);"
   ]
  },
  {
   "cell_type": "markdown",
   "metadata": {},
   "source": [
    "# Neural Network"
   ]
  },
  {
   "cell_type": "code",
   "execution_count": 30,
   "metadata": {},
   "outputs": [
    {
     "name": "stdout",
     "output_type": "stream",
     "text": [
      "Epoch 1/10\n",
      "2188/2188 [==============================] - 38s 12ms/step - loss: 0.3256 - accuracy: 0.8481 - val_loss: 0.1355 - val_accuracy: 0.9497\n",
      "Epoch 2/10\n",
      "2188/2188 [==============================] - 24s 11ms/step - loss: 0.0788 - accuracy: 0.9718 - val_loss: 0.0945 - val_accuracy: 0.9648\n",
      "Epoch 3/10\n",
      "2188/2188 [==============================] - 22s 10ms/step - loss: 0.0453 - accuracy: 0.9835 - val_loss: 0.0889 - val_accuracy: 0.9672\n",
      "Epoch 4/10\n",
      "2188/2188 [==============================] - 22s 10ms/step - loss: 0.0330 - accuracy: 0.9883 - val_loss: 0.0891 - val_accuracy: 0.9698\n",
      "Epoch 5/10\n",
      "2188/2188 [==============================] - 23s 11ms/step - loss: 0.0285 - accuracy: 0.9898 - val_loss: 0.0906 - val_accuracy: 0.9697\n",
      "Epoch 6/10\n",
      "2188/2188 [==============================] - 22s 10ms/step - loss: 0.0224 - accuracy: 0.9918 - val_loss: 0.0806 - val_accuracy: 0.9745\n",
      "Epoch 7/10\n",
      "2188/2188 [==============================] - 24s 11ms/step - loss: 0.0208 - accuracy: 0.9928 - val_loss: 0.0789 - val_accuracy: 0.9758\n",
      "Epoch 8/10\n",
      "2188/2188 [==============================] - 22s 10ms/step - loss: 0.0173 - accuracy: 0.9939 - val_loss: 0.0997 - val_accuracy: 0.9710\n",
      "Epoch 9/10\n",
      "2188/2188 [==============================] - 20s 9ms/step - loss: 0.0161 - accuracy: 0.9944 - val_loss: 0.0828 - val_accuracy: 0.9749\n",
      "Epoch 10/10\n",
      "2188/2188 [==============================] - 22s 10ms/step - loss: 0.0155 - accuracy: 0.9944 - val_loss: 0.0893 - val_accuracy: 0.9727\n"
     ]
    }
   ],
   "source": [
    "\n",
    "from keras.models import Sequential\n",
    "from keras.layers import Dense\n",
    "from keras import optimizers\n",
    "from keras.callbacks import EarlyStopping,ModelCheckpoint\n",
    "from keras.utils import to_categorical\n",
    "from keras import backend as K\n",
    "from keras.layers import Dropout\n",
    "\n",
    "earlystopping = EarlyStopping(monitor = 'val_loss',\n",
    "                              min_delta = 0.01,\n",
    "                              patience = 50,\n",
    "                              verbose = 1,\n",
    "                              baseline = 2,\n",
    "                              restore_best_weights = True)\n",
    "\n",
    "checkpoint = ModelCheckpoint('test.h8',\n",
    "                             monitor='val_loss',\n",
    "                             mode='min',\n",
    "                             save_best_only=True,\n",
    "                             verbose=1)\n",
    "    \n",
    "\n",
    "model = Sequential()\n",
    "model.add(Dense(70, input_dim=512, activation='relu'))\n",
    "model.add(Dense(50, activation='relu'))\n",
    "model.add(Dense(50, activation='relu'))\n",
    "model.add(Dense(1, activation='sigmoid'))\n",
    "model.compile(loss='binary_crossentropy', optimizer='adam',metrics=['accuracy'])\n",
    "history = model.fit(X_train_smote, y_train_smote, batch_size = 32, epochs=10, validation_data=(X_test_smote, y_test_smote), callbacks = [earlystopping], shuffle=True)\n"
   ]
  },
  {
   "cell_type": "code",
   "execution_count": null,
   "metadata": {},
   "outputs": [],
   "source": [
    "yhat_probs = model.predict(X_test_smote, verbose=0)\n",
    "# predict crisp classes for test set\n",
    "y_pred = tf.where(yhat_probs<=0.5,0,1)\n",
    "accuracy = accuracy_score(y_test_smote, y_pred)\n",
    "print('Accuracy: %f' % accuracy)\n",
    "# precision tp / (tp + fp)\n",
    "precision = precision_score(y_test_smote, y_pred)\n",
    "print('Precision: %f' % precision)\n",
    "# recall: tp / (tp + fn)\n",
    "recall = recall_score(y_test_smote, y_pred)\n",
    "print('Recall: %f' % recall)\n",
    "# f1: 2 tp / (2 tp + fp + fn)\n",
    "f1 = f1_score(y_test_smote, y_pred)\n",
    "print('F1 score: %f' % f1)"
   ]
  }
 ],
 "metadata": {
  "accelerator": "GPU",
  "colab": {
   "provenance": []
  },
  "gpuClass": "standard",
  "kernelspec": {
   "display_name": "Python 3 (ipykernel)",
   "language": "python",
   "name": "python3"
  },
  "language_info": {
   "codemirror_mode": {
    "name": "ipython",
    "version": 3
   },
   "file_extension": ".py",
   "mimetype": "text/x-python",
   "name": "python",
   "nbconvert_exporter": "python",
   "pygments_lexer": "ipython3",
   "version": "3.9.13"
  }
 },
 "nbformat": 4,
 "nbformat_minor": 1
}
