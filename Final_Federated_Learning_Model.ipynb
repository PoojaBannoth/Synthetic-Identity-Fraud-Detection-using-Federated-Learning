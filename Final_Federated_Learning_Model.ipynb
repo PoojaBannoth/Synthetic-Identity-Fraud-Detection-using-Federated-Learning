{
 "cells": [
  {
   "cell_type": "code",
   "execution_count": 2,
   "metadata": {
    "id": "uZUO1X2Kb2e9"
   },
   "outputs": [],
   "source": [
    "#IMPORTS\n",
    "\n",
    "import numpy as np\n",
    "import random\n",
    "import tensorflow as tf\n",
    "import tensorflow.keras as kr\n",
    "import tensorflow.keras.backend as K\n",
    "from tensorflow.keras.models import Model\n",
    "from tensorflow.keras.layers import Input, Conv2D, MaxPooling2D, Flatten, Dense\n",
    "from tensorflow.keras.datasets import mnist\n",
    "import os\n",
    "import csv\n",
    "\n",
    "from scipy.spatial.distance import euclidean\n",
    "from sklearn.metrics import confusion_matrix\n",
    "\n",
    "from time import sleep\n",
    "from tqdm import tqdm\n",
    "\n",
    "import copy\n",
    "import numpy\n",
    "from sklearn.datasets import make_classification\n",
    "from sklearn.ensemble import RandomForestClassifier\n",
    "import pandas as pd\n",
    "import matplotlib.pyplot as plt\n",
    "import math\n",
    "import seaborn as sns\n",
    "from numpy.random import RandomState\n",
    "import scipy as scp\n",
    "from sklearn.model_selection import train_test_split\n",
    "from sklearn.compose import ColumnTransformer\n",
    "from sklearn.preprocessing import OneHotEncoder, LabelEncoder\n",
    "from keras.models import Sequential\n",
    "from keras.layers import Dense\n",
    "from keras import optimizers\n",
    "from keras.callbacks import EarlyStopping,ModelCheckpoint\n",
    "from keras.utils import to_categorical\n",
    "from keras import backend as K\n",
    "from itertools import product\n",
    "from sklearn.metrics import accuracy_score\n",
    "from sklearn.metrics import precision_score\n",
    "from sklearn.metrics import recall_score\n",
    "from sklearn.metrics import f1_score\n",
    "from sklearn.metrics import roc_auc_score\n",
    "from sklearn.metrics import confusion_matrix\n",
    "from imblearn.over_sampling import SMOTE\n",
    "\n",
    "from sklearn import mixture\n",
    "\n",
    "from mpl_toolkits.mplot3d import Axes3D\n",
    "import matplotlib.pyplot as plt\n",
    "%matplotlib inline"
   ]
  },
  {
   "cell_type": "code",
   "execution_count": 3,
   "metadata": {
    "colab": {
     "base_uri": "https://localhost:8080/"
    },
    "id": "lQ4Wrcd8cDC9",
    "outputId": "5b842f27-5787-4807-cbfc-2b2bf4a6548e"
   },
   "outputs": [],
   "source": [
    "# Import drive if you are using google colab\n",
    "\n",
    "# from google.colab import drive\n",
    "# drive.mount('/content/drive/')"
   ]
  },
  {
   "cell_type": "code",
   "execution_count": 4,
   "metadata": {
    "colab": {
     "base_uri": "https://localhost:8080/",
     "height": 206
    },
    "id": "h2nxwUpgcFxJ",
    "outputId": "b62d9fc9-e8e5-4ffb-940e-71676727f20f"
   },
   "outputs": [
    {
     "data": {
      "text/html": [
       "<div>\n",
       "<style scoped>\n",
       "    .dataframe tbody tr th:only-of-type {\n",
       "        vertical-align: middle;\n",
       "    }\n",
       "\n",
       "    .dataframe tbody tr th {\n",
       "        vertical-align: top;\n",
       "    }\n",
       "\n",
       "    .dataframe thead th {\n",
       "        text-align: right;\n",
       "    }\n",
       "</style>\n",
       "<table border=\"1\" class=\"dataframe\">\n",
       "  <thead>\n",
       "    <tr style=\"text-align: right;\">\n",
       "      <th></th>\n",
       "      <th>Unnamed: 0</th>\n",
       "      <th>Name</th>\n",
       "      <th>DoB</th>\n",
       "      <th>Mobile</th>\n",
       "      <th>Email</th>\n",
       "      <th>Location</th>\n",
       "      <th>label</th>\n",
       "    </tr>\n",
       "  </thead>\n",
       "  <tbody>\n",
       "    <tr>\n",
       "      <th>0</th>\n",
       "      <td>0</td>\n",
       "      <td>Misha Kumer</td>\n",
       "      <td>1972-04-18</td>\n",
       "      <td>9038740424</td>\n",
       "      <td>rohanhalder@hotmail.com</td>\n",
       "      <td>h no 19 agrawal circle hapur 968267\\n</td>\n",
       "      <td>0</td>\n",
       "    </tr>\n",
       "    <tr>\n",
       "      <th>1</th>\n",
       "      <td>1</td>\n",
       "      <td>Jayesh Krishnan</td>\n",
       "      <td>1950-05-08</td>\n",
       "      <td>6646120647</td>\n",
       "      <td>sara93@gmail.com</td>\n",
       "      <td>h no 74 hora nagar bhilai 879957\\n \\n</td>\n",
       "      <td>0</td>\n",
       "    </tr>\n",
       "    <tr>\n",
       "      <th>2</th>\n",
       "      <td>2</td>\n",
       "      <td>Suhana Mall</td>\n",
       "      <td>1931-11-07</td>\n",
       "      <td>7249906782</td>\n",
       "      <td>hguha@hotmail.com</td>\n",
       "      <td>00 698 tata chowk bhusawal 537818\\n</td>\n",
       "      <td>0</td>\n",
       "    </tr>\n",
       "    <tr>\n",
       "      <th>3</th>\n",
       "      <td>3</td>\n",
       "      <td>Drishya Mangat</td>\n",
       "      <td>2012-06-19</td>\n",
       "      <td>8095808991</td>\n",
       "      <td>fseth@gmail.com</td>\n",
       "      <td>816 dora coimbatore 986675\\n</td>\n",
       "      <td>0</td>\n",
       "    </tr>\n",
       "    <tr>\n",
       "      <th>4</th>\n",
       "      <td>4</td>\n",
       "      <td>Rati Bahl</td>\n",
       "      <td>1971-03-20</td>\n",
       "      <td>6005627215</td>\n",
       "      <td>dsahni@gmail.com</td>\n",
       "      <td>49 shanker ganj pali 316971</td>\n",
       "      <td>0</td>\n",
       "    </tr>\n",
       "  </tbody>\n",
       "</table>\n",
       "</div>"
      ],
      "text/plain": [
       "   Unnamed: 0             Name         DoB      Mobile  \\\n",
       "0           0      Misha Kumer  1972-04-18  9038740424   \n",
       "1           1  Jayesh Krishnan  1950-05-08  6646120647   \n",
       "2           2      Suhana Mall  1931-11-07  7249906782   \n",
       "3           3   Drishya Mangat  2012-06-19  8095808991   \n",
       "4           4        Rati Bahl  1971-03-20  6005627215   \n",
       "\n",
       "                     Email                               Location  label  \n",
       "0  rohanhalder@hotmail.com  h no 19 agrawal circle hapur 968267\\n      0  \n",
       "1         sara93@gmail.com  h no 74 hora nagar bhilai 879957\\n \\n      0  \n",
       "2        hguha@hotmail.com    00 698 tata chowk bhusawal 537818\\n      0  \n",
       "3          fseth@gmail.com           816 dora coimbatore 986675\\n      0  \n",
       "4         dsahni@gmail.com            49 shanker ganj pali 316971      0  "
      ]
     },
     "execution_count": 4,
     "metadata": {},
     "output_type": "execute_result"
    }
   ],
   "source": [
    "# Read the Synthetic identity dataset in the dataframe\n",
    "\n",
    "# if you are using google colab\n",
    "# data = pd.read_csv('drive/MyDrive/labeled_gen_database_2.csv')\n",
    "\n",
    "# if you are running locally\n",
    "data = pd.read_csv('labeled_gen_database_2.csv')\n",
    "data.head()"
   ]
  },
  {
   "cell_type": "code",
   "execution_count": 5,
   "metadata": {
    "colab": {
     "base_uri": "https://localhost:8080/",
     "height": 519
    },
    "id": "0xXOF9JgcIUX",
    "outputId": "7970e2f5-49a1-4d42-9dce-be5f34c4c34c"
   },
   "outputs": [
    {
     "data": {
      "text/plain": [
       "0    50000\n",
       "1     2500\n",
       "Name: label, dtype: int64"
      ]
     },
     "execution_count": 5,
     "metadata": {},
     "output_type": "execute_result"
    },
    {
     "data": {
      "image/png": "[encoded data removed]",
      "text/plain": [
       "<Figure size 640x480 with 1 Axes>"
      ]
     },
     "metadata": {},
     "output_type": "display_data"
    }
   ],
   "source": [
    "#print the lebels in the histogram to see frequecy\n",
    "pd.value_counts(data['label']).plot.bar()\n",
    "plt.title('Fraud Detecttion histogram')\n",
    "plt.xlabel('label')\n",
    "plt.ylabel('Frequency')\n",
    "data['label'].value_counts()"
   ]
  },
  {
   "cell_type": "code",
   "execution_count": 6,
   "metadata": {
    "id": "2CPruoAbcK2i"
   },
   "outputs": [],
   "source": [
    "import re\n",
    "# Remove punctuation and apply case folding\n",
    "def preprocessor(text):\n",
    "    text = re.sub('<[^>]*>', '', str(text).lower())\n",
    "    emoticons = re.findall('(?::|;|=)(?:-)?(?:\\)|\\(|D|P)', text)\n",
    "    text = (re.sub('[\\W]+', ' ', text.lower()) + ' ' .join(emoticons).replace('-', ''))\n",
    "\n",
    "    return text"
   ]
  },
  {
   "cell_type": "code",
   "execution_count": 7,
   "metadata": {
    "colab": {
     "base_uri": "https://localhost:8080/",
     "height": 206
    },
    "id": "qD8RmsnRcNH2",
    "outputId": "24e6ee27-2a4a-4358-cf46-624432fd99ff"
   },
   "outputs": [
    {
     "data": {
      "text/html": [
       "<div>\n",
       "<style scoped>\n",
       "    .dataframe tbody tr th:only-of-type {\n",
       "        vertical-align: middle;\n",
       "    }\n",
       "\n",
       "    .dataframe tbody tr th {\n",
       "        vertical-align: top;\n",
       "    }\n",
       "\n",
       "    .dataframe thead th {\n",
       "        text-align: right;\n",
       "    }\n",
       "</style>\n",
       "<table border=\"1\" class=\"dataframe\">\n",
       "  <thead>\n",
       "    <tr style=\"text-align: right;\">\n",
       "      <th></th>\n",
       "      <th>Unnamed: 0</th>\n",
       "      <th>Name</th>\n",
       "      <th>DoB</th>\n",
       "      <th>Mobile</th>\n",
       "      <th>Email</th>\n",
       "      <th>Location</th>\n",
       "      <th>label</th>\n",
       "    </tr>\n",
       "  </thead>\n",
       "  <tbody>\n",
       "    <tr>\n",
       "      <th>0</th>\n",
       "      <td>0</td>\n",
       "      <td>misha kumer</td>\n",
       "      <td>1972 04 18</td>\n",
       "      <td>9038740424</td>\n",
       "      <td>rohanhalder hotmail com</td>\n",
       "      <td>h no 19 agrawal circle hapur 968267</td>\n",
       "      <td>0</td>\n",
       "    </tr>\n",
       "    <tr>\n",
       "      <th>1</th>\n",
       "      <td>1</td>\n",
       "      <td>jayesh krishnan</td>\n",
       "      <td>1950 05 08</td>\n",
       "      <td>6646120647</td>\n",
       "      <td>sara93 gmail com</td>\n",
       "      <td>h no 74 hora nagar bhilai 879957</td>\n",
       "      <td>0</td>\n",
       "    </tr>\n",
       "    <tr>\n",
       "      <th>2</th>\n",
       "      <td>2</td>\n",
       "      <td>suhana mall</td>\n",
       "      <td>1931 11 07</td>\n",
       "      <td>7249906782</td>\n",
       "      <td>hguha hotmail com</td>\n",
       "      <td>00 698 tata chowk bhusawal 537818</td>\n",
       "      <td>0</td>\n",
       "    </tr>\n",
       "    <tr>\n",
       "      <th>3</th>\n",
       "      <td>3</td>\n",
       "      <td>drishya mangat</td>\n",
       "      <td>2012 06 19</td>\n",
       "      <td>8095808991</td>\n",
       "      <td>fseth gmail com</td>\n",
       "      <td>816 dora coimbatore 986675</td>\n",
       "      <td>0</td>\n",
       "    </tr>\n",
       "    <tr>\n",
       "      <th>4</th>\n",
       "      <td>4</td>\n",
       "      <td>rati bahl</td>\n",
       "      <td>1971 03 20</td>\n",
       "      <td>6005627215</td>\n",
       "      <td>dsahni gmail com</td>\n",
       "      <td>49 shanker ganj pali 316971</td>\n",
       "      <td>0</td>\n",
       "    </tr>\n",
       "  </tbody>\n",
       "</table>\n",
       "</div>"
      ],
      "text/plain": [
       "   Unnamed: 0             Name         DoB      Mobile  \\\n",
       "0           0      misha kumer  1972 04 18  9038740424   \n",
       "1           1  jayesh krishnan  1950 05 08  6646120647   \n",
       "2           2      suhana mall  1931 11 07  7249906782   \n",
       "3           3   drishya mangat  2012 06 19  8095808991   \n",
       "4           4        rati bahl  1971 03 20  6005627215   \n",
       "\n",
       "                     Email                              Location  label  \n",
       "0  rohanhalder hotmail com  h no 19 agrawal circle hapur 968267       0  \n",
       "1         sara93 gmail com     h no 74 hora nagar bhilai 879957       0  \n",
       "2        hguha hotmail com    00 698 tata chowk bhusawal 537818       0  \n",
       "3          fseth gmail com           816 dora coimbatore 986675       0  \n",
       "4         dsahni gmail com           49 shanker ganj pali 316971      0  "
      ]
     },
     "execution_count": 7,
     "metadata": {},
     "output_type": "execute_result"
    }
   ],
   "source": [
    "# apply the preprocessor to all columns\n",
    "\n",
    "data['Name'] = data['Name'].apply(preprocessor)\n",
    "data['DoB'] = data['DoB'].apply(preprocessor)\n",
    "data['Mobile'] = data['Mobile'].apply(preprocessor)\n",
    "data['Email'] = data['Email'].apply(preprocessor)\n",
    "data['Location'] = data['Location'].apply(preprocessor)\n",
    "\n",
    "data.head()"
   ]
  },
  {
   "cell_type": "code",
   "execution_count": 8,
   "metadata": {
    "colab": {
     "base_uri": "https://localhost:8080/"
    },
    "id": "2ZJ7SqCLcP4W",
    "outputId": "c7def3d5-2088-454f-cac9-6f07253421f3"
   },
   "outputs": [
    {
     "name": "stdout",
     "output_type": "stream",
     "text": [
      "Shape of X: (52500, 6)\n",
      "Shape of y: (52500, 1)\n"
     ]
    },
    {
     "data": {
      "text/plain": [
       "array([[0, 'misha kumer', '1972 04 18', '9038740424',\n",
       "        'rohanhalder hotmail com',\n",
       "        'h no 19 agrawal circle hapur 968267 '],\n",
       "       [1, 'jayesh krishnan', '1950 05 08', '6646120647',\n",
       "        'sara93 gmail com', 'h no 74 hora nagar bhilai 879957 '],\n",
       "       [2, 'suhana mall', '1931 11 07', '7249906782',\n",
       "        'hguha hotmail com', '00 698 tata chowk bhusawal 537818 '],\n",
       "       ...,\n",
       "       [52497, 'nakul sane', '1947 01 07', '6439463054',\n",
       "        'sahilranganathan hotmail com',\n",
       "        '01 889 gopal street tadepalligudem 004421 '],\n",
       "       [52498, 'riya khalsa', '2020 08 17', '7019102981',\n",
       "        'ladarnav gmail com', '80 659 chhabra chowk kolhapur 921139 '],\n",
       "       [52499, 'kabir kar', '1914 09 24', '7024039270',\n",
       "        'dadauthkarsh yahoo com',\n",
       "        'h no 87 tripathi nagar raebareli 678392 ']], dtype=object)"
      ]
     },
     "execution_count": 8,
     "metadata": {},
     "output_type": "execute_result"
    }
   ],
   "source": [
    "#to get the shape of the data\n",
    "X = np.array(data.loc[:, data.columns != 'label'])\n",
    "y = np.array(data.loc[:, data.columns == 'label'])\n",
    "print('Shape of X: {}'.format(X.shape))\n",
    "print('Shape of y: {}'.format(y.shape))\n",
    "X"
   ]
  },
  {
   "cell_type": "code",
   "execution_count": 9,
   "metadata": {
    "colab": {
     "base_uri": "https://localhost:8080/"
    },
    "id": "KmZjROTjcTVE",
    "outputId": "63e67cff-5444-40db-f4c9-aa566a2f5534"
   },
   "outputs": [
    {
     "data": {
      "text/plain": [
       "0        misha kumer 1972 04 18 9038740424 rohanhalder ...\n",
       "1        jayesh krishnan 1950 05 08 6646120647 sara93 g...\n",
       "2        suhana mall 1931 11 07 7249906782 hguha hotmai...\n",
       "3        drishya mangat 2012 06 19 8095808991 fseth gma...\n",
       "4        rati bahl 1971 03 20 6005627215 dsahni gmail c...\n",
       "                               ...                        \n",
       "52495    umang goda 1932 11 12 9279149821 borajayesh gm...\n",
       "52496    zaina raja 1955 09 05 9803889919 upadhyayneelo...\n",
       "52497    nakul sane 1947 01 07 6439463054 sahilranganat...\n",
       "52498    riya khalsa 2020 08 17 7019102981 ladarnav gma...\n",
       "52499    kabir kar 1914 09 24 7024039270 dadauthkarsh y...\n",
       "Length: 52500, dtype: object"
      ]
     },
     "execution_count": 9,
     "metadata": {},
     "output_type": "execute_result"
    }
   ],
   "source": [
    "#feature selection\n",
    "X_f = data['Name'] + ' ' + data['DoB'] + ' ' + data['Mobile'] + ' ' +  data['Email'] + ' ' + data['Location']\n",
    "X_f"
   ]
  },
  {
   "cell_type": "code",
   "execution_count": 10,
   "metadata": {
    "colab": {
     "base_uri": "https://localhost:8080/"
    },
    "id": "OIOj3pu1cWXK",
    "outputId": "5f5494df-ad53-4b82-9d9f-2234dabca512"
   },
   "outputs": [
    {
     "name": "stdout",
     "output_type": "stream",
     "text": [
      "(52500,)\n"
     ]
    }
   ],
   "source": [
    "print(X_f.shape)"
   ]
  },
  {
   "cell_type": "code",
   "execution_count": 11,
   "metadata": {
    "colab": {
     "base_uri": "https://localhost:8080/"
    },
    "id": "oifd0yq2cZge",
    "outputId": "e9b2e01a-6d84-43a6-cb5a-ea760caca51e"
   },
   "outputs": [
    {
     "name": "stdout",
     "output_type": "stream",
     "text": [
      "141142\n",
      "float64\n",
      "<class 'scipy.sparse._csr.csr_matrix'>\n"
     ]
    }
   ],
   "source": [
    "from sklearn.feature_extraction.text import TfidfVectorizer\n",
    "\n",
    "# vectorization of the selected features\n",
    "tfidf_vectorizer = TfidfVectorizer(analyzer= 'word', stop_words = 'english')\n",
    "vectorized_df= tfidf_vectorizer.fit_transform(X_f)\n",
    "print(vectorized_df.shape[1])\n",
    "print(vectorized_df.dtype)\n",
    "print(type(vectorized_df))\n",
    "\n",
    "# Name 172255, 813"
   ]
  },
  {
   "cell_type": "code",
   "execution_count": 12,
   "metadata": {
    "colab": {
     "base_uri": "https://localhost:8080/"
    },
    "id": "UvnHxUH3cdfi",
    "outputId": "c548deec-5811-4d92-f570-97d6400edd38",
    "scrolled": true
   },
   "outputs": [
    {
     "name": "stdout",
     "output_type": "stream",
     "text": [
      "(52500, 512)\n"
     ]
    },
    {
     "data": {
      "text/plain": [
       "array([[ 0.10797838, -0.04788859, -0.04767071, ...,  0.00448879,\n",
       "         0.00576733, -0.00668182],\n",
       "       [ 0.10942514, -0.0146338 ,  0.06419551, ...,  0.02428988,\n",
       "        -0.00584481, -0.01227844],\n",
       "       [ 0.10312697, -0.04747218, -0.03865732, ..., -0.01036638,\n",
       "        -0.01103898, -0.02641627],\n",
       "       ...,\n",
       "       [ 0.11889374, -0.05920984, -0.03558851, ..., -0.02223892,\n",
       "        -0.00346919,  0.02524317],\n",
       "       [ 0.09726332, -0.00695794,  0.06186589, ...,  0.00643809,\n",
       "         0.00342048,  0.01259548],\n",
       "       [ 0.10352896,  0.06846897, -0.02596683, ...,  0.02603586,\n",
       "         0.00894433,  0.00164218]])"
      ]
     },
     "execution_count": 12,
     "metadata": {},
     "output_type": "execute_result"
    }
   ],
   "source": [
    "from sklearn.decomposition import TruncatedSVD\n",
    "\n",
    "# decomposition of vectorized features\n",
    "pca = TruncatedSVD(n_components=512)                                \n",
    "X = pca.fit_transform(vectorized_df)\n",
    "\n",
    "print(X.shape)\n",
    "X"
   ]
  },
  {
   "cell_type": "markdown",
   "metadata": {
    "id": "rO0ZZUWsci_R"
   },
   "source": [
    "# Smote for oversampling"
   ]
  },
  {
   "cell_type": "code",
   "execution_count": 13,
   "metadata": {
    "colab": {
     "base_uri": "https://localhost:8080/"
    },
    "id": "Tjk5wpF8cgLn",
    "outputId": "075a7db9-05e5-4677-897c-06903527eed7"
   },
   "outputs": [
    {
     "name": "stdout",
     "output_type": "stream",
     "text": [
      "Before OverSampling, counts of label '1': [2500]\n",
      "Before OverSampling, counts of label '0': [50000] \n",
      "\n",
      "After OverSampling, the shape of train_X: (100000, 512)\n",
      "After OverSampling, the shape of train_y: (100000,) \n",
      "\n",
      "After OverSampling, counts of label '1': 50000\n",
      "After OverSampling, counts of label '0': 50000\n"
     ]
    }
   ],
   "source": [
    "print(\"Before OverSampling, counts of label '1': {}\".format(sum(y==1)))\n",
    "print(\"Before OverSampling, counts of label '0': {} \\n\".format(sum(y==0)))\n",
    "\n",
    "# Smote is used to deal with the oversmapling \n",
    "sm = SMOTE(random_state=2)\n",
    "X_smote, y_smote = sm.fit_resample(X, y.ravel())\n",
    "\n",
    "print('After OverSampling, the shape of train_X: {}'.format(X_smote.shape))\n",
    "print('After OverSampling, the shape of train_y: {} \\n'.format(y_smote.shape))\n",
    "\n",
    "print(\"After OverSampling, counts of label '1': {}\".format(sum(y_smote==1)))\n",
    "print(\"After OverSampling, counts of label '0': {}\".format(sum(y_smote==0)))"
   ]
  },
  {
   "cell_type": "code",
   "execution_count": 14,
   "metadata": {
    "colab": {
     "base_uri": "https://localhost:8080/"
    },
    "id": "CHbsRFNecrfx",
    "outputId": "3c9039fc-a47b-48fe-9ef8-fd689578c519"
   },
   "outputs": [
    {
     "name": "stdout",
     "output_type": "stream",
     "text": [
      "[1 0 0 0 1 0 0 0 0 0 1 0 0 1 1 0 1 1 1 1 0 1 0 1 1 0 0 0 0 0 0 1 0 1 0 1 0\n",
      " 1 1 1 0 0 1 0 0 1 0 0 0 0 1 1 0 1 1 0 0 1 1 1 0 0 1 1 0 0 0 0 1 1 0 0 1 1\n",
      " 0 1 1 0 1 1 1 0 0 0 0 1 0 0 1 1 1 1 0 1 0 1 0 1 0 1]\n"
     ]
    }
   ],
   "source": [
    "from sklearn.utils import shuffle\n",
    "\n",
    "# Shuffling samples\n",
    "X_smote, y_smote = shuffle(X_smote, y_smote)\n",
    "print(y_smote[0:100])"
   ]
  },
  {
   "cell_type": "code",
   "execution_count": 15,
   "metadata": {
    "colab": {
     "base_uri": "https://localhost:8080/"
    },
    "id": "AAsqGbo6cuMu",
    "outputId": "1747ddf0-9c7d-4c7c-fd84-b919fef2091f"
   },
   "outputs": [
    {
     "name": "stdout",
     "output_type": "stream",
     "text": [
      "Number of identities X_train dataset:  (36750, 512)\n",
      "Number of identities y_train dataset:  (36750, 1)\n",
      "Number of identities X_test dataset:  (15750, 512)\n",
      "Number of identities y_test dataset:  (15750, 1)\n"
     ]
    },
    {
     "data": {
      "text/plain": [
       "512"
      ]
     },
     "execution_count": 15,
     "metadata": {},
     "output_type": "execute_result"
    }
   ],
   "source": [
    "#split the data in test and train in 30:70 ration and thier shape\n",
    "X_train, X_test, y_train, y_test = train_test_split(X, y, test_size = 0.30, random_state=0)\n",
    "Features_number = len(X_train[0])\n",
    "\n",
    "print(\"Number of identities X_train dataset: \", X_train.shape)\n",
    "print(\"Number of identities y_train dataset: \", y_train.shape)\n",
    "print(\"Number of identities X_test dataset: \", X_test.shape)\n",
    "print(\"Number of identities y_test dataset: \", y_test.shape)\n",
    "Features_number"
   ]
  },
  {
   "cell_type": "code",
   "execution_count": 16,
   "metadata": {
    "colab": {
     "base_uri": "https://localhost:8080/"
    },
    "id": "2DCnkJNtcw4H",
    "outputId": "835703c7-80c8-4bcb-8feb-5c457997be7d"
   },
   "outputs": [
    {
     "name": "stdout",
     "output_type": "stream",
     "text": [
      "Number of identities X_train dataset:  (70000, 512)\n",
      "Number of identities y_train dataset:  (70000,)\n",
      "Number of identities X_test dataset:  (30000, 512)\n",
      "Number of identities y_test dataset:  (30000,)\n"
     ]
    },
    {
     "data": {
      "text/plain": [
       "512"
      ]
     },
     "execution_count": 16,
     "metadata": {},
     "output_type": "execute_result"
    }
   ],
   "source": [
    "#split the smote data in test and train in 30:70 ration and thier shape\n",
    "X_train_smote, X_test_smote, y_train_smote, y_test_smote = train_test_split(X_smote, y_smote, test_size = 0.30, random_state=0)\n",
    "Features_number = len(X_train_smote[0])\n",
    "\n",
    "print(\"Number of identities X_train dataset: \", X_train_smote.shape)\n",
    "print(\"Number of identities y_train dataset: \", y_train_smote.shape)\n",
    "print(\"Number of identities X_test dataset: \", X_test_smote.shape)\n",
    "print(\"Number of identities y_test dataset: \", y_test_smote.shape)\n",
    "Features_number"
   ]
  },
  {
   "cell_type": "code",
   "execution_count": 17,
   "metadata": {
    "colab": {
     "base_uri": "https://localhost:8080/"
    },
    "id": "-gwD6KR8b2ff",
    "outputId": "17fb4ba8-2201-47ac-8576-378faa6c61f4"
   },
   "outputs": [
    {
     "name": "stdout",
     "output_type": "stream",
     "text": [
      "2188/2188 [==============================] - 13s 4ms/step - loss: 0.3280 - accuracy: 0.8483 - val_loss: 0.1484 - val_accuracy: 0.9438\n"
     ]
    }
   ],
   "source": [
    "# Neural Network Model\n",
    "\n",
    "from keras.layers import Dropout\n",
    "earlystopping = EarlyStopping(monitor = 'val_loss',\n",
    "                              min_delta = 0.01,\n",
    "                              patience = 50,\n",
    "                              verbose = 1,\n",
    "                              baseline = 2,\n",
    "                              restore_best_weights = True)\n",
    "\n",
    " \n",
    "    \n",
    "model = Sequential()\n",
    "model.add(Dense(70, input_dim=Features_number, activation='relu'))\n",
    "model.add(Dense(50, activation='relu'))\n",
    "model.add(Dense(50, activation='relu'))\n",
    "model.add(Dense(1, activation='sigmoid'))\n",
    "model.compile(loss='binary_crossentropy', optimizer='adam',metrics=['accuracy'])\n",
    "history = model.fit(X_train_smote, y_train_smote, batch_size = 32, epochs=1, validation_data=(X_test_smote, y_test_smote), callbacks = [earlystopping], shuffle=True)\n"
   ]
  },
  {
   "cell_type": "code",
   "execution_count": 18,
   "metadata": {
    "id": "zxDrX_8qb2fg"
   },
   "outputs": [],
   "source": [
    "#AUXILIARY METHODS FOR FEDERATED LEARNING\n",
    "\n",
    "# RETURN INDICES TO LAYERS WITH WEIGHTS AND BIASES\n",
    "def trainable_layers(model):\n",
    "    return [i for i, layer in enumerate(model.layers) if len(layer.get_weights()) > 0]\n",
    "\n",
    "# RETURN WEIGHTS AND BIASES OF A MODEL\n",
    "def get_parameters(model):\n",
    "    weights = []\n",
    "    biases = []\n",
    "    index = trainable_layers(model)\n",
    "    for i in index:\n",
    "        weights.append(copy.deepcopy(model.layers[i].get_weights()[0]))\n",
    "        biases.append(copy.deepcopy(model.layers[i].get_weights()[1]))           \n",
    "    \n",
    "    return weights, biases\n",
    "        \n",
    "# SET WEIGHTS AND BIASES OF A MODEL\n",
    "def set_parameters(model, weights, biases):\n",
    "    index = trainable_layers(model)\n",
    "    for i, j in enumerate(index):\n",
    "        model.layers[j].set_weights([weights[i], biases[i]])\n",
    "    \n",
    "# DEPRECATED: RETURN THE GRADIENTS OF THE MODEL AFTER AN UPDATE \n",
    "def get_gradients(model, inputs, outputs):\n",
    "    \"\"\" Gets gradient of model for given inputs and outputs for all weights\"\"\"\n",
    "    grads = model.optimizer.get_gradients(model.total_loss, model.trainable_weights)\n",
    "    symb_inputs = (model._feed_inputs + model._feed_targets + model._feed_sample_weights)\n",
    "    f = K.function(symb_inputs, grads)\n",
    "    x, y, sample_weight = model._standardize_user_data(inputs, outputs)\n",
    "    output_grad = f(x + y + sample_weight)\n",
    "    \n",
    "    w_grad = [w for i,w in enumerate(output_grad) if i%2==0]\n",
    "    b_grad = [w for i,w in enumerate(output_grad) if i%2==1]\n",
    "    \n",
    "    return w_grad, b_grad\n",
    "\n",
    "# RETURN THE DIFFERENCE OF MODELS' WEIGHTS AND BIASES AFTER AN UPDATE \n",
    "# NOTE: LEARNING RATE IS APPLIED, SO THE UPDATE IS DIFFERENT FROM THE\n",
    "# GRADIENTS. IN CASE VANILLA SGD IS USED, THE GRADIENTS ARE OBTAINED\n",
    "# AS (UPDATES / LEARNING_RATE)\n",
    "def get_updates(model, inputs, outputs, batch_size, epochs):\n",
    "    w, b = get_parameters(model)\n",
    "    #model.train_on_batch(inputs, outputs)\n",
    "    model.fit(inputs, outputs, batch_size=batch_size, epochs=epochs, verbose=0)\n",
    "    w_new, b_new = get_parameters(model)\n",
    "    \n",
    "    weight_updates = [old - new for old,new in zip(w, w_new)]\n",
    "    bias_updates = [old - new for old,new in zip(b, b_new)]\n",
    "    \n",
    "    return weight_updates, bias_updates\n",
    "\n",
    "# UPDATE THE MODEL'S WEIGHTS AND PARAMETERS WITH AN UPDATE\n",
    "def apply_updates(model, eta, w_new, b_new):\n",
    "    w, b = get_parameters(model)\n",
    "    new_weights = [theta - eta*delta for theta,delta in zip(w, w_new)]\n",
    "    new_biases = [theta - eta*delta for theta,delta in zip(b, b_new)]\n",
    "    set_parameters(model, new_weights, new_biases)\n",
    "    \n",
    "# FEDERATED AGGREGATION FUNCTION\n",
    "def aggregate(n_layers, n_peers, f, w_updates, b_updates):\n",
    "    agg_w = [f([w_updates[j][i] for j in range(n_peers)], axis=0) for i in range(n_layers)]\n",
    "    agg_b = [f([b_updates[j][i] for j in range(n_peers)], axis=0) for i in range(n_layers)]\n",
    "    return agg_w, agg_b\n",
    "\n",
    "# SOLVE NANS\n",
    "def nans_to_zero(W, B):\n",
    "    W0 = [np.nan_to_num(w, nan=0.0, posinf=0.0, neginf=0.0) for w in W]\n",
    "    B0 = [np.nan_to_num(b, nan=0.0, posinf=0.0, neginf=0.0) for b in B]\n",
    "    return W0, B0\n",
    "\n",
    "def build_forest(X,y):\n",
    "    clf=RandomForestClassifier(n_estimators=10, max_depth=7, random_state=0, verbose = 1)\n",
    "    clf.fit(X,y)\n",
    "    return clf\n",
    "\n",
    "# COMPUTE EUCLIDEAN DISTANCE OF WEIGHTS\n",
    "def dist_weights(w_a, w_b):\n",
    "    wf_a = flatten_weights(w_a)\n",
    "    wf_b = flatten_weights(w_b)\n",
    "    return euclidean(wf_a, wf_b)\n",
    "\n",
    "# TRANSFORM ALL WEIGHT TENSORS TO 1D ARRAY\n",
    "def flatten_weights(w_in):\n",
    "    h = w_in[0].reshape(-1)\n",
    "    for w in w_in[1:]:\n",
    "        h = np.append(h, w.reshape(-1))\n",
    "    return h\n",
    "    "
   ]
  },
  {
   "cell_type": "code",
   "execution_count": 19,
   "metadata": {
    "colab": {
     "base_uri": "https://localhost:8080/"
    },
    "id": "gciMdG8tb2fk",
    "outputId": "eeb221ae-9679-4a89-d5a3-2156b1b5cd09"
   },
   "outputs": [
    {
     "data": {
      "text/plain": [
       "[0, 1, 2, 3]"
      ]
     },
     "execution_count": 19,
     "metadata": {},
     "output_type": "execute_result"
    }
   ],
   "source": [
    "trainable_layers(model)"
   ]
  },
  {
   "cell_type": "code",
   "execution_count": 20,
   "metadata": {
    "colab": {
     "base_uri": "https://localhost:8080/"
    },
    "id": "Xn7kVsQ-b2fo",
    "outputId": "411760c1-b82e-450c-911c-9a0b96a7909b"
   },
   "outputs": [
    {
     "data": {
      "text/plain": [
       "([array([[-0.0442228 ,  0.06157752, -0.09361991, ..., -0.01399065,\n",
       "           0.05739889, -0.11180975],\n",
       "         [-0.08401206,  0.0505331 ,  0.00855389, ..., -0.09795727,\n",
       "          -0.05561826, -0.11204659],\n",
       "         [ 0.02087241, -0.04364172, -0.10170597, ...,  0.0717571 ,\n",
       "          -0.00801014,  0.05165558],\n",
       "         ...,\n",
       "         [-0.06987747, -0.05049299,  0.03024662, ..., -0.12425986,\n",
       "          -0.10809799,  0.16087843],\n",
       "         [ 0.09563079, -0.06995827,  0.09715676, ...,  0.20474434,\n",
       "          -0.04037962, -0.15051052],\n",
       "         [ 0.14667854,  0.008552  ,  0.10728872, ...,  0.14551114,\n",
       "          -0.08330379,  0.17321908]], dtype=float32),\n",
       "  array([[-0.16773638,  0.11132768,  0.00386014, ..., -0.2288544 ,\n",
       "           0.25024325, -0.01725454],\n",
       "         [-0.05402733,  0.1954115 , -0.08321574, ...,  0.19512436,\n",
       "          -0.14454737,  0.16309462],\n",
       "         [-0.17038752,  0.02848441,  0.20004974, ..., -0.21503161,\n",
       "           0.3422651 , -0.19160703],\n",
       "         ...,\n",
       "         [ 0.04793953,  0.30989215, -0.03097892, ..., -0.38463086,\n",
       "           0.15515089, -0.25276724],\n",
       "         [ 0.15884513,  0.10431544,  0.09050437, ..., -0.14950977,\n",
       "          -0.12967171,  0.12594613],\n",
       "         [-0.08125403,  0.36896226,  0.02840201, ..., -0.09810892,\n",
       "           0.34017414,  0.01547449]], dtype=float32),\n",
       "  array([[ 0.19421096,  0.02508446,  0.21070933, ..., -0.23231637,\n",
       "           0.02631229, -0.14135379],\n",
       "         [ 0.38514924, -0.60855097,  0.00566518, ..., -0.2027538 ,\n",
       "           0.14858137,  0.25112408],\n",
       "         [ 0.07512173, -0.18267454, -0.0560458 , ..., -0.05206225,\n",
       "           0.25265163, -0.00910517],\n",
       "         ...,\n",
       "         [ 0.01964524,  0.16109538, -0.30678406, ..., -0.08758109,\n",
       "          -0.06282664, -0.22316267],\n",
       "         [ 0.25814596, -0.4374821 ,  0.06241075, ...,  0.09278537,\n",
       "           0.38685092,  0.18373342],\n",
       "         [ 0.06691144,  0.3246683 , -0.0525811 , ..., -0.18965466,\n",
       "          -0.16554785, -0.22373816]], dtype=float32),\n",
       "  array([[-0.56662184],\n",
       "         [ 0.662885  ],\n",
       "         [-0.40023223],\n",
       "         [-0.0379568 ],\n",
       "         [-0.17925099],\n",
       "         [-0.56542176],\n",
       "         [ 0.72644854],\n",
       "         [ 0.27304444],\n",
       "         [-0.2750844 ],\n",
       "         [-0.36806068],\n",
       "         [ 0.20236671],\n",
       "         [ 0.5132055 ],\n",
       "         [ 0.6947777 ],\n",
       "         [-0.33859894],\n",
       "         [-0.50891817],\n",
       "         [ 0.6640161 ],\n",
       "         [ 0.31008035],\n",
       "         [-0.28943676],\n",
       "         [-0.3681986 ],\n",
       "         [ 0.6474905 ],\n",
       "         [ 0.05094782],\n",
       "         [ 0.67902476],\n",
       "         [-0.5891252 ],\n",
       "         [ 0.12403287],\n",
       "         [-0.26954496],\n",
       "         [-0.50485456],\n",
       "         [-0.5831998 ],\n",
       "         [ 0.6203259 ],\n",
       "         [-0.57409656],\n",
       "         [-0.5860874 ],\n",
       "         [-0.6132516 ],\n",
       "         [ 0.12375321],\n",
       "         [-0.5460206 ],\n",
       "         [ 0.40271986],\n",
       "         [-0.08406598],\n",
       "         [ 0.51814216],\n",
       "         [-0.36381996],\n",
       "         [ 0.670337  ],\n",
       "         [ 0.59390515],\n",
       "         [ 0.26805174],\n",
       "         [-0.5636106 ],\n",
       "         [ 0.7035367 ],\n",
       "         [-0.38366756],\n",
       "         [-0.5976572 ],\n",
       "         [-0.39593905],\n",
       "         [ 0.7702374 ],\n",
       "         [-0.01044418],\n",
       "         [-0.08628973],\n",
       "         [-0.42682284],\n",
       "         [-0.46384096]], dtype=float32)],\n",
       " [array([-0.03252424,  0.03699778, -0.00317206, -0.02634364, -0.01386387,\n",
       "         -0.02463964, -0.0155532 , -0.0277163 ,  0.02235711, -0.03085345,\n",
       "         -0.01862185, -0.00555501, -0.0232576 , -0.02187878, -0.02604537,\n",
       "         -0.0170668 , -0.03409204, -0.01667281, -0.03612921, -0.01747181,\n",
       "         -0.016558  , -0.03525848, -0.02353414, -0.0299656 , -0.00510848,\n",
       "         -0.03517188,  0.01056758,  0.0419136 , -0.03613552, -0.01741432,\n",
       "         -0.03391852, -0.02860449, -0.01578957, -0.0216496 , -0.01580622,\n",
       "          0.0070816 , -0.03463003, -0.02200905, -0.0143324 , -0.00821901,\n",
       "         -0.01709624, -0.01425903, -0.01124007, -0.01264898, -0.02624485,\n",
       "         -0.03044106, -0.01905161, -0.03141265, -0.01062961,  0.04086293,\n",
       "         -0.03842131,  0.0058591 , -0.03093398, -0.02454183, -0.01154209,\n",
       "         -0.00522946, -0.01676227, -0.02297323, -0.00675651, -0.01850914,\n",
       "         -0.01582388, -0.01368021, -0.01775421, -0.01242106, -0.01082548,\n",
       "         -0.02243793, -0.01724116, -0.02801332,  0.01320853, -0.01630798],\n",
       "        dtype=float32),\n",
       "  array([-0.01666619, -0.03788041,  0.00493636, -0.00795446, -0.03081189,\n",
       "         -0.01426865, -0.01064808, -0.00079897, -0.01631403, -0.01570603,\n",
       "         -0.02631882, -0.02352762, -0.01339948, -0.03791314, -0.00654175,\n",
       "         -0.01273135, -0.01291919, -0.0190297 , -0.01210121,  0.11822759,\n",
       "          0.06012723,  0.05885996, -0.01127702, -0.02905777, -0.01589633,\n",
       "         -0.0230697 ,  0.14007634,  0.11403956,  0.14804506, -0.03770446,\n",
       "          0.09660707, -0.04030886,  0.00734954, -0.00132206, -0.0324359 ,\n",
       "          0.1079089 ,  0.11105415,  0.09187596, -0.01382212,  0.09118533,\n",
       "         -0.01480468,  0.1485358 , -0.01853383, -0.03190455,  0.06333407,\n",
       "         -0.0321839 ,  0.09360674,  0.07982078, -0.00909264,  0.05486719],\n",
       "        dtype=float32),\n",
       "  array([ 0.00224883,  0.16265075,  0.01154799, -0.02360834, -0.00534117,\n",
       "          0.03172608,  0.1413266 , -0.00696446, -0.01172738, -0.03747662,\n",
       "         -0.01547939,  0.1530677 ,  0.133095  , -0.02382765, -0.02128681,\n",
       "          0.1589976 , -0.01256534, -0.03874505, -0.02670012,  0.12650733,\n",
       "         -0.01720051,  0.13776375, -0.01541657, -0.01266187, -0.01325314,\n",
       "         -0.01879273,  0.03836023,  0.12493114, -0.01417523, -0.00092222,\n",
       "          0.00644443, -0.00996211, -0.00932292,  0.15461698, -0.03481326,\n",
       "          0.14106853, -0.00343693,  0.14463751,  0.11866829, -0.01370409,\n",
       "         -0.02715309,  0.05221578, -0.0419217 ,  0.02581256,  0.0213599 ,\n",
       "          0.11844494, -0.00947254, -0.02188457,  0.01241996, -0.00063043],\n",
       "        dtype=float32),\n",
       "  array([0.13235489], dtype=float32)])"
      ]
     },
     "execution_count": 20,
     "metadata": {},
     "output_type": "execute_result"
    }
   ],
   "source": [
    "get_parameters(model)"
   ]
  },
  {
   "cell_type": "code",
   "execution_count": 21,
   "metadata": {
    "colab": {
     "base_uri": "https://localhost:8080/"
    },
    "id": "MppEywvlb2fp",
    "outputId": "08547caa-587e-4132-8d39-403f8c05408e"
   },
   "outputs": [
    {
     "data": {
      "text/plain": [
       "([array([[ 0.06104771,  0.00342738,  0.07501144, ...,  0.05558211,\n",
       "           0.05172539,  0.05466112],\n",
       "         [ 0.04969268,  0.01692363, -0.02600608, ...,  0.10569124,\n",
       "           0.01258921, -0.02744748],\n",
       "         [-0.01097862, -0.13307817,  0.05194344, ..., -0.02055372,\n",
       "          -0.09518318, -0.02751334],\n",
       "         ...,\n",
       "         [-0.01782532, -0.00413116, -0.07326489, ...,  0.01848459,\n",
       "           0.0262746 ,  0.01238742],\n",
       "         [ 0.04234572,  0.0119901 , -0.00911968, ..., -0.1009303 ,\n",
       "           0.02171439, -0.03071456],\n",
       "         [ 0.02736982,  0.02622937, -0.03914364, ..., -0.01451501,\n",
       "           0.11554578, -0.00879726]], dtype=float32),\n",
       "  array([[-2.2404835e-02, -1.0084334e-01, -4.9966037e-02, ...,\n",
       "           2.2580281e-02, -4.8929423e-02,  3.1949311e-02],\n",
       "         [ 1.9594826e-02, -4.0786430e-02, -1.2457058e-02, ...,\n",
       "          -7.7687949e-03, -3.2899678e-03, -1.6107053e-02],\n",
       "         [ 4.1897237e-02, -1.4302934e-02, -4.0865690e-03, ...,\n",
       "           2.3449481e-02, -4.6616793e-04,  4.6938717e-02],\n",
       "         ...,\n",
       "         [ 1.0758024e-02, -5.8164626e-02, -4.8080005e-02, ...,\n",
       "           7.1008772e-02, -3.6698043e-02,  7.3611856e-02],\n",
       "         [ 9.2074275e-05, -5.1744483e-02, -9.2385039e-03, ...,\n",
       "           2.9696792e-02, -6.3223913e-03,  2.3387134e-02],\n",
       "         [ 4.9075596e-02,  5.3875983e-02,  1.0336939e-02, ...,\n",
       "          -2.3563191e-02,  1.5632123e-02, -3.9217800e-02]], dtype=float32),\n",
       "  array([[-3.64976972e-02,  4.73197624e-02, -3.77791822e-02, ...,\n",
       "           0.00000000e+00, -3.73479277e-02, -3.72662544e-02],\n",
       "         [-8.51354599e-02,  5.70181608e-02, -8.62630159e-02, ...,\n",
       "           2.63601542e-05, -8.63098502e-02, -8.65056515e-02],\n",
       "         [-3.39270532e-02,  1.15242898e-02, -3.07468958e-02, ...,\n",
       "           1.28834136e-02, -3.00676227e-02, -3.22824344e-02],\n",
       "         ...,\n",
       "         [ 2.94721462e-02, -1.11777961e-01,  3.23335528e-02, ...,\n",
       "           1.83630139e-02,  3.30855995e-02,  3.16710323e-02],\n",
       "         [-5.72961271e-02,  4.64763939e-02, -5.69900014e-02, ...,\n",
       "           3.49719077e-03, -5.61757684e-02, -5.71379513e-02],\n",
       "         [ 3.45693305e-02, -1.02252215e-01,  3.77501994e-02, ...,\n",
       "           2.40464509e-03,  3.88109982e-02,  3.65094841e-02]], dtype=float32),\n",
       "  array([[ 6.6932917e-02],\n",
       "         [-1.7754269e-01],\n",
       "         [ 5.9353530e-02],\n",
       "         [ 0.0000000e+00],\n",
       "         [ 0.0000000e+00],\n",
       "         [ 6.3977361e-02],\n",
       "         [-8.5476995e-02],\n",
       "         [ 0.0000000e+00],\n",
       "         [ 6.0527802e-02],\n",
       "         [ 6.3972145e-02],\n",
       "         [ 1.5288591e-05],\n",
       "         [-9.4381928e-02],\n",
       "         [-1.3046533e-01],\n",
       "         [ 5.9479117e-02],\n",
       "         [ 6.0204029e-02],\n",
       "         [-1.8803442e-01],\n",
       "         [ 4.0531158e-06],\n",
       "         [ 6.0756624e-02],\n",
       "         [ 6.0267627e-02],\n",
       "         [-1.5947288e-01],\n",
       "         [ 0.0000000e+00],\n",
       "         [-1.2965775e-01],\n",
       "         [ 6.5797448e-02],\n",
       "         [ 0.0000000e+00],\n",
       "         [ 6.4370722e-02],\n",
       "         [ 6.3176274e-02],\n",
       "         [ 5.9591353e-02],\n",
       "         [-1.2593079e-01],\n",
       "         [ 6.3736916e-02],\n",
       "         [ 6.2055945e-02],\n",
       "         [ 6.3936234e-02],\n",
       "         [ 2.5853515e-06],\n",
       "         [ 6.2445164e-02],\n",
       "         [-1.0133749e-01],\n",
       "         [-7.3760748e-06],\n",
       "         [-1.2426913e-01],\n",
       "         [ 6.0962349e-02],\n",
       "         [-1.5314043e-01],\n",
       "         [-1.9017375e-01],\n",
       "         [ 3.5203606e-02],\n",
       "         [ 6.2612057e-02],\n",
       "         [-1.8858558e-01],\n",
       "         [ 6.5770030e-02],\n",
       "         [ 5.8965862e-02],\n",
       "         [ 6.2865973e-02],\n",
       "         [-1.1482453e-01],\n",
       "         [ 0.0000000e+00],\n",
       "         [-3.6034808e-03],\n",
       "         [ 6.0309559e-02],\n",
       "         [ 6.4411461e-02]], dtype=float32)],\n",
       " [array([ 0.00793668,  0.01601564,  0.00850547,  0.01682755,  0.00727612,\n",
       "          0.01042408,  0.00047436,  0.00710494,  0.04912084, -0.00146556,\n",
       "          0.00828813,  0.01870805,  0.00641177,  0.0162169 ,  0.00925661,\n",
       "         -0.00317743,  0.00635701,  0.0217098 ,  0.01279181,  0.00766187,\n",
       "          0.01192306,  0.00374795,  0.01184075,  0.02185592,  0.0080764 ,\n",
       "         -0.00121473, -0.01528442,  0.04911203,  0.01491085,  0.00984063,\n",
       "          0.00978957,  0.01875212,  0.01066989, -0.00189633,  0.01331776,\n",
       "          0.04414339,  0.00630891,  0.01774169,  0.0149333 , -0.00820042,\n",
       "         -0.00175961,  0.00458688,  0.00800216,  0.00951508,  0.00878105,\n",
       "          0.00124503,  0.00632333,  0.008517  ,  0.02030917,  0.0080962 ,\n",
       "          0.00506862,  0.04021075,  0.0046479 ,  0.00407908,  0.0288978 ,\n",
       "          0.04101197,  0.00503319,  0.01621979,  0.00355506,  0.01686679,\n",
       "          0.00831257,  0.01247182, -0.01069426,  0.00355526,  0.00281971,\n",
       "         -0.0026615 ,  0.00659203, -0.00297761,  0.05687126, -0.00205254],\n",
       "        dtype=float32),\n",
       "  array([ 0.01192457,  0.00029837,  0.00799291,  0.03916707,  0.01947006,\n",
       "          0.00738712,  0.00999035,  0.00681383,  0.00866519,  0.03255324,\n",
       "          0.03134205,  0.00482059,  0.00434059,  0.00390606,  0.00920858,\n",
       "          0.01017177,  0.01062497,  0.02440341,  0.01095901, -0.01218303,\n",
       "          0.00574728,  0.00867156,  0.01732883,  0.01417994,  0.00521934,\n",
       "         -0.00059157, -0.01830631, -0.01616104, -0.02056672,  0.00106997,\n",
       "         -0.01376511,  0.0042429 ,  0.01473937,  0.01634712, -0.00414151,\n",
       "         -0.01260015, -0.01388612, -0.01209518,  0.00586596, -0.01514199,\n",
       "          0.00779031, -0.02005163,  0.01376737, -0.0029001 , -0.01583977,\n",
       "          0.0131976 , -0.01488183, -0.01000543,  0.01218265, -0.0120036 ],\n",
       "        dtype=float32),\n",
       "  array([-7.1992381e-03, -4.2314589e-02, -4.4854674e-03,  0.0000000e+00,\n",
       "          0.0000000e+00, -5.9440657e-03, -2.7539223e-02,  0.0000000e+00,\n",
       "         -6.8510198e-03, -8.8480972e-03,  5.5240467e-05, -2.7093872e-02,\n",
       "         -3.4542546e-02, -5.4243393e-03, -5.0854348e-03, -1.7595634e-02,\n",
       "          9.9688768e-06, -5.0638430e-03, -5.4368377e-03, -7.5598806e-03,\n",
       "          0.0000000e+00, -3.6744013e-02, -5.5858390e-03,  0.0000000e+00,\n",
       "         -3.9429441e-03, -6.2189689e-03, -4.0969960e-03, -4.4689149e-02,\n",
       "         -7.2599580e-03, -5.8813700e-03, -7.5294781e-03,  3.9583072e-05,\n",
       "         -6.2881941e-03, -3.2386273e-02,  1.9680709e-05, -4.2272180e-02,\n",
       "         -5.0673401e-03, -3.3215657e-02, -1.3842136e-03,  4.1204713e-02,\n",
       "         -4.5968276e-03, -9.6093081e-03, -7.7545792e-03, -2.9359031e-03,\n",
       "         -6.1768796e-03, -3.2048859e-02,  0.0000000e+00,  3.1178370e-03,\n",
       "         -3.9626118e-03, -5.7342020e-03], dtype=float32),\n",
       "  array([-0.02303602], dtype=float32)])"
      ]
     },
     "execution_count": 21,
     "metadata": {},
     "output_type": "execute_result"
    }
   ],
   "source": [
    "get_updates(model, X_train_smote, y_train_smote, 32, 2)"
   ]
  },
  {
   "cell_type": "code",
   "execution_count": 22,
   "metadata": {
    "id": "4JaRK2eOb2fq"
   },
   "outputs": [],
   "source": [
    "W = get_parameters(model)[0]\n",
    "B = get_parameters(model)[1]"
   ]
  },
  {
   "cell_type": "markdown",
   "metadata": {
    "id": "OIdEwdkrqDnj"
   },
   "source": [
    "## Federated Learning"
   ]
  },
  {
   "cell_type": "code",
   "execution_count": 23,
   "metadata": {},
   "outputs": [],
   "source": [
    "# Metrics to store final results for different no of clients\n",
    "results = {}"
   ]
  },
  {
   "cell_type": "code",
   "execution_count": 37,
   "metadata": {
    "id": "GuOZYprnb2fq"
   },
   "outputs": [],
   "source": [
    "# Federated Learning Model\n",
    "\n",
    "# Number of clients according to what we need\n",
    "n_clients=5\n",
    "ss = int(len(X_train_smote)/n_clients)\n",
    "inputs_in = X_train_smote[0*ss:0*ss+ss]\n",
    "outputs_in = y_train_smote[0*ss:0*ss+ss]\n",
    "\n",
    "def build_model(X_t, y_t):\n",
    "    model = Sequential()\n",
    "    model.add(Dense(70, input_dim=Features_number, activation='relu'))\n",
    "    model.add(Dense(50, activation='relu'))\n",
    "    model.add(Dense(50, activation='relu'))\n",
    "    model.add(Dense(1, activation='sigmoid'))\n",
    "    model.compile(loss='binary_crossentropy', optimizer='adam',metrics=['accuracy'])\n",
    "    return model"
   ]
  },
  {
   "cell_type": "code",
   "execution_count": 38,
   "metadata": {
    "colab": {
     "base_uri": "https://localhost:8080/",
     "height": 330
    },
    "id": "yESAmQF1b2fr",
    "outputId": "6f7a0ded-9e84-4394-caa9-868fb4564c52"
   },
   "outputs": [
    {
     "name": "stdout",
     "output_type": "stream",
     "text": [
      "Model: \"sequential\"\n",
      "_________________________________________________________________\n",
      " Layer (type)                Output Shape              Param #   \n",
      "=================================================================\n",
      " dense (Dense)               (None, 70)                35910     \n",
      "                                                                 \n",
      " dense_1 (Dense)             (None, 50)                3550      \n",
      "                                                                 \n",
      " dense_2 (Dense)             (None, 50)                2550      \n",
      "                                                                 \n",
      " dense_3 (Dense)             (None, 1)                 51        \n",
      "                                                                 \n",
      "=================================================================\n",
      "Total params: 42,061\n",
      "Trainable params: 42,061\n",
      "Non-trainable params: 0\n",
      "_________________________________________________________________\n"
     ]
    },
    {
     "data": {
      "text/plain": [
       "None"
      ]
     },
     "metadata": {},
     "output_type": "display_data"
    }
   ],
   "source": [
    "# Model Design\n",
    "display(model.summary())"
   ]
  },
  {
   "cell_type": "code",
   "execution_count": 39,
   "metadata": {
    "colab": {
     "base_uri": "https://localhost:8080/"
    },
    "id": "emSucPFdb2fr",
    "outputId": "7209fa83-6aa7-438b-bc91-78aece2d4fb0"
   },
   "outputs": [
    {
     "data": {
      "text/plain": [
       "array([0, 0, 0, ..., 0, 0, 0], dtype=int64)"
      ]
     },
     "execution_count": 39,
     "metadata": {},
     "output_type": "execute_result"
    }
   ],
   "source": [
    "# predict probabilities for test set\n",
    "yhat_probs = model.predict(X_test_smote, verbose=0)\n",
    "# predict crisp classes for test set\n",
    "yhat_classes = np.argmax(yhat_probs,axis=1)\n",
    "#yhat_probs\n",
    "yhat_classes"
   ]
  },
  {
   "cell_type": "code",
   "execution_count": 40,
   "metadata": {
    "colab": {
     "base_uri": "https://localhost:8080/"
    },
    "id": "rnybb-vwmlJt",
    "outputId": "e8d462e5-cf98-4697-f115-46458817bd7a"
   },
   "outputs": [
    {
     "name": "stdout",
     "output_type": "stream",
     "text": [
      "938/938 [==============================] - 2s 980us/step\n"
     ]
    },
    {
     "data": {
      "text/plain": [
       "array([12702], dtype=int64)"
      ]
     },
     "execution_count": 40,
     "metadata": {},
     "output_type": "execute_result"
    }
   ],
   "source": [
    "np.argmax(model.predict(X_test_smote), axis=0)"
   ]
  },
  {
   "cell_type": "code",
   "execution_count": 41,
   "metadata": {
    "colab": {
     "base_uri": "https://localhost:8080/"
    },
    "id": "FFkQl7Fcb2fv",
    "outputId": "c25b3670-91db-4635-c743-4c34f41fe61f"
   },
   "outputs": [
    {
     "name": "stdout",
     "output_type": "stream",
     "text": [
      "Initializing network.\n"
     ]
    },
    {
     "name": "stderr",
     "output_type": "stream",
     "text": [
      "100%|████████████████████████████████████████████████████████████████████████████████████████████| 5/5 [00:00<?, ?it/s]\n"
     ]
    },
    {
     "name": "stdout",
     "output_type": "stream",
     "text": [
      "Round 1.\n"
     ]
    },
    {
     "name": "stderr",
     "output_type": "stream",
     "text": [
      "100%|████████████████████████████████████████████████████████████████████████████████████| 5/5 [00:25<00:00,  5.19s/it]\n"
     ]
    },
    {
     "name": "stdout",
     "output_type": "stream",
     "text": [
      "Global model loss: 0.9890182018280029; global model accuracy: 0.8847666382789612\n",
      "Round 2.\n"
     ]
    },
    {
     "name": "stderr",
     "output_type": "stream",
     "text": [
      "100%|████████████████████████████████████████████████████████████████████████████████████| 5/5 [00:18<00:00,  3.77s/it]\n"
     ]
    },
    {
     "name": "stdout",
     "output_type": "stream",
     "text": [
      "Global model loss: 0.42661646008491516; global model accuracy: 0.8723666667938232\n",
      "Round 3.\n"
     ]
    },
    {
     "name": "stderr",
     "output_type": "stream",
     "text": [
      "100%|████████████████████████████████████████████████████████████████████████████████████| 5/5 [00:18<00:00,  3.67s/it]\n"
     ]
    },
    {
     "name": "stdout",
     "output_type": "stream",
     "text": [
      "Global model loss: 0.38545385003089905; global model accuracy: 0.9304666519165039\n",
      "Round 4.\n"
     ]
    },
    {
     "name": "stderr",
     "output_type": "stream",
     "text": [
      "100%|████████████████████████████████████████████████████████████████████████████████████| 5/5 [00:19<00:00,  3.81s/it]\n"
     ]
    },
    {
     "name": "stdout",
     "output_type": "stream",
     "text": [
      "Global model loss: 0.24856175482273102; global model accuracy: 0.9282000064849854\n",
      "Round 5.\n"
     ]
    },
    {
     "name": "stderr",
     "output_type": "stream",
     "text": [
      "100%|████████████████████████████████████████████████████████████████████████████████████| 5/5 [00:19<00:00,  3.83s/it]\n"
     ]
    },
    {
     "name": "stdout",
     "output_type": "stream",
     "text": [
      "Global model loss: 0.3804410398006439; global model accuracy: 0.9322666525840759\n",
      "Round 6.\n"
     ]
    },
    {
     "name": "stderr",
     "output_type": "stream",
     "text": [
      "100%|████████████████████████████████████████████████████████████████████████████████████| 5/5 [00:19<00:00,  3.86s/it]\n"
     ]
    },
    {
     "name": "stdout",
     "output_type": "stream",
     "text": [
      "Global model loss: 0.22734127938747406; global model accuracy: 0.9431333541870117\n",
      "Round 7.\n"
     ]
    },
    {
     "name": "stderr",
     "output_type": "stream",
     "text": [
      "100%|████████████████████████████████████████████████████████████████████████████████████| 5/5 [00:20<00:00,  4.07s/it]\n"
     ]
    },
    {
     "name": "stdout",
     "output_type": "stream",
     "text": [
      "Global model loss: 0.2893979847431183; global model accuracy: 0.9444666504859924\n",
      "Round 8.\n"
     ]
    },
    {
     "name": "stderr",
     "output_type": "stream",
     "text": [
      "100%|████████████████████████████████████████████████████████████████████████████████████| 5/5 [00:19<00:00,  3.95s/it]\n"
     ]
    },
    {
     "name": "stdout",
     "output_type": "stream",
     "text": [
      "Global model loss: 0.24935847520828247; global model accuracy: 0.9399666786193848\n",
      "Round 9.\n"
     ]
    },
    {
     "name": "stderr",
     "output_type": "stream",
     "text": [
      "100%|████████████████████████████████████████████████████████████████████████████████████| 5/5 [00:18<00:00,  3.78s/it]\n"
     ]
    },
    {
     "name": "stdout",
     "output_type": "stream",
     "text": [
      "Global model loss: 0.2768063247203827; global model accuracy: 0.951033353805542\n",
      "Round 10.\n"
     ]
    },
    {
     "name": "stderr",
     "output_type": "stream",
     "text": [
      "100%|████████████████████████████████████████████████████████████████████████████████████| 5/5 [00:18<00:00,  3.64s/it]\n"
     ]
    },
    {
     "name": "stdout",
     "output_type": "stream",
     "text": [
      "Global model loss: 0.20176352560520172; global model accuracy: 0.9491333365440369\n",
      "Round 11.\n"
     ]
    },
    {
     "name": "stderr",
     "output_type": "stream",
     "text": [
      "100%|████████████████████████████████████████████████████████████████████████████████████| 5/5 [00:20<00:00,  4.06s/it]\n"
     ]
    },
    {
     "name": "stdout",
     "output_type": "stream",
     "text": [
      "Global model loss: 0.2885535955429077; global model accuracy: 0.9556999802589417\n",
      "Round 12.\n"
     ]
    },
    {
     "name": "stderr",
     "output_type": "stream",
     "text": [
      "100%|████████████████████████████████████████████████████████████████████████████████████| 5/5 [00:19<00:00,  3.82s/it]\n"
     ]
    },
    {
     "name": "stdout",
     "output_type": "stream",
     "text": [
      "Global model loss: 0.1653161644935608; global model accuracy: 0.9544000029563904\n",
      "Round 13.\n"
     ]
    },
    {
     "name": "stderr",
     "output_type": "stream",
     "text": [
      "100%|████████████████████████████████████████████████████████████████████████████████████| 5/5 [00:21<00:00,  4.22s/it]\n"
     ]
    },
    {
     "name": "stdout",
     "output_type": "stream",
     "text": [
      "Global model loss: 0.25442948937416077; global model accuracy: 0.9603666663169861\n",
      "Round 14.\n"
     ]
    },
    {
     "name": "stderr",
     "output_type": "stream",
     "text": [
      "100%|████████████████████████████████████████████████████████████████████████████████████| 5/5 [00:20<00:00,  4.03s/it]\n"
     ]
    },
    {
     "name": "stdout",
     "output_type": "stream",
     "text": [
      "Global model loss: 0.17373201251029968; global model accuracy: 0.9517666697502136\n",
      "Round 15.\n"
     ]
    },
    {
     "name": "stderr",
     "output_type": "stream",
     "text": [
      "100%|████████████████████████████████████████████████████████████████████████████████████| 5/5 [00:21<00:00,  4.25s/it]\n"
     ]
    },
    {
     "name": "stdout",
     "output_type": "stream",
     "text": [
      "Global model loss: 0.29373225569725037; global model accuracy: 0.9556333422660828\n",
      "Round 16.\n"
     ]
    },
    {
     "name": "stderr",
     "output_type": "stream",
     "text": [
      "100%|████████████████████████████████████████████████████████████████████████████████████| 5/5 [00:23<00:00,  4.62s/it]\n"
     ]
    },
    {
     "name": "stdout",
     "output_type": "stream",
     "text": [
      "Global model loss: 0.16077439486980438; global model accuracy: 0.9558333158493042\n",
      "Round 17.\n"
     ]
    },
    {
     "name": "stderr",
     "output_type": "stream",
     "text": [
      "100%|████████████████████████████████████████████████████████████████████████████████████| 5/5 [00:29<00:00,  5.80s/it]\n"
     ]
    },
    {
     "name": "stdout",
     "output_type": "stream",
     "text": [
      "Global model loss: 0.24455095827579498; global model accuracy: 0.9623000025749207\n",
      "Round 18.\n"
     ]
    },
    {
     "name": "stderr",
     "output_type": "stream",
     "text": [
      "100%|████████████████████████████████████████████████████████████████████████████████████| 5/5 [00:23<00:00,  4.73s/it]\n"
     ]
    },
    {
     "name": "stdout",
     "output_type": "stream",
     "text": [
      "Global model loss: 0.17572221159934998; global model accuracy: 0.9558666944503784\n",
      "Round 19.\n"
     ]
    },
    {
     "name": "stderr",
     "output_type": "stream",
     "text": [
      "100%|████████████████████████████████████████████████████████████████████████████████████| 5/5 [00:23<00:00,  4.68s/it]\n"
     ]
    },
    {
     "name": "stdout",
     "output_type": "stream",
     "text": [
      "Global model loss: 0.2391701489686966; global model accuracy: 0.9611999988555908\n",
      "Round 20.\n"
     ]
    },
    {
     "name": "stderr",
     "output_type": "stream",
     "text": [
      "100%|████████████████████████████████████████████████████████████████████████████████████| 5/5 [00:20<00:00,  4.05s/it]\n"
     ]
    },
    {
     "name": "stdout",
     "output_type": "stream",
     "text": [
      "Global model loss: 0.158099964261055; global model accuracy: 0.9629999995231628\n",
      "Round 21.\n"
     ]
    },
    {
     "name": "stderr",
     "output_type": "stream",
     "text": [
      "100%|████████████████████████████████████████████████████████████████████████████████████| 5/5 [00:21<00:00,  4.23s/it]\n"
     ]
    },
    {
     "name": "stdout",
     "output_type": "stream",
     "text": [
      "Global model loss: 0.22344893217086792; global model accuracy: 0.963699996471405\n",
      "Round 22.\n"
     ]
    },
    {
     "name": "stderr",
     "output_type": "stream",
     "text": [
      "100%|████████████████████████████████████████████████████████████████████████████████████| 5/5 [00:20<00:00,  4.19s/it]\n"
     ]
    },
    {
     "name": "stdout",
     "output_type": "stream",
     "text": [
      "Global model loss: 0.14562781155109406; global model accuracy: 0.9646333456039429\n",
      "Round 23.\n"
     ]
    },
    {
     "name": "stderr",
     "output_type": "stream",
     "text": [
      "100%|████████████████████████████████████████████████████████████████████████████████████| 5/5 [00:21<00:00,  4.30s/it]\n"
     ]
    },
    {
     "name": "stdout",
     "output_type": "stream",
     "text": [
      "Global model loss: 0.238419309258461; global model accuracy: 0.9627333283424377\n",
      "Round 24.\n"
     ]
    },
    {
     "name": "stderr",
     "output_type": "stream",
     "text": [
      "100%|████████████████████████████████████████████████████████████████████████████████████| 5/5 [00:22<00:00,  4.44s/it]\n"
     ]
    },
    {
     "name": "stdout",
     "output_type": "stream",
     "text": [
      "Global model loss: 0.14919528365135193; global model accuracy: 0.9630333185195923\n",
      "Round 25.\n"
     ]
    },
    {
     "name": "stderr",
     "output_type": "stream",
     "text": [
      "100%|████████████████████████████████████████████████████████████████████████████████████| 5/5 [00:19<00:00,  3.89s/it]\n"
     ]
    },
    {
     "name": "stdout",
     "output_type": "stream",
     "text": [
      "Global model loss: 0.26153525710105896; global model accuracy: 0.9624666571617126\n",
      "Round 26.\n"
     ]
    },
    {
     "name": "stderr",
     "output_type": "stream",
     "text": [
      "100%|████████████████████████████████████████████████████████████████████████████████████| 5/5 [00:20<00:00,  4.19s/it]\n"
     ]
    },
    {
     "name": "stdout",
     "output_type": "stream",
     "text": [
      "Global model loss: 0.15208758413791656; global model accuracy: 0.9614666700363159\n",
      "Round 27.\n"
     ]
    },
    {
     "name": "stderr",
     "output_type": "stream",
     "text": [
      "100%|████████████████████████████████████████████████████████████████████████████████████| 5/5 [00:19<00:00,  3.98s/it]\n"
     ]
    },
    {
     "name": "stdout",
     "output_type": "stream",
     "text": [
      "Global model loss: 0.2536298930644989; global model accuracy: 0.964033305644989\n",
      "Round 28.\n"
     ]
    },
    {
     "name": "stderr",
     "output_type": "stream",
     "text": [
      "100%|████████████████████████████████████████████████████████████████████████████████████| 5/5 [00:18<00:00,  3.75s/it]\n"
     ]
    },
    {
     "name": "stdout",
     "output_type": "stream",
     "text": [
      "Global model loss: 0.17149147391319275; global model accuracy: 0.9608666896820068\n",
      "Round 29.\n"
     ]
    },
    {
     "name": "stderr",
     "output_type": "stream",
     "text": [
      "100%|████████████████████████████████████████████████████████████████████████████████████| 5/5 [00:21<00:00,  4.37s/it]\n"
     ]
    },
    {
     "name": "stdout",
     "output_type": "stream",
     "text": [
      "Global model loss: 0.22538498044013977; global model accuracy: 0.9678000211715698\n",
      "Round 30.\n"
     ]
    },
    {
     "name": "stderr",
     "output_type": "stream",
     "text": [
      "100%|████████████████████████████████████████████████████████████████████████████████████| 5/5 [00:21<00:00,  4.22s/it]\n"
     ]
    },
    {
     "name": "stdout",
     "output_type": "stream",
     "text": [
      "Global model loss: 0.15630891919136047; global model accuracy: 0.9642000198364258\n",
      "Round 31.\n"
     ]
    },
    {
     "name": "stderr",
     "output_type": "stream",
     "text": [
      "100%|████████████████████████████████████████████████████████████████████████████████████| 5/5 [00:20<00:00,  4.12s/it]\n"
     ]
    },
    {
     "name": "stdout",
     "output_type": "stream",
     "text": [
      "Global model loss: 0.20901766419410706; global model accuracy: 0.970633327960968\n",
      "Round 32.\n"
     ]
    },
    {
     "name": "stderr",
     "output_type": "stream",
     "text": [
      "100%|████████████████████████████████████████████████████████████████████████████████████| 5/5 [00:21<00:00,  4.21s/it]\n"
     ]
    },
    {
     "name": "stdout",
     "output_type": "stream",
     "text": [
      "Global model loss: 0.2071932554244995; global model accuracy: 0.9648333191871643\n",
      "Round 33.\n"
     ]
    },
    {
     "name": "stderr",
     "output_type": "stream",
     "text": [
      "100%|████████████████████████████████████████████████████████████████████████████████████| 5/5 [00:20<00:00,  4.03s/it]\n"
     ]
    },
    {
     "name": "stdout",
     "output_type": "stream",
     "text": [
      "Global model loss: 0.18956084549427032; global model accuracy: 0.9686333537101746\n",
      "Round 34.\n"
     ]
    },
    {
     "name": "stderr",
     "output_type": "stream",
     "text": [
      "100%|████████████████████████████████████████████████████████████████████████████████████| 5/5 [00:20<00:00,  4.11s/it]\n"
     ]
    },
    {
     "name": "stdout",
     "output_type": "stream",
     "text": [
      "Global model loss: 0.22042913734912872; global model accuracy: 0.9629999995231628\n",
      "Round 35.\n"
     ]
    },
    {
     "name": "stderr",
     "output_type": "stream",
     "text": [
      "100%|████████████████████████████████████████████████████████████████████████████████████| 5/5 [00:19<00:00,  3.95s/it]\n"
     ]
    },
    {
     "name": "stdout",
     "output_type": "stream",
     "text": [
      "Global model loss: 0.1802329123020172; global model accuracy: 0.9675333499908447\n",
      "Round 36.\n"
     ]
    },
    {
     "name": "stderr",
     "output_type": "stream",
     "text": [
      "100%|████████████████████████████████████████████████████████████████████████████████████| 5/5 [00:22<00:00,  4.48s/it]\n"
     ]
    },
    {
     "name": "stdout",
     "output_type": "stream",
     "text": [
      "Global model loss: 0.2104329913854599; global model accuracy: 0.9664333462715149\n",
      "Round 37.\n"
     ]
    },
    {
     "name": "stderr",
     "output_type": "stream",
     "text": [
      "100%|████████████████████████████████████████████████████████████████████████████████████| 5/5 [00:20<00:00,  4.14s/it]\n"
     ]
    },
    {
     "name": "stdout",
     "output_type": "stream",
     "text": [
      "Global model loss: 0.15732450783252716; global model accuracy: 0.9700999855995178\n",
      "Round 38.\n"
     ]
    },
    {
     "name": "stderr",
     "output_type": "stream",
     "text": [
      "100%|████████████████████████████████████████████████████████████████████████████████████| 5/5 [00:20<00:00,  4.10s/it]\n"
     ]
    },
    {
     "name": "stdout",
     "output_type": "stream",
     "text": [
      "Global model loss: 0.22978773713111877; global model accuracy: 0.9658666849136353\n",
      "Round 39.\n"
     ]
    },
    {
     "name": "stderr",
     "output_type": "stream",
     "text": [
      "100%|████████████████████████████████████████████████████████████████████████████████████| 5/5 [00:20<00:00,  4.09s/it]\n"
     ]
    },
    {
     "name": "stdout",
     "output_type": "stream",
     "text": [
      "Global model loss: 0.15897424519062042; global model accuracy: 0.9682333469390869\n",
      "Round 40.\n"
     ]
    },
    {
     "name": "stderr",
     "output_type": "stream",
     "text": [
      "100%|████████████████████████████████████████████████████████████████████████████████████| 5/5 [00:21<00:00,  4.30s/it]\n"
     ]
    },
    {
     "name": "stdout",
     "output_type": "stream",
     "text": [
      "Global model loss: 0.21285226941108704; global model accuracy: 0.9682666659355164\n",
      "Round 41.\n"
     ]
    },
    {
     "name": "stderr",
     "output_type": "stream",
     "text": [
      "100%|████████████████████████████████████████████████████████████████████████████████████| 5/5 [00:21<00:00,  4.27s/it]\n"
     ]
    },
    {
     "name": "stdout",
     "output_type": "stream",
     "text": [
      "Global model loss: 0.17528344690799713; global model accuracy: 0.9678666591644287\n",
      "Round 42.\n"
     ]
    },
    {
     "name": "stderr",
     "output_type": "stream",
     "text": [
      "100%|████████████████████████████████████████████████████████████████████████████████████| 5/5 [00:19<00:00,  3.89s/it]\n"
     ]
    },
    {
     "name": "stdout",
     "output_type": "stream",
     "text": [
      "Global model loss: 0.21429754793643951; global model accuracy: 0.9701333045959473\n",
      "Round 43.\n"
     ]
    },
    {
     "name": "stderr",
     "output_type": "stream",
     "text": [
      "100%|████████████████████████████████████████████████████████████████████████████████████| 5/5 [00:21<00:00,  4.37s/it]\n"
     ]
    },
    {
     "name": "stdout",
     "output_type": "stream",
     "text": [
      "Global model loss: 0.18100391328334808; global model accuracy: 0.9664999842643738\n",
      "Round 44.\n"
     ]
    },
    {
     "name": "stderr",
     "output_type": "stream",
     "text": [
      "100%|████████████████████████████████████████████████████████████████████████████████████| 5/5 [00:19<00:00,  3.98s/it]\n"
     ]
    },
    {
     "name": "stdout",
     "output_type": "stream",
     "text": [
      "Global model loss: 0.21411339938640594; global model accuracy: 0.9703666567802429\n",
      "Round 45.\n"
     ]
    },
    {
     "name": "stderr",
     "output_type": "stream",
     "text": [
      "100%|████████████████████████████████████████████████████████████████████████████████████| 5/5 [00:20<00:00,  4.12s/it]\n"
     ]
    },
    {
     "name": "stdout",
     "output_type": "stream",
     "text": [
      "Global model loss: 0.18707048892974854; global model accuracy: 0.9645333290100098\n",
      "Round 46.\n"
     ]
    },
    {
     "name": "stderr",
     "output_type": "stream",
     "text": [
      "100%|████████████████████████████████████████████████████████████████████████████████████| 5/5 [00:20<00:00,  4.09s/it]\n"
     ]
    },
    {
     "name": "stdout",
     "output_type": "stream",
     "text": [
      "Global model loss: 0.21689456701278687; global model accuracy: 0.9708333611488342\n",
      "Round 47.\n"
     ]
    },
    {
     "name": "stderr",
     "output_type": "stream",
     "text": [
      "100%|████████████████████████████████████████████████████████████████████████████████████| 5/5 [00:27<00:00,  5.51s/it]\n"
     ]
    },
    {
     "name": "stdout",
     "output_type": "stream",
     "text": [
      "Global model loss: 0.199477881193161; global model accuracy: 0.9636333584785461\n",
      "Round 48.\n"
     ]
    },
    {
     "name": "stderr",
     "output_type": "stream",
     "text": [
      "100%|████████████████████████████████████████████████████████████████████████████████████| 5/5 [00:23<00:00,  4.63s/it]\n"
     ]
    },
    {
     "name": "stdout",
     "output_type": "stream",
     "text": [
      "Global model loss: 0.18504273891448975; global model accuracy: 0.9725333452224731\n",
      "Round 49.\n"
     ]
    },
    {
     "name": "stderr",
     "output_type": "stream",
     "text": [
      "100%|████████████████████████████████████████████████████████████████████████████████████| 5/5 [00:21<00:00,  4.34s/it]\n"
     ]
    },
    {
     "name": "stdout",
     "output_type": "stream",
     "text": [
      "Global model loss: 0.21666374802589417; global model accuracy: 0.9625333547592163\n",
      "Round 50.\n"
     ]
    },
    {
     "name": "stderr",
     "output_type": "stream",
     "text": [
      "100%|████████████████████████████████████████████████████████████████████████████████████| 5/5 [00:21<00:00,  4.20s/it]\n"
     ]
    },
    {
     "name": "stdout",
     "output_type": "stream",
     "text": [
      "Global model loss: 0.19063588976860046; global model accuracy: 0.9711999893188477\n"
     ]
    }
   ],
   "source": [
    "# Percentage and number of clients participating at each global training epoch\n",
    "percentage_participants = 1.0\n",
    "n_participants = int(n_clients * percentage_participants)\n",
    "\n",
    "# Number of global training epochs\n",
    "n_rounds = 50\n",
    "\n",
    "# Number of local training epochs per global training epoch\n",
    "n_local_rounds = 5\n",
    "\n",
    "# Local batch size\n",
    "local_batch_size = 32\n",
    "\n",
    "# Local learning rate\n",
    "local_lr = 0.001\n",
    "\n",
    "# Global learning rate or 'gain'\n",
    "model_substitution_rate = 1.0\n",
    "\n",
    "\n",
    "# Clear nans and infinites in model updates\n",
    "clear_nans = True\n",
    "\n",
    "# Metrics to score accuracy and loss for fixed no of clients\n",
    "metrics = {'accuracy': [],\n",
    "           'loss': [],\n",
    "           'precision': [],\n",
    "           'recall': [],\n",
    "           'f1_score': []\n",
    "          }\n",
    "\n",
    "\n",
    "\n",
    "####################################\n",
    "# MODEL AND NETWORK INITIALIZATION #\n",
    "####################################\n",
    "inputs = X_train_smote[0*ss:0*ss+ss]\n",
    "outputs = y_train_smote[0*ss:0*ss+ss]\n",
    "global_model = build_model(inputs,outputs)\n",
    "n_layers = len(trainable_layers(global_model))\n",
    "\n",
    "print('Initializing network.')\n",
    "#sleep(1)\n",
    "network = []\n",
    "for i in tqdm(range(n_clients)):\n",
    "    ss = int(len(X_train_smote)/n_clients)\n",
    "    inputs = X_train_smote[i*ss:i*ss+ss]\n",
    "    outputs = y_train_smote[i*ss:i*ss+ss]\n",
    "    #network.append(build_model(inputs, outputs))\n",
    "    network.append(global_model)\n",
    "\n",
    "\n",
    "\n",
    "##################\n",
    "# BEGIN TRAINING #\n",
    "##################\n",
    "for t in range(n_rounds):\n",
    "    print(f'Round {t+1}.')\n",
    "    #sleep(1)\n",
    "\n",
    "    ## SERVER SIDE #################################################################\n",
    "    # Fetch global model parameters\n",
    "    global_weights, global_biases = get_parameters(global_model)\n",
    "\n",
    "    if clear_nans:\n",
    "        global_weights, global_biases = nans_to_zero(global_weights, global_biases)\n",
    "\n",
    "    # Initialize peer update lists\n",
    "    network_weight_updates = []\n",
    "    network_bias_updates = []\n",
    "\n",
    "    # Selection of participant peers in this global training epoch\n",
    "    participants = random.sample(list(enumerate(network)),n_participants)    \n",
    "    ################################################################################\n",
    "\n",
    "\n",
    "    ## CLIENT SIDE #################################################################\n",
    "    for i, local_model in tqdm(participants):\n",
    "\n",
    "        # Update local model with global parameters \n",
    "        set_parameters(local_model, global_weights, global_biases)\n",
    "\n",
    "        # Initialization of user data\n",
    "        ss = int(len(X_train_smote)/n_clients)\n",
    "        inputs = X_train_smote[i*ss:i*ss+ss]\n",
    "        outputs = y_train_smote[i*ss:i*ss+ss]\n",
    "\n",
    "        # the client side\n",
    "        X_train_local, X_test_local, y_train_local, y_test_local = train_test_split(inputs,outputs, test_size=0.2, random_state=42)\n",
    "        inputs = X_train_local\n",
    "        outputs = y_train_local \n",
    "          \n",
    "        # Train local model \n",
    "        local_weight_updates, local_bias_updates = get_updates(local_model, inputs, outputs, local_batch_size, n_local_rounds)\n",
    "                                                                       \n",
    "        if clear_nans:\n",
    "            local_weight_updates, local_bias_updates = nans_to_zero(local_weight_updates, local_bias_updates)\n",
    "        network_weight_updates.append(local_weight_updates)\n",
    "        network_bias_updates.append(local_bias_updates)\n",
    "    ## END OF CLIENT SIDE ##########################################################\n",
    "\n",
    "    \n",
    "    ######################################\n",
    "    # SERVER SIDE AGGREGATION MECHANISMS #\n",
    "    ######################################\n",
    "\n",
    "\n",
    "    # Aggregate client updates\n",
    "    aggregated_weights, aggregated_biases = aggregate(n_layers, \n",
    "                                                      n_clients, \n",
    "                                                      np.mean, \n",
    "                                                      network_weight_updates, \n",
    "                                                      network_bias_updates)\n",
    "\n",
    "    if clear_nans:\n",
    "        aggregated_weights, aggregated_biases = nans_to_zero(aggregated_weights, aggregated_biases)\n",
    "\n",
    "    # Apply updates to global model\n",
    "    apply_updates(global_model, model_substitution_rate, aggregated_weights, aggregated_biases)\n",
    "\n",
    "\n",
    "    ###################\n",
    "    # COMPUTE METRICS #\n",
    "    ###################\n",
    "    \n",
    "    # Global model accuracy\n",
    "    score = global_model.evaluate(X_test_smote, y_test_smote, verbose=0, batch_size = 64)\n",
    "    print(f'Global model loss: {score[0]}; global model accuracy: {score[1]}')\n",
    "    metrics['loss'].append(score[0])\n",
    "    metrics['accuracy'].append(score[1])\n",
    "    \n",
    "    yhat_probs = global_model.predict(X_test_smote, verbose=0)\n",
    "    # predict crisp classes for test set\n",
    "    y_pred = tf.where(yhat_probs<=0.5,0,1)\n",
    "    # precision tp / (tp + fp)\n",
    "    precision = precision_score(y_test_smote, y_pred)\n",
    "    metrics['precision'].append(precision)\n",
    "    # recall: tp / (tp + fn)\n",
    "    recall = recall_score(y_test_smote, y_pred)\n",
    "    metrics['recall'].append(recall)\n",
    "    # f1: 2 tp / (2 tp + fp + fn)\n",
    "    f1 = f1_score(y_test_smote, y_pred)\n",
    "    metrics['f1_score'].append(f1)"
   ]
  },
  {
   "cell_type": "code",
   "execution_count": 42,
   "metadata": {},
   "outputs": [],
   "source": [
    "results[n_clients] = metrics"
   ]
  },
  {
   "cell_type": "markdown",
   "metadata": {},
   "source": [
    "# Graphs"
   ]
  },
  {
   "cell_type": "code",
   "execution_count": 44,
   "metadata": {},
   "outputs": [
    {
     "name": "stdout",
     "output_type": "stream",
     "text": [
      "Number of Rounds:  50\n"
     ]
    },
    {
     "data": {
      "text/plain": [
       "[Text(0.5, 0, 'Rounds'), Text(0, 0.5, 'F1_Score')]"
      ]
     },
     "execution_count": 44,
     "metadata": {},
     "output_type": "execute_result"
    },
    {
     "data": {
      "image/png": "[encoded data removed]",
      "text/plain": [
       "<Figure size 2550x1050 with 5 Axes>"
      ]
     },
     "metadata": {},
     "output_type": "display_data"
    }
   ],
   "source": [
    "import seaborn as sns\n",
    "import matplotlib.pyplot as plt\n",
    "x = [i for i in range(1,51)]\n",
    "\n",
    "print(\"Number of Rounds: \", 50)\n",
    "\n",
    "fig, axs = plt.subplots(5)\n",
    "fig.set_size_inches(25.5, 10.5)\n",
    "\n",
    "\n",
    "# sns.lineplot(x=x,y=results[3]['accuracy'], ax=axs[0], legend='brief', label=\"3 Clients\")\n",
    "# sns.lineplot(x=x,y=results[5]['accuracy'], ax=axs[0], legend='brief', label=\"5 Clients\")\n",
    "sns.lineplot(x=x,y=results[10]['accuracy'], ax=axs[0], legend='brief', label=\"10 Clients\")\n",
    "axs[0].set(xlabel=\"Rounds\", ylabel = \"Accuracy\")\n",
    "\n",
    "# sns.lineplot(x=x,y=results[3]['loss'], ax=axs[1], legend='brief', label=\"3 Clients\")\n",
    "# sns.lineplot(x=x,y=results[5]['loss'], ax=axs[1], legend='brief', label=\"5 Clients\")\n",
    "sns.lineplot(x=x,y=results[10]['loss'], ax=axs[1], legend='brief', label=\"10 Clients\")\n",
    "axs[1].set(xlabel=\"Rounds\", ylabel = \"Loss\")\n",
    "\n",
    "# sns.lineplot(x=x,y=results[3]['precision'], ax=axs[2], legend='brief', label=\"3 Clients\")\n",
    "# sns.lineplot(x=x,y=results[5]['precision'], ax=axs[2], legend='brief', label=\"5 Clients\")\n",
    "sns.lineplot(x=x,y=results[10]['precision'], ax=axs[2], legend='brief', label=\"10 Clients\")\n",
    "axs[2].set(xlabel=\"Rounds\", ylabel = \"Precision\")\n",
    "\n",
    "# sns.lineplot(x=x,y=results[3]['recall'], ax=axs[3], legend='brief', label=\"3 Clients\")\n",
    "# sns.lineplot(x=x,y=results[5]['recall'], ax=axs[3], legend='brief', label=\"5 Clients\")\n",
    "sns.lineplot(x=x,y=results[10]['recall'], ax=axs[3], legend='brief', label=\"10 Clients\")\n",
    "axs[3].set(xlabel=\"Rounds\", ylabel = \"Recall\")\n",
    "\n",
    "# sns.lineplot(x=x,y=results[3]['f1_score'], ax=axs[4], legend='brief', label=\"3 Clients\")\n",
    "# sns.lineplot(x=x,y=results[5]['f1_score'], ax=axs[4], legend='brief', label=\"5 Clients\")\n",
    "sns.lineplot(x=x,y=results[10]['f1_score'], ax=axs[4], legend='brief', label=\"10 Clients\")\n",
    "axs[4].set(xlabel=\"Rounds\", ylabel = \"F1_Score\")"
   ]
  },
  {
   "cell_type": "code",
   "execution_count": 46,
   "metadata": {},
   "outputs": [
    {
     "name": "stdout",
     "output_type": "stream",
     "text": [
      "0.9725333452224731\n",
      "0.9713803292528493\n",
      "0.9892638036809815\n",
      "0.9726736088081184\n"
     ]
    }
   ],
   "source": [
    "max_acc=max(results[5]['accuracy'])\n",
    "print(max_acc)\n",
    "\n",
    "max_precision=max(results[5]['precision'])\n",
    "print(max_precision)\n",
    "\n",
    "max_recall=max(results[5]['recall'])\n",
    "print(max_recall)\n",
    "\n",
    "max_f1_score=max(results[5]['f1_score'])\n",
    "print(max_f1_score)"
   ]
  },
  {
   "cell_type": "code",
   "execution_count": null,
   "metadata": {},
   "outputs": [],
   "source": []
  }
 ],
 "metadata": {
  "colab": {
   "provenance": []
  },
  "kernelspec": {
   "display_name": "Python 3 (ipykernel)",
   "language": "python",
   "name": "python3"
  },
  "language_info": {
   "codemirror_mode": {
    "name": "ipython",
    "version": 3
   },
   "file_extension": ".py",
   "mimetype": "text/x-python",
   "name": "python",
   "nbconvert_exporter": "python",
   "pygments_lexer": "ipython3",
   "version": "3.9.13"
  }
 },
 "nbformat": 4,
 "nbformat_minor": 1
}
