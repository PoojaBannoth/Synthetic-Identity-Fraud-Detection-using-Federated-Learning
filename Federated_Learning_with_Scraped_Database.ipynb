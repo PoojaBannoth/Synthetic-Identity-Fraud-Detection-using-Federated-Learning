{
 "cells": [
  {
   "cell_type": "code",
   "execution_count": 1,
   "metadata": {
    "id": "iwDAW-h7150Y"
   },
   "outputs": [
    {
     "name": "stdout",
     "output_type": "stream",
     "text": [
      "Requirement already satisfied: torch in c:\\users\\sures\\anaconda3\\lib\\site-packages (1.13.1)\n",
      "Requirement already satisfied: typing-extensions in c:\\users\\sures\\anaconda3\\lib\\site-packages (from torch) (4.0.0)\n",
      "Requirement already satisfied: torchvision in c:\\users\\sures\\anaconda3\\lib\\site-packages (0.14.1)\n",
      "Requirement already satisfied: numpy in c:\\users\\sures\\anaconda3\\lib\\site-packages (from torchvision) (1.21.4)\n",
      "Requirement already satisfied: requests in c:\\users\\sures\\anaconda3\\lib\\site-packages (from torchvision) (2.26.0)\n",
      "Requirement already satisfied: pillow!=8.3.*,>=5.3.0 in c:\\users\\sures\\anaconda3\\lib\\site-packages (from torchvision) (9.2.0)\n",
      "Requirement already satisfied: torch==1.13.1 in c:\\users\\sures\\anaconda3\\lib\\site-packages (from torchvision) (1.13.1)\n",
      "Requirement already satisfied: typing-extensions in c:\\users\\sures\\anaconda3\\lib\\site-packages (from torchvision) (4.0.0)\n",
      "Requirement already satisfied: idna<4,>=2.5 in c:\\users\\sures\\anaconda3\\lib\\site-packages (from requests->torchvision) (3.3)\n",
      "Requirement already satisfied: charset-normalizer~=2.0.0 in c:\\users\\sures\\anaconda3\\lib\\site-packages (from requests->torchvision) (2.0.4)\n",
      "Requirement already satisfied: urllib3<1.27,>=1.21.1 in c:\\users\\sures\\anaconda3\\lib\\site-packages (from requests->torchvision) (1.26.11)\n",
      "Requirement already satisfied: certifi>=2017.4.17 in c:\\users\\sures\\anaconda3\\lib\\site-packages (from requests->torchvision) (2022.9.14)\n",
      "Requirement already satisfied: imblearn in c:\\users\\sures\\anaconda3\\lib\\site-packages (0.0)\n",
      "Requirement already satisfied: imbalanced-learn in c:\\users\\sures\\anaconda3\\lib\\site-packages (from imblearn) (0.10.1)\n",
      "Requirement already satisfied: joblib>=1.1.1 in c:\\users\\sures\\anaconda3\\lib\\site-packages (from imbalanced-learn->imblearn) (1.2.0)\n",
      "Requirement already satisfied: scipy>=1.3.2 in c:\\users\\sures\\anaconda3\\lib\\site-packages (from imbalanced-learn->imblearn) (1.9.1)\n",
      "Requirement already satisfied: scikit-learn>=1.0.2 in c:\\users\\sures\\anaconda3\\lib\\site-packages (from imbalanced-learn->imblearn) (1.0.2)\n",
      "Requirement already satisfied: numpy>=1.17.3 in c:\\users\\sures\\anaconda3\\lib\\site-packages (from imbalanced-learn->imblearn) (1.21.4)\n",
      "Requirement already satisfied: threadpoolctl>=2.0.0 in c:\\users\\sures\\anaconda3\\lib\\site-packages (from imbalanced-learn->imblearn) (2.2.0)\n",
      "Requirement already satisfied: sklearn in c:\\users\\sures\\anaconda3\\lib\\site-packages (0.0.post1)\n"
     ]
    }
   ],
   "source": [
    "#importing libraries\n",
    "!pip install torch \n",
    "!pip install torchvision\n",
    "!pip install imblearn\n",
    "!pip install sklearn\n",
    "import os\n",
    "import random\n",
    "from tqdm import tqdm\n",
    "import numpy as np\n",
    "import torch, torchvision\n",
    "import torch as T\n",
    "import torch.nn as nn\n",
    "import torch.nn.functional as F\n",
    "import torch.optim as optim\n",
    "from torchvision import datasets, transforms\n",
    "from torch.utils.data.dataset import Dataset   \n",
    "\n",
    "import matplotlib.pyplot as plt\n",
    "import pandas as pd\n",
    "import seaborn as sb\n",
    "\n",
    "%matplotlib inline\n",
    "\n",
    "from imblearn.over_sampling import SMOTE\n",
    "\n",
    "from sklearn.model_selection import train_test_split\n",
    "\n",
    "from numpy import vstack\n",
    "from sklearn.metrics import accuracy_score\n",
    "from sklearn.metrics import precision_score, recall_score, f1_score, confusion_matrix\n",
    "from torch.optim import SGD\n",
    "from torch.nn import BCELoss"
   ]
  },
  {
   "cell_type": "code",
   "execution_count": 2,
   "metadata": {
    "colab": {
     "base_uri": "https://localhost:8080/",
     "height": 206
    },
    "id": "4gF9u6ZU4B_a",
    "outputId": "9014b848-eab2-4ce9-8f4e-f7d92475c4af"
   },
   "outputs": [
    {
     "data": {
      "text/html": [
       "<div>\n",
       "<style scoped>\n",
       "    .dataframe tbody tr th:only-of-type {\n",
       "        vertical-align: middle;\n",
       "    }\n",
       "\n",
       "    .dataframe tbody tr th {\n",
       "        vertical-align: top;\n",
       "    }\n",
       "\n",
       "    .dataframe thead th {\n",
       "        text-align: right;\n",
       "    }\n",
       "</style>\n",
       "<table border=\"1\" class=\"dataframe\">\n",
       "  <thead>\n",
       "    <tr style=\"text-align: right;\">\n",
       "      <th></th>\n",
       "      <th>Unnamed: 0</th>\n",
       "      <th>Name</th>\n",
       "      <th>DoB</th>\n",
       "      <th>Mobile</th>\n",
       "      <th>Email</th>\n",
       "      <th>Location</th>\n",
       "      <th>label</th>\n",
       "    </tr>\n",
       "  </thead>\n",
       "  <tbody>\n",
       "    <tr>\n",
       "      <th>0</th>\n",
       "      <td>0</td>\n",
       "      <td>Abdul  Samad S Thakur</td>\n",
       "      <td>21-Jan</td>\n",
       "      <td>9.146494e+09</td>\n",
       "      <td>info@marcopower.com</td>\n",
       "      <td>Mazgaon Mumbai 400010.0</td>\n",
       "      <td>0</td>\n",
       "    </tr>\n",
       "    <tr>\n",
       "      <th>1</th>\n",
       "      <td>1</td>\n",
       "      <td>ABHISHEK CHAURASIA</td>\n",
       "      <td>25-Aug</td>\n",
       "      <td>9.450721e+09</td>\n",
       "      <td>ABHISHEK9MARC@GMAIL.COM</td>\n",
       "      <td>UTTAR PRADESH MOHAMMADABAD 233227.0</td>\n",
       "      <td>0</td>\n",
       "    </tr>\n",
       "    <tr>\n",
       "      <th>2</th>\n",
       "      <td>2</td>\n",
       "      <td>ABHISHEK DWIVEDI</td>\n",
       "      <td>01-Jul</td>\n",
       "      <td>8.763206e+09</td>\n",
       "      <td>tejaswi_kunjir2422@rediff.com</td>\n",
       "      <td>ALLAHABAD GHOORPUR 212111.0</td>\n",
       "      <td>0</td>\n",
       "    </tr>\n",
       "    <tr>\n",
       "      <th>3</th>\n",
       "      <td>3</td>\n",
       "      <td>abhishek goel</td>\n",
       "      <td>12-Apr</td>\n",
       "      <td>9.422032e+09</td>\n",
       "      <td>spect002@yahoo.in</td>\n",
       "      <td>Narayan Peth Pune 411030.0</td>\n",
       "      <td>0</td>\n",
       "    </tr>\n",
       "    <tr>\n",
       "      <th>4</th>\n",
       "      <td>4</td>\n",
       "      <td>Abhishek Gupta</td>\n",
       "      <td>17-May</td>\n",
       "      <td>9.899800e+09</td>\n",
       "      <td>Abhinavdoit@sify.com</td>\n",
       "      <td>Sector 1 Noida 201301.0</td>\n",
       "      <td>0</td>\n",
       "    </tr>\n",
       "  </tbody>\n",
       "</table>\n",
       "</div>"
      ],
      "text/plain": [
       "   Unnamed: 0                   Name     DoB        Mobile  \\\n",
       "0           0  Abdul  Samad S Thakur  21-Jan  9.146494e+09   \n",
       "1           1     ABHISHEK CHAURASIA  25-Aug  9.450721e+09   \n",
       "2           2       ABHISHEK DWIVEDI  01-Jul  8.763206e+09   \n",
       "3           3          abhishek goel  12-Apr  9.422032e+09   \n",
       "4           4         Abhishek Gupta  17-May  9.899800e+09   \n",
       "\n",
       "                           Email                             Location  label  \n",
       "0            info@marcopower.com              Mazgaon Mumbai 400010.0      0  \n",
       "1        ABHISHEK9MARC@GMAIL.COM  UTTAR PRADESH MOHAMMADABAD 233227.0      0  \n",
       "2  tejaswi_kunjir2422@rediff.com          ALLAHABAD GHOORPUR 212111.0      0  \n",
       "3              spect002@yahoo.in           Narayan Peth Pune 411030.0      0  \n",
       "4           Abhinavdoit@sify.com              Sector 1 Noida 201301.0      0  "
      ]
     },
     "execution_count": 2,
     "metadata": {},
     "output_type": "execute_result"
    }
   ],
   "source": [
    "# Read the Synthetic identity dataset in the dataframe\n",
    "# data = pd.read_csv('drive/MyDrive/labeled_database.csv')\n",
    "data = pd.read_csv('labeled_database.csv')\n",
    "data.head()"
   ]
  },
  {
   "cell_type": "code",
   "execution_count": 3,
   "metadata": {
    "colab": {
     "base_uri": "https://localhost:8080/",
     "height": 344
    },
    "id": "wNtUZ06U4OFk",
    "outputId": "c7d4a0a8-a767-4ab1-db65-f34a35430a18"
   },
   "outputs": [
    {
     "data": {
      "text/plain": [
       "1    171429\n",
       "0       826\n",
       "Name: label, dtype: int64"
      ]
     },
     "execution_count": 3,
     "metadata": {},
     "output_type": "execute_result"
    },
    {
     "data": {
      "image/png": "[encoded data removed]",
      "text/plain": [
       "<Figure size 640x480 with 1 Axes>"
      ]
     },
     "metadata": {},
     "output_type": "display_data"
    }
   ],
   "source": [
    "#print the lebels in the histogram to see frequecy\n",
    "pd.value_counts(data['label']).plot.bar()\n",
    "plt.title('Fraud Detecttion histogram')\n",
    "plt.xlabel('label')\n",
    "plt.ylabel('Frequency')\n",
    "data['label'].value_counts()"
   ]
  },
  {
   "cell_type": "code",
   "execution_count": 4,
   "metadata": {
    "id": "2Li99jaPzpNY"
   },
   "outputs": [],
   "source": [
    "import re\n",
    "# Remove punctuation and apply case folding\n",
    "def preprocessor(text):\n",
    "    text = re.sub('<[^>]*>', '', str(text).lower())\n",
    "    emoticons = re.findall('(?::|;|=)(?:-)?(?:\\)|\\(|D|P)', text)\n",
    "    text = (re.sub('[\\W]+', ' ', text.lower()) + ' ' .join(emoticons).replace('-', ''))\n",
    "\n",
    "    return text"
   ]
  },
  {
   "cell_type": "code",
   "execution_count": 5,
   "metadata": {
    "colab": {
     "base_uri": "https://localhost:8080/",
     "height": 206
    },
    "id": "F1pq1MIYz3jZ",
    "outputId": "c4c44cc5-d8a7-42f8-a91b-10c748bb0240"
   },
   "outputs": [
    {
     "data": {
      "text/html": [
       "<div>\n",
       "<style scoped>\n",
       "    .dataframe tbody tr th:only-of-type {\n",
       "        vertical-align: middle;\n",
       "    }\n",
       "\n",
       "    .dataframe tbody tr th {\n",
       "        vertical-align: top;\n",
       "    }\n",
       "\n",
       "    .dataframe thead th {\n",
       "        text-align: right;\n",
       "    }\n",
       "</style>\n",
       "<table border=\"1\" class=\"dataframe\">\n",
       "  <thead>\n",
       "    <tr style=\"text-align: right;\">\n",
       "      <th></th>\n",
       "      <th>Unnamed: 0</th>\n",
       "      <th>Name</th>\n",
       "      <th>DoB</th>\n",
       "      <th>Mobile</th>\n",
       "      <th>Email</th>\n",
       "      <th>Location</th>\n",
       "      <th>label</th>\n",
       "    </tr>\n",
       "  </thead>\n",
       "  <tbody>\n",
       "    <tr>\n",
       "      <th>0</th>\n",
       "      <td>0</td>\n",
       "      <td>abdul samad s thakur</td>\n",
       "      <td>21 jan</td>\n",
       "      <td>9146494301 0</td>\n",
       "      <td>info marcopower com</td>\n",
       "      <td>mazgaon mumbai 400010 0</td>\n",
       "      <td>0</td>\n",
       "    </tr>\n",
       "    <tr>\n",
       "      <th>1</th>\n",
       "      <td>1</td>\n",
       "      <td>abhishek chaurasia</td>\n",
       "      <td>25 aug</td>\n",
       "      <td>9450720765 0</td>\n",
       "      <td>abhishek9marc gmail com</td>\n",
       "      <td>uttar pradesh mohammadabad 233227 0</td>\n",
       "      <td>0</td>\n",
       "    </tr>\n",
       "    <tr>\n",
       "      <th>2</th>\n",
       "      <td>2</td>\n",
       "      <td>abhishek dwivedi</td>\n",
       "      <td>01 jul</td>\n",
       "      <td>8763205964 0</td>\n",
       "      <td>tejaswi_kunjir2422 rediff com</td>\n",
       "      <td>allahabad ghoorpur 212111 0</td>\n",
       "      <td>0</td>\n",
       "    </tr>\n",
       "    <tr>\n",
       "      <th>3</th>\n",
       "      <td>3</td>\n",
       "      <td>abhishek goel</td>\n",
       "      <td>12 apr</td>\n",
       "      <td>9422032359 0</td>\n",
       "      <td>spect002 yahoo in</td>\n",
       "      <td>narayan peth pune 411030 0</td>\n",
       "      <td>0</td>\n",
       "    </tr>\n",
       "    <tr>\n",
       "      <th>4</th>\n",
       "      <td>4</td>\n",
       "      <td>abhishek gupta</td>\n",
       "      <td>17 may</td>\n",
       "      <td>9899799723 0</td>\n",
       "      <td>abhinavdoit sify com</td>\n",
       "      <td>sector 1 noida 201301 0</td>\n",
       "      <td>0</td>\n",
       "    </tr>\n",
       "  </tbody>\n",
       "</table>\n",
       "</div>"
      ],
      "text/plain": [
       "   Unnamed: 0                  Name     DoB        Mobile  \\\n",
       "0           0  abdul samad s thakur  21 jan  9146494301 0   \n",
       "1           1    abhishek chaurasia  25 aug  9450720765 0   \n",
       "2           2      abhishek dwivedi  01 jul  8763205964 0   \n",
       "3           3         abhishek goel  12 apr  9422032359 0   \n",
       "4           4        abhishek gupta  17 may  9899799723 0   \n",
       "\n",
       "                           Email                             Location  label  \n",
       "0            info marcopower com              mazgaon mumbai 400010 0      0  \n",
       "1        abhishek9marc gmail com  uttar pradesh mohammadabad 233227 0      0  \n",
       "2  tejaswi_kunjir2422 rediff com          allahabad ghoorpur 212111 0      0  \n",
       "3              spect002 yahoo in           narayan peth pune 411030 0      0  \n",
       "4           abhinavdoit sify com              sector 1 noida 201301 0      0  "
      ]
     },
     "execution_count": 5,
     "metadata": {},
     "output_type": "execute_result"
    }
   ],
   "source": [
    "# apply the preprocessor to all columns\n",
    "\n",
    "data['Name'] = data['Name'].apply(preprocessor)\n",
    "data['DoB'] = data['DoB'].apply(preprocessor)\n",
    "data['Mobile'] = data['Mobile'].apply(preprocessor)\n",
    "data['Email'] = data['Email'].apply(preprocessor)\n",
    "data['Location'] = data['Location'].apply(preprocessor)\n",
    "\n",
    "data.head()"
   ]
  },
  {
   "cell_type": "code",
   "execution_count": 6,
   "metadata": {
    "colab": {
     "base_uri": "https://localhost:8080/"
    },
    "id": "lH-fjJBg4l17",
    "outputId": "fd68cbd3-b24d-4d6b-f561-fa97bd06d964"
   },
   "outputs": [
    {
     "name": "stdout",
     "output_type": "stream",
     "text": [
      "Shape of X: (172255, 6)\n",
      "Shape of y: (172255, 1)\n"
     ]
    },
    {
     "data": {
      "text/plain": [
       "array([[0, 'abdul samad s thakur', '21 jan', '9146494301 0',\n",
       "        'info marcopower com', 'mazgaon mumbai 400010 0'],\n",
       "       [1, 'abhishek chaurasia', '25 aug', '9450720765 0',\n",
       "        'abhishek9marc gmail com', 'uttar pradesh mohammadabad 233227 0'],\n",
       "       [2, 'abhishek dwivedi', '01 jul', '8763205964 0',\n",
       "        'tejaswi_kunjir2422 rediff com', 'allahabad ghoorpur 212111 0'],\n",
       "       ...,\n",
       "       [172520, 'raju', '10 jun', '9811205236 0',\n",
       "        'info ecocontrolsystems com', 'sector 63 noida 201307 0'],\n",
       "       [172521, 'mr dinesh rastogi', '20 jan', '9820560707 0',\n",
       "        'anujapackway rediffmail com', 'sector 7 noida 201304 0'],\n",
       "       [172522, 'ashu garg', '10 jun', '9811291818 0',\n",
       "        'vikas gupta1975 yahoo com', 'kalkaji delhi 110019 0']],\n",
       "      dtype=object)"
      ]
     },
     "execution_count": 6,
     "metadata": {},
     "output_type": "execute_result"
    }
   ],
   "source": [
    "#to get the shape of the data\n",
    "X = np.array(data.loc[:, data.columns != 'label'])\n",
    "y = np.array(data.loc[:, data.columns == 'label'])\n",
    "print('Shape of X: {}'.format(X.shape))\n",
    "print('Shape of y: {}'.format(y.shape))\n",
    "X"
   ]
  },
  {
   "cell_type": "code",
   "execution_count": 7,
   "metadata": {
    "colab": {
     "base_uri": "https://localhost:8080/"
    },
    "id": "4cF49e621DZ8",
    "outputId": "3aa20c1b-be72-4de0-b4d6-6971a3e2a8bd"
   },
   "outputs": [
    {
     "data": {
      "text/plain": [
       "0         abdul samad s thakur21 jan9146494301 0info mar...\n",
       "1         abhishek chaurasia25 aug9450720765 0abhishek9m...\n",
       "2         abhishek dwivedi01 jul8763205964 0tejaswi_kunj...\n",
       "3         abhishek goel12 apr9422032359 0spect002 yahoo ...\n",
       "4         abhishek gupta17 may9899799723 0abhinavdoit si...\n",
       "                                ...                        \n",
       "172250    dharmesh patel06 jul9811079705 0contact edworl...\n",
       "172251    nirmal singh11 jun9223244209 0kamleshprince ho...\n",
       "172252    raju10 jun9811205236 0info ecocontrolsystems c...\n",
       "172253    mr dinesh rastogi20 jan9820560707 0anujapackwa...\n",
       "172254    ashu garg10 jun9811291818 0vikas gupta1975 yah...\n",
       "Length: 172255, dtype: object"
      ]
     },
     "execution_count": 7,
     "metadata": {},
     "output_type": "execute_result"
    }
   ],
   "source": [
    "#feature selection\n",
    "X_f = data['Name'] + data['DoB'] + data['Mobile'] + data['Email'] + data['Location']\n",
    "X_f"
   ]
  },
  {
   "cell_type": "code",
   "execution_count": 8,
   "metadata": {},
   "outputs": [
    {
     "name": "stdout",
     "output_type": "stream",
     "text": [
      "(172255,)\n"
     ]
    }
   ],
   "source": [
    "print(X_f.shape)"
   ]
  },
  {
   "cell_type": "code",
   "execution_count": 9,
   "metadata": {
    "colab": {
     "base_uri": "https://localhost:8080/"
    },
    "id": "o4INpQ8m1AUG",
    "outputId": "cf29e3df-aecb-4f14-a960-5c62fa7a0db6"
   },
   "outputs": [
    {
     "name": "stdout",
     "output_type": "stream",
     "text": [
      "16300\n",
      "float64\n",
      "<class 'scipy.sparse._csr.csr_matrix'>\n"
     ]
    }
   ],
   "source": [
    "##vectorization of the selected features\n",
    "from sklearn.feature_extraction.text import TfidfVectorizer\n",
    "\n",
    "tfidf_vectorizer = TfidfVectorizer(use_idf=True, norm = 'l2', smooth_idf = True)\n",
    "\n",
    "vectorized_df= tfidf_vectorizer.fit_transform(X_f)\n",
    "print(vectorized_df.shape[1])\n",
    "print(vectorized_df.dtype)\n",
    "print(type(vectorized_df))\n",
    "\n",
    "# Name 172255, 813"
   ]
  },
  {
   "cell_type": "code",
   "execution_count": 10,
   "metadata": {},
   "outputs": [
    {
     "name": "stdout",
     "output_type": "stream",
     "text": [
      "(172255, 32)\n"
     ]
    },
    {
     "data": {
      "text/plain": [
       "array([[ 2.75073328e-02,  2.37547452e-02, -8.28739377e-03, ...,\n",
       "         1.02482670e-02,  1.24232781e-05, -4.14011960e-03],\n",
       "       [ 3.36514360e-02,  2.44470837e-02,  8.24731407e-03, ...,\n",
       "        -4.75066658e-03,  1.42257607e-01,  1.91603544e-02],\n",
       "       [ 4.08502495e-03,  3.71034617e-03, -7.03614157e-04, ...,\n",
       "         6.83438275e-03, -3.23997131e-03,  1.26896515e-03],\n",
       "       ...,\n",
       "       [ 1.81083443e-01, -1.17938249e-01, -1.10852480e-02, ...,\n",
       "         7.64502700e-02,  1.93670703e-02, -3.52573822e-02],\n",
       "       [ 1.73760610e-01, -8.24339295e-02, -1.65007609e-02, ...,\n",
       "        -2.23256063e-02,  3.73359965e-02,  3.11325058e-02],\n",
       "       [ 6.47350104e-02,  4.80361820e-02, -2.13757818e-02, ...,\n",
       "        -3.66915950e-02, -5.24808952e-03, -9.13926524e-03]])"
      ]
     },
     "execution_count": 10,
     "metadata": {},
     "output_type": "execute_result"
    }
   ],
   "source": [
    " from sklearn.decomposition import TruncatedSVD        \n",
    "pca = TruncatedSVD(n_components=32)                                \n",
    "X = pca.fit_transform(vectorized_df)\n",
    "\n",
    "print(X.shape)\n",
    "X"
   ]
  },
  {
   "cell_type": "markdown",
   "metadata": {
    "id": "mUSBCwGQ5yO1"
   },
   "source": [
    "# Smote for oversampling"
   ]
  },
  {
   "cell_type": "code",
   "execution_count": 11,
   "metadata": {
    "id": "zUyvt4mD5Jj1"
   },
   "outputs": [
    {
     "name": "stdout",
     "output_type": "stream",
     "text": [
      "Before OverSampling, counts of label '1': [171429]\n",
      "Before OverSampling, counts of label '0': [826] \n",
      "\n",
      "After OverSampling, the shape of train_X: (342858, 32)\n",
      "After OverSampling, the shape of train_y: (342858,) \n",
      "\n",
      "After OverSampling, counts of label '1': 171429\n",
      "After OverSampling, counts of label '0': 171429\n"
     ]
    }
   ],
   "source": [
    "print(\"Before OverSampling, counts of label '1': {}\".format(sum(y==1)))\n",
    "print(\"Before OverSampling, counts of label '0': {} \\n\".format(sum(y==0)))\n",
    "\n",
    "#to deal with the oversmapling smote is used\n",
    "sm = SMOTE(random_state=2)\n",
    "X_smote, y_smote = sm.fit_resample(X, y.ravel())\n",
    "\n",
    "print('After OverSampling, the shape of train_X: {}'.format(X_smote.shape))\n",
    "print('After OverSampling, the shape of train_y: {} \\n'.format(y_smote.shape))\n",
    "\n",
    "print(\"After OverSampling, counts of label '1': {}\".format(sum(y_smote==1)))\n",
    "print(\"After OverSampling, counts of label '0': {}\".format(sum(y_smote==0)))"
   ]
  },
  {
   "cell_type": "code",
   "execution_count": 12,
   "metadata": {},
   "outputs": [
    {
     "name": "stdout",
     "output_type": "stream",
     "text": [
      "[0 1 1 0 0 1 0 1 1 1 0 1 0 0 0 1 1 0 1 1 1 0 0 1 1 0 0 1 1 0 0 0 0 0 0 0 1\n",
      " 0 0 0 0 1 0 1 1 1 0 0 0 1 0 1 0 0 0 1 1 1 1 0 0 0 0 0 0 0 1 0 1 0 1 0 0 1\n",
      " 0 0 1 0 0 0 0 0 1 1 1 0 1 0 1 0 1 0 0 1 1 1 0 0 0 1 1 0 0 0 0 1 0 1 1 0 0\n",
      " 0 0 0 1 0 0 1 1 1 1 1 1 1 1 0 0 0 1 0 1 1 0 1 1 0 0 0 0 0 1 1 0 0 1 1 1 1\n",
      " 0 1 0 0 0 0 0 0 0 0 1 0 0 1 0 0 0 1 1 1 1 1 1 1 0 1 1 0 0 0 1 1 0 0 0 0 0\n",
      " 0 0 0 1 1 1 0 0 0 0 0 0 0 1 1 0 1 1 1 0 1 0 1 0 1 1 1 0 0 0 1 1 0 0 0 0 1\n",
      " 1 1 1 0 1 1 0 1 0 0 0 1 0 0 0 1 0 1 0 0 0 1 0 0 0 1 1 1 0 1 0 0 0 1 0 0 0\n",
      " 0 0 1 0 1 0 1 0 0 0 1 1 1 0 1 1 1 0 1 0 0 1 0 1 1 1 0 0 0 0 0 0 1 0 0 0 1\n",
      " 1 0 0 0 1 1 0 1 1 1 1 0 0 0 0 1 1 0 1 0 0 0 1 0 1 0 1 1 0 1 1 0 1 1 0 1 1\n",
      " 1 1 0 0 0 1 0 0 1 0 0 1 0 1 1 1 1 1 0 0 0 0 0 0 0 1 0 0 0 0 1 0 0 1 1 1 0\n",
      " 0 1 1 0 0 1 0 0 1 0 0 1 0 1 1 0 1 0 1 1 1 1 1 0 0 1 1 0 1 1 0 0 1 0 1 1 0\n",
      " 0 0 1 0 1 0 0 0 1 1 1 1 0 1 1 0 0 0 1 0 1 1 1 1 0 0 1 1 0 0 1 0 0 1 1 0 1\n",
      " 1 0 0 0 0 0 1 1 1 0 0 1 1 0 0 1 1 1 0 0 1 0 1 1 0 1 1 0 0 0 0 0 1 0 1 0 1\n",
      " 0 0 0 0 1 1 0 1 1 1 1 1 1 1 0 0 0 0 1 0 1 0 0 0 0 0 1 1 0 0 1 0 0 1 1 0 0\n",
      " 1 1 0 0 1 0 0 0 1 0 1 1 0 0 0 1 0 1 0 1 0 1 1 0 0 0 1 1 1 1 0 1 1 0 1 1 1\n",
      " 1 0 1 1 1 1 0 0 1 0 1 0 1 1 0 1 0 1 0 1 0 0 0 1 1 0 1 0 1 1 0 1 0 1 1 1 1\n",
      " 1 0 1 0 0 1 1 1 0 1 0 1 0 0 0 0 0 1 1 0 1 0 0 1 0 0 1 1 0 0 0 0 1 0 0 1 0\n",
      " 0 0 1 1 0 0 0 1 1 0 0 0 0 0 1 1 1 1 1 0 0 1 1 0 0 1 0 0 1 1 0 0 1 0 1 1 0\n",
      " 1 1 1 0 1 0 0 0 0 0 0 1 0 1 0 1 0 0 1 0 1 0 0 0 0 0 1 1 1 1 0 0 1 1 1 0 1\n",
      " 0 1 0 1 0 0 0 1 1 1 0 0 1 1 0 0 0 1 1 1 0 1 1 0 1 0 0 1 0 1 1 1 0 1 0 1 1\n",
      " 0 1 0 0 0 0 0 0 1 1 0 0 0 1 1 1 1 1 1 0 1 0 0 0 1 0 0 1 1 0 0 0 1 0 1 1 0\n",
      " 1 0 0 1 0 0 1 0 0 1 1 1 1 1 1 1 1 1 1 1 0 1 0 0 1 0 0 0 1 1 0 1 1 0 1 1 1\n",
      " 0 0 0 1 1 1 0 0 1 1 1 1 1 0 1 0 0 1 1 0 0 0 1 0 1 0 0 1 0 1 0 1 0 1 1 0 1\n",
      " 1 1 0 1 1 1 1 0 0 1 0 1 1 0 1 1 1 0 1 1 0 1 0 1 0 0 1 1 0 0 1 1 0 0 1 0 1\n",
      " 0 0 1 1 0 1 1 0 0 1 1 1 0 1 0 1 1 1 0 1 1 0 0 1 1 1 1 1 1 1 0 1 0 1 1 0 0\n",
      " 1 1 0 0 0 0 0 0 0 0 1 0 0 0 1 1 0 1 1 1 1 1 0 1 0 1 1 0 1 1 0 0 1 1 0 1 0\n",
      " 0 0 1 0 1 1 1 0 0 0 1 1 1 1 0 0 0 0 0 0 0 0 0 0 0 1 1 1 1 1 1 0 0 1 0 0 0\n",
      " 0]\n"
     ]
    }
   ],
   "source": [
    "from sklearn.utils import shuffle\n",
    "\n",
    "X_smote, y_smote = shuffle(X_smote, y_smote)\n",
    "print(y_smote[0:1000])"
   ]
  },
  {
   "cell_type": "code",
   "execution_count": 13,
   "metadata": {},
   "outputs": [
    {
     "name": "stdout",
     "output_type": "stream",
     "text": [
      "Number of identities X_train dataset:  (120578, 32)\n",
      "Number of identities y_train dataset:  (120578, 1)\n",
      "Number of identities X_test dataset:  (51677, 32)\n",
      "Number of identities y_test dataset:  (51677, 1)\n"
     ]
    }
   ],
   "source": [
    "#split the data in test and train in 20:80 ration and thier shape\n",
    "X_train, X_test, y_train, y_test = train_test_split(X, y, test_size = 0.30, random_state=0)\n",
    "\n",
    "print(\"Number of identities X_train dataset: \", X_train.shape)\n",
    "print(\"Number of identities y_train dataset: \", y_train.shape)\n",
    "print(\"Number of identities X_test dataset: \", X_test.shape)\n",
    "print(\"Number of identities y_test dataset: \", y_test.shape)"
   ]
  },
  {
   "cell_type": "code",
   "execution_count": 14,
   "metadata": {},
   "outputs": [
    {
     "name": "stdout",
     "output_type": "stream",
     "text": [
      "Number of identities X_train dataset:  (240000, 32)\n",
      "Number of identities y_train dataset:  (240000,)\n",
      "Number of identities X_test dataset:  (102858, 32)\n",
      "Number of identities y_test dataset:  (102858,)\n"
     ]
    }
   ],
   "source": [
    "#split the smote data in test and train in 20:80 ration and thier shape\n",
    "X_train_smote, X_test_smote, y_train_smote, y_test_smote = train_test_split(X_smote, y_smote, test_size = 0.30, random_state=0)\n",
    "\n",
    "print(\"Number of identities X_train dataset: \", X_train_smote.shape)\n",
    "print(\"Number of identities y_train dataset: \", y_train_smote.shape)\n",
    "print(\"Number of identities X_test dataset: \", X_test_smote.shape)\n",
    "print(\"Number of identities y_test dataset: \", y_test_smote.shape)"
   ]
  },
  {
   "cell_type": "code",
   "execution_count": 1,
   "metadata": {},
   "outputs": [
    {
     "ename": "NameError",
     "evalue": "name 'y_train' is not defined",
     "output_type": "error",
     "traceback": [
      "\u001b[1;31m---------------------------------------------------------------------------\u001b[0m",
      "\u001b[1;31mNameError\u001b[0m                                 Traceback (most recent call last)",
      "\u001b[1;32m~\\AppData\\Local\\Temp\\ipykernel_27392\\3048661529.py\u001b[0m in \u001b[0;36m<module>\u001b[1;34m\u001b[0m\n\u001b[0;32m      1\u001b[0m \u001b[1;31m# train data without smote\u001b[0m\u001b[1;33m\u001b[0m\u001b[1;33m\u001b[0m\u001b[0m\n\u001b[0;32m      2\u001b[0m \u001b[1;33m\u001b[0m\u001b[0m\n\u001b[1;32m----> 3\u001b[1;33m \u001b[0my_train_res\u001b[0m \u001b[1;33m=\u001b[0m \u001b[0my_train\u001b[0m\u001b[1;33m.\u001b[0m\u001b[0mreshape\u001b[0m\u001b[1;33m(\u001b[0m\u001b[1;33m-\u001b[0m\u001b[1;36m1\u001b[0m\u001b[1;33m,\u001b[0m \u001b[1;36m1\u001b[0m\u001b[1;33m)\u001b[0m \u001b[1;31m# reshaping y_train to (,1)\u001b[0m\u001b[1;33m\u001b[0m\u001b[1;33m\u001b[0m\u001b[0m\n\u001b[0m\u001b[0;32m      4\u001b[0m \u001b[0mdata_res\u001b[0m \u001b[1;33m=\u001b[0m \u001b[0mnp\u001b[0m\u001b[1;33m.\u001b[0m\u001b[0mconcatenate\u001b[0m\u001b[1;33m(\u001b[0m\u001b[1;33m(\u001b[0m\u001b[0mX_train\u001b[0m\u001b[1;33m,\u001b[0m \u001b[0my_train_res\u001b[0m\u001b[1;33m)\u001b[0m\u001b[1;33m,\u001b[0m \u001b[0maxis\u001b[0m \u001b[1;33m=\u001b[0m \u001b[1;36m1\u001b[0m\u001b[1;33m)\u001b[0m\u001b[1;33m\u001b[0m\u001b[1;33m\u001b[0m\u001b[0m\n\u001b[0;32m      5\u001b[0m \u001b[1;33m\u001b[0m\u001b[0m\n",
      "\u001b[1;31mNameError\u001b[0m: name 'y_train' is not defined"
     ]
    }
   ],
   "source": [
    "# train data without smote\n",
    "\n",
    "y_train_res = y_train.reshape(-1, 1) # reshaping y_train to (,1)\n",
    "data_res = np.concatenate((X_train, y_train_res), axis = 1)\n",
    "\n",
    "columnNames=[\"Type%d\" % (i+1) for i in range(data_res.shape[1])]\n",
    "np.savetxt('synid_train.csv', data_res, delimiter=\",\", comments='', header=','.join(columnNames))"
   ]
  },
  {
   "cell_type": "code",
   "execution_count": 16,
   "metadata": {},
   "outputs": [],
   "source": [
    "# test data without smote\n",
    "\n",
    "y_test_res = y_test.reshape(-1, 1) # reshaping y_test to (,1)\n",
    "data_res = np.concatenate((X_test, y_test_res), axis = 1)\n",
    "columnNames=[\"Type%d\" % (i+1) for i in range(data_res.shape[1])]\n",
    "np.savetxt('synid_test.csv', data_res, delimiter=\",\", comments='', header=','.join(columnNames))"
   ]
  },
  {
   "cell_type": "code",
   "execution_count": 17,
   "metadata": {
    "id": "XYRD3AEX5gVq"
   },
   "outputs": [],
   "source": [
    "# train data with smote\n",
    "\n",
    "y_train_sm = y_train_smote.reshape(-1, 1) # reshaping y_train to (,1)\n",
    "data_res = np.concatenate((X_train_smote, y_train_sm), axis = 1)\n",
    "columnNames=[\"Type%d\" % (i+1) for i in range(data_res.shape[1])]\n",
    "np.savetxt('synid_train_SMOTE.csv', data_res, delimiter=\",\", comments='', header=','.join(columnNames))"
   ]
  },
  {
   "cell_type": "code",
   "execution_count": 18,
   "metadata": {},
   "outputs": [],
   "source": [
    "# test data with smote\n",
    "\n",
    "y_test_sm = y_test_smote.reshape(-1, 1) # reshaping y_test to (,1)\n",
    "data_res = np.concatenate((X_test_smote, y_test_sm), axis = 1)\n",
    "columnNames=[\"Type%d\" % (i+1) for i in range(data_res.shape[1])]\n",
    "np.savetxt('synid_test_SMOTE.csv', data_res, delimiter=\",\", comments='', header=','.join(columnNames))"
   ]
  },
  {
   "cell_type": "markdown",
   "metadata": {
    "id": "lWJC5YJs6lsy"
   },
   "source": [
    "# Model code"
   ]
  },
  {
   "cell_type": "code",
   "execution_count": 19,
   "metadata": {
    "id": "m08qzNbJ6Rrk"
   },
   "outputs": [],
   "source": [
    "#function to process data in float\n",
    "class PeopleDataset(T.utils.data.Dataset):\n",
    "    def __init__(self, src_file, num_rows=None):\n",
    "        df = pd.read_csv(src_file)\n",
    "#         n = 137796  (without smote)\n",
    "#         n = 274272\n",
    "#         df = df1.head(n)\n",
    "        print(df.columns)\n",
    "        df.label = df.label.astype('float64')\n",
    "        y_tmp = df['label'].values\n",
    "        x_tmp = df.drop('label', axis=1).values\n",
    "                \n",
    "\n",
    "        self.x_data = T.tensor(x_tmp,dtype=T.float64).to(device)\n",
    "        self.y_data = T.tensor(y_tmp,dtype=T.float64).to(device)\n",
    "\n",
    "        print(type(self.x_data))\n",
    "        print(len(self.x_data))\n",
    "\n",
    "    def __len__(self):\n",
    "        return len(self.x_data)\n",
    "\n",
    "    def __getitem__(self, idx):\n",
    "        if T.is_tensor(idx):\n",
    "            idx = idx.tolist()\n",
    "        preds = self.x_data[idx].type(T.FloatTensor)\n",
    "        pol = self.y_data[idx].type(T.LongTensor)\n",
    "        sample = [preds, pol]\n",
    "        return sample"
   ]
  },
  {
   "cell_type": "code",
   "execution_count": 31,
   "metadata": {},
   "outputs": [],
   "source": [
    "mp = {}\n",
    "mp_logistic = {}\n",
    "mp['mp_logistic'] = mp_logistic"
   ]
  },
  {
   "cell_type": "code",
   "execution_count": 68,
   "metadata": {
    "id": "tMm0H7zb6vWm"
   },
   "outputs": [],
   "source": [
    "#model nueral network\n",
    "#can be used any other model too\n",
    "input_size = 32\n",
    "class MLPUpdated(nn.Module):\n",
    "    def __init__(self):\n",
    "        super(MLPUpdated, self).__init__()\n",
    "        self.layers = nn.Sequential(\n",
    "            nn.Linear(input_size, 1),\n",
    "            nn.Sigmoid()\n",
    "        )\n",
    "\n",
    "    def forward(self, x):\n",
    "        return self.layers(x)\n",
    "    \n",
    "    \n",
    "#Logistic regression\n",
    "# nn.Linear(input_size, 1)\n",
    "# nn.Sigmoid()"
   ]
  },
  {
   "cell_type": "code",
   "execution_count": 69,
   "metadata": {
    "id": "CBroJ8Ji65hi"
   },
   "outputs": [],
   "source": [
    "#lists to store evaluation data\n",
    "fed_acc, fed_pre, fed_recall, fed_f1 = list(), list(), list(), list()"
   ]
  },
  {
   "cell_type": "markdown",
   "metadata": {
    "id": "GPCJeYu97EQY"
   },
   "source": [
    "# federated learning"
   ]
  },
  {
   "cell_type": "code",
   "execution_count": 83,
   "metadata": {
    "id": "fkKLMBXO7Ci2"
   },
   "outputs": [],
   "source": [
    "# Can be changed to 12,16,24,32\n",
    "num_clients = 32\n",
    "# Change it to 3, 6, 10, 16\n",
    "num_selected = 16\n",
    "num_rounds = 3\n",
    "epochs = 5\n",
    "batch_size = 1024\n",
    "device = \"cpu\"\n",
    "device = torch.device(device)\n",
    "fed_acc, fed_pre, fed_recall, fed_f1 = list(), list(), list(), list()\n",
    "     "
   ]
  },
  {
   "cell_type": "code",
   "execution_count": 84,
   "metadata": {
    "id": "uEJhHOA67KdM"
   },
   "outputs": [
    {
     "name": "stdout",
     "output_type": "stream",
     "text": [
      "Index(['1', '2', '3', '4', '5', '6', '7', '8', '9', '10', '11', '12', '13',\n",
      "       '14', '15', '16', '17', '18', '19', '20', '21', '22', '23', '24', '25',\n",
      "       '26', '27', '28', '29', '30', '31', '32', 'label'],\n",
      "      dtype='object')\n",
      "<class 'torch.Tensor'>\n",
      "240000\n",
      "240000\n",
      "32\n",
      "Index(['1', '2', '3', '4', '5', '6', '7', '8', '9', '10', '11', '12', '13',\n",
      "       '14', '15', '16', '17', '18', '19', '20', '21', '22', '23', '24', '25',\n",
      "       '26', '27', '28', '29', '30', '31', '32', 'label'],\n",
      "      dtype='object')\n",
      "<class 'torch.Tensor'>\n",
      "102858\n",
      "101\n"
     ]
    }
   ],
   "source": [
    "# Dividing the training data into num_clients, with each client having equal number of data\n",
    "traindata = PeopleDataset('synid_train_SMOTE.csv')\n",
    "# traindata = PeopleDataset(X_train_res, y_train_res)\n",
    "print(len(traindata))\n",
    "traindata_split = torch.utils.data.random_split(traindata, [int(len(traindata) / num_clients) for _ in range(num_clients)])\n",
    "train_loader = [torch.utils.data.DataLoader(x, batch_size=batch_size, shuffle=True) for x in traindata_split]\n",
    "print(len(train_loader))\n",
    "\n",
    "\n",
    "test_ds = PeopleDataset('synid_test_SMOTE.csv')\n",
    "test_loader = T.utils.data.DataLoader(test_ds,batch_size=batch_size, shuffle=True)\n",
    "print(len(test_loader))"
   ]
  },
  {
   "cell_type": "code",
   "execution_count": 85,
   "metadata": {
    "id": "hS7S6Rwb7fAR"
   },
   "outputs": [],
   "source": [
    "def client_update(client_model, optimizer, train_loader, epoch=5):\n",
    "    \"\"\"\n",
    "    This function updates/trains client model on client data\n",
    "    \"\"\"\n",
    "    model.train()\n",
    "    for e in range(epoch):\n",
    "        for batch_idx, (data, target) in enumerate(train_loader):\n",
    "            data, target = data.to(device), target.to(device)\n",
    "            optimizer.zero_grad()\n",
    "            output = client_model(data)\n",
    "            binary_loss = torch.nn.BCEWithLogitsLoss()\n",
    "            target = target.unsqueeze(1)\n",
    "            target = target.float()\n",
    "            loss = binary_loss(output, target)\n",
    "            loss.backward()\n",
    "            optimizer.step()\n",
    "    return loss.item()"
   ]
  },
  {
   "cell_type": "code",
   "execution_count": 86,
   "metadata": {
    "id": "nGiK4QId7j8E"
   },
   "outputs": [],
   "source": [
    "def server_aggregate(global_model, client_models):\n",
    "    \"\"\"\n",
    "    This function has aggregation method 'mean'\n",
    "    \"\"\"\n",
    "    ### This will take simple mean of the weights of models ###\n",
    "    global_dict = global_model.state_dict()\n",
    "    for k in global_dict.keys():\n",
    "        global_dict[k] = torch.stack([client_models[i].state_dict()[k].float() for i in range(len(client_models))], 0).mean(0)\n",
    "    global_model.load_state_dict(global_dict)\n",
    "    for model in client_models:\n",
    "        model.load_state_dict(global_model.state_dict())"
   ]
  },
  {
   "cell_type": "code",
   "execution_count": 87,
   "metadata": {
    "id": "m-3obLEg7rhp"
   },
   "outputs": [],
   "source": [
    "def test(global_model, test_loader):\n",
    "    \"\"\"This function test the global model on test data and returns test loss and test accuracy \"\"\"\n",
    "    model.eval()\n",
    "    test_loss = 0\n",
    "    correct = 0\n",
    "    actuals, predictions = list(), list()\n",
    "    with torch.no_grad():\n",
    "        for data, target in test_loader:\n",
    "            data, target = data.to(device), target.to(device)\n",
    "            output = global_model(data)\n",
    "            binary_loss = torch.nn.BCEWithLogitsLoss()\n",
    "            target = target.unsqueeze(1)\n",
    "            target = target.float()\n",
    "            test_loss += binary_loss(output, target)\n",
    "            pred = output.argmax(dim=1, keepdim=True)  # get the index of the max log-probability\n",
    "            correct += pred.eq(target.view_as(pred)).sum().item()\n",
    "            actual = target.numpy()\n",
    "            pr = output.detach().numpy()\n",
    "            pr = pr.round()\n",
    "            predictions.append(pr)\n",
    "            actuals.append(actual)\n",
    "\n",
    "    test_loss /= len(test_loader.dataset)\n",
    "    predictions, actuals = vstack(predictions), vstack(actuals)\n",
    "    # calculate accuracy\n",
    "    acc = accuracy_score(actuals, predictions)\n",
    "    # calculate precision\n",
    "    prescision = precision_score(actuals, predictions)\n",
    "    # calculate recall\n",
    "    recall = recall_score(actuals, predictions)\n",
    "    # calculate f1\n",
    "    f1 = f1_score(actuals, predictions)\n",
    "    fed_acc.append(acc)\n",
    "    fed_pre.append(prescision)\n",
    "    fed_recall.append(recall)\n",
    "    fed_f1.append(f1)\n",
    "    print()\n",
    "    print(confusion_matrix(actuals, predictions))\n",
    "    return test_loss, acc, prescision, recall, f1"
   ]
  },
  {
   "cell_type": "code",
   "execution_count": 88,
   "metadata": {
    "id": "pLBt72dg7tFI"
   },
   "outputs": [],
   "source": [
    "\n",
    "###########################################\n",
    "#### Initializing models and optimizer  ####\n",
    "############################################\n",
    "\n",
    "#### global model ##########\n",
    "# global_model =  MLPUpdated().cuda()\n",
    "global_model = MLPUpdated().to(device)\n",
    "\n",
    "############## client models ##############\n",
    "# client_models = [ MLPUpdated().cuda() for _ in range(num_selected)]\n",
    "client_models = [ MLPUpdated().to(device) for _ in range(num_selected)]\n",
    "for model in client_models:\n",
    "    model.load_state_dict(global_model.state_dict()) ### initial synchronizing with global model \n",
    "\n",
    "############### optimizers ################\n",
    "opt = [optim.SGD(model.parameters(), lr=0.01) for model in client_models]\n",
    "     "
   ]
  },
  {
   "cell_type": "code",
   "execution_count": 89,
   "metadata": {
    "id": "kjFeYaD478MR"
   },
   "outputs": [
    {
     "name": "stderr",
     "output_type": "stream",
     "text": [
      "100%|██████████████████████████████████████████████████████████████████████████████████| 16/16 [00:18<00:00,  1.18s/it]\n"
     ]
    },
    {
     "name": "stdout",
     "output_type": "stream",
     "text": [
      "\n",
      "[[47995  3605]\n",
      " [46050  5208]]\n",
      "0-th round\n",
      "average train loss 0.722 | test loss 0.000711 | test acc: 0.517 | test prescision: 0.591 | test recall: 0.102 | test f1: 0.173\n"
     ]
    },
    {
     "name": "stderr",
     "output_type": "stream",
     "text": [
      "100%|██████████████████████████████████████████████████████████████████████████████████| 16/16 [00:22<00:00,  1.38s/it]\n"
     ]
    },
    {
     "name": "stdout",
     "output_type": "stream",
     "text": [
      "\n",
      "[[49266  2334]\n",
      " [48200  3058]]\n",
      "1-th round\n",
      "average train loss 0.718 | test loss 0.00071 | test acc: 0.509 | test prescision: 0.567 | test recall: 0.060 | test f1: 0.108\n"
     ]
    },
    {
     "name": "stderr",
     "output_type": "stream",
     "text": [
      "100%|██████████████████████████████████████████████████████████████████████████████████| 16/16 [00:20<00:00,  1.28s/it]\n"
     ]
    },
    {
     "name": "stdout",
     "output_type": "stream",
     "text": [
      "\n",
      "[[49777  1823]\n",
      " [49068  2190]]\n",
      "2-th round\n",
      "average train loss 0.727 | test loss 0.00071 | test acc: 0.505 | test prescision: 0.546 | test recall: 0.043 | test f1: 0.079\n",
      "--- 72.02158212661743 seconds ---\n"
     ]
    }
   ],
   "source": [
    "\n",
    "###### List containing info about learning #########\n",
    "losses_train = []\n",
    "losses_test = []\n",
    "acc_train = []\n",
    "acc_test = []\n",
    "# Runnining FL\n",
    "\n",
    "import time\n",
    "start_time = time.time()\n",
    "for r in range(num_rounds):\n",
    "    # select random clients\n",
    "    client_idx = np.random.permutation(num_clients)[:num_selected]\n",
    "    # client update\n",
    "    loss = 0\n",
    "    for i in tqdm(range(num_selected)):\n",
    "        loss += client_update(client_models[i], opt[i], train_loader[client_idx[i]], epoch=epochs)\n",
    "    \n",
    "    losses_train.append(loss)\n",
    "    # server aggregate\n",
    "    server_aggregate(global_model, client_models)\n",
    "    \n",
    "    test_loss, acc, prescision, recall, f1= test(global_model, test_loader)\n",
    "    losses_test.append(test_loss)\n",
    "    acc_test.append(acc)\n",
    "    print('%d-th round' % r)\n",
    "    print('average train loss %0.3g | test loss %0.3g | test acc: %0.3f | test prescision: %0.3f | test recall: %0.3f | test f1: %0.3f' % (loss / num_selected, test_loss, acc, prescision, recall, f1))\n",
    "\n",
    "print(\"--- %s seconds ---\" % (time.time() - start_time))\n",
    "# time[24]['fed'] = (time.time() - start_time)"
   ]
  },
  {
   "cell_type": "code",
   "execution_count": 90,
   "metadata": {
    "id": "r99JBMlw79Dq"
   },
   "outputs": [
    {
     "name": "stdout",
     "output_type": "stream",
     "text": [
      "3\n",
      "3\n",
      "3\n",
      "3\n"
     ]
    }
   ],
   "source": [
    "print(len(fed_acc))\n",
    "print(len(fed_pre))\n",
    "print(len(fed_recall))\n",
    "print(len(fed_f1))"
   ]
  },
  {
   "cell_type": "code",
   "execution_count": 91,
   "metadata": {
    "id": "QPUZhSRP8Ccy"
   },
   "outputs": [
    {
     "name": "stdout",
     "output_type": "stream",
     "text": [
      "{3: {'fed_acc': [0.5152929281144879, 0.5047444049077369, 0.5024791460071166], 'fed_pre': [0.5814737331473733, 0.5980210265924552, 0.75], 'fed_recall': [0.09760427640563424, 0.018865347848140777, 0.002458152873697764], 'fed_f1': [0.16715111422939424, 0.03657683215130024, 0.004900245012250612]}, 6: {'fed_acc': [0.5016624861459488, 0.5016624861459488, 0.5016624861459488], 'fed_pre': [0.0, 0.0, 0.0], 'fed_recall': [0.0, 0.0, 0.0], 'fed_f1': [0.0, 0.0, 0.0]}, 10: {'fed_acc': [0.5276497695852534, 0.5255886756499252, 0.5161776429640864], 'fed_pre': [0.5377382465057179, 0.5649511744523621, 0.5746425357464253], 'fed_recall': [0.37153224862460493, 0.2088064302157712, 0.1121190838503258], 'fed_f1': [0.4394448098023606, 0.3049157443414099, 0.18762957279746653]}, 16: {'fed_acc': [0.517247078496568, 0.508701316377919, 0.5052305119679559], 'fed_pre': [0.5909451945988881, 0.5671364985163204, 0.5457263892349863], 'fed_recall': [0.10160365211284092, 0.059658980061648915, 0.04272503804284209], 'fed_f1': [0.17339481613424115, 0.1079611650485437, 0.07924589748692804]}}\n",
      "4\n"
     ]
    }
   ],
   "source": [
    "mp_logistic[num_selected] = {'fed_acc': fed_acc, 'fed_pre': fed_pre, 'fed_recall': fed_recall, 'fed_f1': fed_f1}\n",
    "print(mp_logistic)\n",
    "print(len(mp_logistic))"
   ]
  },
  {
   "cell_type": "code",
   "execution_count": 92,
   "metadata": {},
   "outputs": [
    {
     "name": "stdout",
     "output_type": "stream",
     "text": [
      "{'fed_acc': [0.517247078496568, 0.508701316377919, 0.5052305119679559], 'fed_pre': [0.5909451945988881, 0.5671364985163204, 0.5457263892349863], 'fed_recall': [0.10160365211284092, 0.059658980061648915, 0.04272503804284209], 'fed_f1': [0.17339481613424115, 0.1079611650485437, 0.07924589748692804]}\n"
     ]
    }
   ],
   "source": [
    "print(mp['mp_logistic'][num_selected])"
   ]
  },
  {
   "cell_type": "code",
   "execution_count": 95,
   "metadata": {},
   "outputs": [
    {
     "name": "stdout",
     "output_type": "stream",
     "text": [
      "{'fed_acc': [0.517247078496568, 0.508701316377919, 0.5052305119679559], 'fed_pre': [0.5909451945988881, 0.5671364985163204, 0.5457263892349863], 'fed_recall': [0.10160365211284092, 0.059658980061648915, 0.04272503804284209], 'fed_f1': [0.17339481613424115, 0.1079611650485437, 0.07924589748692804]}\n"
     ]
    },
    {
     "data": {
      "text/plain": [
       "4"
      ]
     },
     "execution_count": 95,
     "metadata": {},
     "output_type": "execute_result"
    }
   ],
   "source": [
    "print(mp['mp_logistic'][16])\n",
    "len(mp['mp_logistic'][16])"
   ]
  },
  {
   "cell_type": "code",
   "execution_count": 96,
   "metadata": {},
   "outputs": [
    {
     "name": "stdout",
     "output_type": "stream",
     "text": [
      "{'fed_acc': [0.5152929281144879, 0.5047444049077369, 0.5024791460071166], 'fed_pre': [0.5814737331473733, 0.5980210265924552, 0.75], 'fed_recall': [0.09760427640563424, 0.018865347848140777, 0.002458152873697764], 'fed_f1': [0.16715111422939424, 0.03657683215130024, 0.004900245012250612]}\n"
     ]
    },
    {
     "data": {
      "text/plain": [
       "4"
      ]
     },
     "execution_count": 96,
     "metadata": {},
     "output_type": "execute_result"
    }
   ],
   "source": [
    "print(mp['mp_logistic'][3])\n",
    "len(mp['mp_logistic'][3])"
   ]
  },
  {
   "cell_type": "code",
   "execution_count": 103,
   "metadata": {},
   "outputs": [
    {
     "name": "stdout",
     "output_type": "stream",
     "text": [
      "[0.5152929281144879, 0.5047444049077369, 0.5024791460071166]\n",
      "[0.5016624861459488, 0.5016624861459488, 0.5016624861459488]\n",
      "[0.5276497695852534, 0.5255886756499252, 0.5161776429640864]\n",
      "[0.517247078496568, 0.508701316377919, 0.5052305119679559]\n"
     ]
    }
   ],
   "source": [
    "print(mp['mp_logistic'][3]['fed_acc'])\n",
    "print(mp['mp_logistic'][6]['fed_acc'])\n",
    "print(mp['mp_logistic'][10]['fed_acc'])\n",
    "print(mp['mp_logistic'][16]['fed_acc'])"
   ]
  },
  {
   "cell_type": "markdown",
   "metadata": {},
   "source": [
    "## Graphs"
   ]
  },
  {
   "cell_type": "code",
   "execution_count": 108,
   "metadata": {},
   "outputs": [
    {
     "name": "stdout",
     "output_type": "stream",
     "text": [
      "Number of Rounds:  3\n"
     ]
    },
    {
     "data": {
      "text/plain": [
       "[Text(0.5, 0, 'Rounds'), Text(0, 0.5, 'F1-Score')]"
      ]
     },
     "execution_count": 108,
     "metadata": {},
     "output_type": "execute_result"
    },
    {
     "data": {
      "image/png": "[encoded data removed]",
      "text/plain": [
       "<Figure size 2550x1050 with 4 Axes>"
      ]
     },
     "metadata": {},
     "output_type": "display_data"
    }
   ],
   "source": [
    "import seaborn as sns\n",
    "import matplotlib.pyplot as plt\n",
    "x = [i for i in range(1,4)]\n",
    "\n",
    "print(\"Number of Rounds: \", 3)\n",
    "\n",
    "fig, axs = plt.subplots(2,2)\n",
    "fig.set_size_inches(25.5, 10.5)\n",
    "\n",
    "\n",
    "sns.lineplot(x=x,y=mp['mp_logistic'][3]['fed_acc'], ax=axs[0][0], legend='brief', label=\"3 Clients\")\n",
    "# sns.lineplot(x=x,y=mp['mp_logistic'][6]['fed_acc'], ax=axs[0][0], legend='brief', label=\"6 Clients\")\n",
    "sns.lineplot(x=x,y=mp['mp_logistic'][10]['fed_acc'], ax=axs[0][0], legend='brief', label=\"10 Clients\")\n",
    "sns.lineplot(x=x,y=mp['mp_logistic'][16]['fed_acc'], ax=axs[0][0], legend='brief', label=\"16 Clients\")\n",
    "axs[0][0].set(xlabel=\"Rounds\", ylabel = \"Accuracy\")\n",
    "\n",
    "sns.lineplot(x=x,y=mp['mp_logistic'][3]['fed_pre'], ax=axs[0][1], legend='brief', label=\"3 Clients\")\n",
    "# sns.lineplot(x=x,y=mp['mp_logistic'][6]['fed_pre'], ax=axs[0][1], legend='brief', label=\"6 Clients\")\n",
    "sns.lineplot(x=x,y=mp['mp_logistic'][10]['fed_pre'], ax=axs[0][1], legend='brief', label=\"10 Clients\")\n",
    "sns.lineplot(x=x,y=mp['mp_logistic'][16]['fed_pre'], ax=axs[0][1], legend='brief', label=\"16 Clients\")\n",
    "axs[0][1].set(xlabel=\"Rounds\", ylabel = \"Precision\")\n",
    "\n",
    "sns.lineplot(x=x,y=mp['mp_logistic'][3]['fed_recall'], ax=axs[1][0], legend='brief', label=\"3 Clients\")\n",
    "# sns.lineplot(x=x,y=mp['mp_logistic'][6]['fed_recall'], ax=axs[1][0], legend='brief', label=\"6 Clients\")\n",
    "sns.lineplot(x=x,y=mp['mp_logistic'][10]['fed_recall'], ax=axs[1][0], legend='brief', label=\"10 Clients\")\n",
    "sns.lineplot(x=x,y=mp['mp_logistic'][16]['fed_recall'], ax=axs[1][0], legend='brief', label=\"16 Clients\")\n",
    "axs[1][0].set(xlabel=\"Rounds\", ylabel = \"Recall\")\n",
    "\n",
    "sns.lineplot(x=x,y=mp['mp_logistic'][3]['fed_f1'], ax=axs[1][1], legend='brief', label=\"3 Clients\")\n",
    "# sns.lineplot(x=x,y=mp['mp_logistic'][6]['fed_f1'], ax=axs[1][1], legend='brief', label=\"6 Clients\")\n",
    "sns.lineplot(x=x,y=mp['mp_logistic'][10]['fed_f1'], ax=axs[1][1], legend='brief', label=\"10 Clients\")\n",
    "sns.lineplot(x=x,y=mp['mp_logistic'][16]['fed_f1'], ax=axs[1][1], legend='brief', label=\"16 Clients\")\n",
    "axs[1][1].set(xlabel=\"Rounds\", ylabel = \"F1-Score\")"
   ]
  },
  {
   "cell_type": "code",
   "execution_count": null,
   "metadata": {},
   "outputs": [],
   "source": []
  }
 ],
 "metadata": {
  "accelerator": "GPU",
  "colab": {
   "provenance": []
  },
  "gpuClass": "standard",
  "kernelspec": {
   "display_name": "Python 3 (ipykernel)",
   "language": "python",
   "name": "python3"
  },
  "language_info": {
   "codemirror_mode": {
    "name": "ipython",
    "version": 3
   },
   "file_extension": ".py",
   "mimetype": "text/x-python",
   "name": "python",
   "nbconvert_exporter": "python",
   "pygments_lexer": "ipython3",
   "version": "3.9.13"
  }
 },
 "nbformat": 4,
 "nbformat_minor": 1
}
